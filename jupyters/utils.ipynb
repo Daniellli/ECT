{
 "cells": [
  {
   "cell_type": "code",
   "execution_count": 5,
   "metadata": {},
   "outputs": [],
   "source": [
    "import os\n",
    "from os.path import join,split,isdir,isfile,exists\n",
    "\n",
    "\n",
    "import shutil\n"
   ]
  },
  {
   "cell_type": "code",
   "execution_count": 10,
   "metadata": {},
   "outputs": [],
   "source": [
    "\n",
    "\n",
    "def get_empty_dir(root):\n",
    "    ans = [] \n",
    "    for dirname in os.listdir(root):\n",
    "        tmp = join(root,dirname,'checkpoints')\n",
    "        if exists(tmp) and len(os.listdir(tmp)) ==0:\n",
    "            ans.append(join(root,dirname))\n",
    "\n",
    "    return ans\n",
    "\n",
    "\n",
    "\n",
    "path = '/home/DISCOVER_summer2022/xusc/exp/Cerberus-main/networks'\n",
    "\n",
    "empty_dirs =get_empty_dir(path)\n",
    "\n"
   ]
  },
  {
   "cell_type": "code",
   "execution_count": 12,
   "metadata": {},
   "outputs": [],
   "source": [
    "\n",
    "def delete_dirs(dirs_list):\n",
    "    for dirname in dirs_list:\n",
    "        shutil.rmtree(dirname)\n",
    "\n",
    "delete_dirs(empty_dirs)"
   ]
  },
  {
   "cell_type": "code",
   "execution_count": null,
   "metadata": {},
   "outputs": [],
   "source": []
  }
 ],
 "metadata": {
  "kernelspec": {
   "display_name": "uav",
   "language": "python",
   "name": "python3"
  },
  "language_info": {
   "codemirror_mode": {
    "name": "ipython",
    "version": 3
   },
   "file_extension": ".py",
   "mimetype": "text/x-python",
   "name": "python",
   "nbconvert_exporter": "python",
   "pygments_lexer": "ipython3",
   "version": "3.7.13"
  },
  "orig_nbformat": 4,
  "vscode": {
   "interpreter": {
    "hash": "089b87feee1dc9e94ffa84a30284f38885f34cd4dd7b5b278d97b1d9745ef93a"
   }
  }
 },
 "nbformat": 4,
 "nbformat_minor": 2
}
