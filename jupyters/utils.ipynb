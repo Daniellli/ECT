{
 "cells": [
  {
   "cell_type": "code",
   "execution_count": 1,
   "metadata": {},
   "outputs": [],
   "source": [
    "import os\n",
    "from os.path import join,split,isdir,isfile,exists\n",
    "\n",
    "\n",
    "import shutil\n"
   ]
  },
  {
   "cell_type": "code",
   "execution_count": 3,
   "metadata": {},
   "outputs": [
    {
     "data": {
      "text/plain": [
       "['/home/DISCOVER_summer2022/xusc/exp/cerberus/networks/2023-03-03-15:29:1677828565',\n",
       " '/home/DISCOVER_summer2022/xusc/exp/cerberus/networks/2023-03-03-15:29:1677828582',\n",
       " '/home/DISCOVER_summer2022/xusc/exp/cerberus/networks/2023-03-09-08:27:1678321632',\n",
       " '/home/DISCOVER_summer2022/xusc/exp/cerberus/networks/2023-03-04-14:55:1677912936',\n",
       " '/home/DISCOVER_summer2022/xusc/exp/cerberus/networks/2023-03-09-09:03:1678323802',\n",
       " '/home/DISCOVER_summer2022/xusc/exp/cerberus/networks/2023-03-09-08:55:1678323350',\n",
       " '/home/DISCOVER_summer2022/xusc/exp/cerberus/networks/2023-03-06-00:48:1678034901',\n",
       " '/home/DISCOVER_summer2022/xusc/exp/cerberus/networks/2023-03-09-09:35:1678325738',\n",
       " '/home/DISCOVER_summer2022/xusc/exp/cerberus/networks/2023-03-04-16:17:1677917875',\n",
       " '/home/DISCOVER_summer2022/xusc/exp/cerberus/networks/2023-03-03-15:31:1677828695',\n",
       " '/home/DISCOVER_summer2022/xusc/exp/cerberus/networks/2023-03-04-10:14:1677896054',\n",
       " '/home/DISCOVER_summer2022/xusc/exp/cerberus/networks/2023-03-09-08:19:1678321141',\n",
       " '/home/DISCOVER_summer2022/xusc/exp/cerberus/networks/2023-03-06-01:15:1678036521',\n",
       " '/home/DISCOVER_summer2022/xusc/exp/cerberus/networks/2023-03-03-16:04:1677830663',\n",
       " '/home/DISCOVER_summer2022/xusc/exp/cerberus/networks/2023-03-06-04:20:1678047616',\n",
       " '/home/DISCOVER_summer2022/xusc/exp/cerberus/networks/2023-03-04-15:07:1677913656',\n",
       " '/home/DISCOVER_summer2022/xusc/exp/cerberus/networks/2023-03-06-00:17:1678033055',\n",
       " '/home/DISCOVER_summer2022/xusc/exp/cerberus/networks/2023-03-03-15:42:1677829352',\n",
       " '/home/DISCOVER_summer2022/xusc/exp/cerberus/networks/2023-03-05-23:58:1678031909',\n",
       " '/home/DISCOVER_summer2022/xusc/exp/cerberus/networks/2023-03-03-15:42:1677829344',\n",
       " '/home/DISCOVER_summer2022/xusc/exp/cerberus/networks/2023-03-05-00:42:1677948125',\n",
       " '/home/DISCOVER_summer2022/xusc/exp/cerberus/networks/2023-03-05-00:35:1677947741',\n",
       " '/home/DISCOVER_summer2022/xusc/exp/cerberus/networks/2023-03-09-09:14:1678324484',\n",
       " '/home/DISCOVER_summer2022/xusc/exp/cerberus/networks/2023-03-05-00:34:1677947696',\n",
       " '/home/DISCOVER_summer2022/xusc/exp/cerberus/networks/2023-03-05-00:45:1677948303',\n",
       " '/home/DISCOVER_summer2022/xusc/exp/cerberus/networks/2023-03-04-10:18:1677896300',\n",
       " '/home/DISCOVER_summer2022/xusc/exp/cerberus/networks/2023-03-04-14:45:1677912337',\n",
       " '/home/DISCOVER_summer2022/xusc/exp/cerberus/networks/2023-03-05-00:49:1677948557',\n",
       " '/home/DISCOVER_summer2022/xusc/exp/cerberus/networks/2023-03-05-00:39:1677947953',\n",
       " '/home/DISCOVER_summer2022/xusc/exp/cerberus/networks/2023-03-05-00:44:1677948269',\n",
       " '/home/DISCOVER_summer2022/xusc/exp/cerberus/networks/2023-03-05-00:37:1677947866',\n",
       " '/home/DISCOVER_summer2022/xusc/exp/cerberus/networks/2023-03-03-15:47:1677829662',\n",
       " '/home/DISCOVER_summer2022/xusc/exp/cerberus/networks/2023-03-04-15:13:1677914006',\n",
       " '/home/DISCOVER_summer2022/xusc/exp/cerberus/networks/2023-03-06-00:16:1678033015',\n",
       " '/home/DISCOVER_summer2022/xusc/exp/cerberus/networks/2023-03-05-00:36:1677947811',\n",
       " '/home/DISCOVER_summer2022/xusc/exp/cerberus/networks/2023-03-09-08:56:1678323391']"
      ]
     },
     "execution_count": 3,
     "metadata": {},
     "output_type": "execute_result"
    }
   ],
   "source": [
    "\n",
    "\n",
    "def get_empty_dir(root):\n",
    "    ans = [] \n",
    "    for dirname in os.listdir(root):\n",
    "        tmp = join(root,dirname,'checkpoints')\n",
    "        if exists(tmp) and len(os.listdir(tmp)) ==0:\n",
    "            ans.append(join(root,dirname))\n",
    "\n",
    "    return ans\n",
    "\n",
    "\n",
    "\n",
    "# path = '/home/DISCOVER_summer2022/xusc/exp/Cerberus-main/networks'\n",
    "# path = '/DATA2/xusc/cerberus/networks'\n",
    "path = '/home/DISCOVER_summer2022/xusc/exp/cerberus/networks'\n",
    "\n",
    "\n",
    "\n",
    "empty_dirs =get_empty_dir(path)\n",
    "empty_dirs\n",
    "\n"
   ]
  },
  {
   "cell_type": "code",
   "execution_count": 4,
   "metadata": {},
   "outputs": [],
   "source": [
    "\n",
    "def delete_dirs(dirs_list):\n",
    "    for dirname in dirs_list:\n",
    "        shutil.rmtree(dirname)\n",
    "\n",
    "delete_dirs(empty_dirs)"
   ]
  },
  {
   "cell_type": "code",
   "execution_count": null,
   "metadata": {},
   "outputs": [],
   "source": []
  },
  {
   "cell_type": "code",
   "execution_count": null,
   "metadata": {},
   "outputs": [],
   "source": []
  }
 ],
 "metadata": {
  "kernelspec": {
   "display_name": "Python 3.7.13 ('uav')",
   "language": "python",
   "name": "python3"
  },
  "language_info": {
   "codemirror_mode": {
    "name": "ipython",
    "version": 3
   },
   "file_extension": ".py",
   "mimetype": "text/x-python",
   "name": "python",
   "nbconvert_exporter": "python",
   "pygments_lexer": "ipython3",
   "version": "3.7.13"
  },
  "orig_nbformat": 4,
  "vscode": {
   "interpreter": {
    "hash": "089b87feee1dc9e94ffa84a30284f38885f34cd4dd7b5b278d97b1d9745ef93a"
   }
  }
 },
 "nbformat": 4,
 "nbformat_minor": 2
}
