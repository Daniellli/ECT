{
 "cells": [
  {
   "cell_type": "code",
   "execution_count": 1,
   "metadata": {},
   "outputs": [],
   "source": [
    "import os\n",
    "from os.path import join,split,isdir,isfile,exists\n",
    "\n",
    "\n",
    "import shutil\n"
   ]
  },
  {
   "cell_type": "code",
   "execution_count": 2,
   "metadata": {},
   "outputs": [
    {
     "data": {
      "text/plain": [
       "['/DATA2/xusc/cerberus/networks/2023-03-03-01:02:1677776568',\n",
       " '/DATA2/xusc/cerberus/networks/2023-03-03-00:52:1677775953',\n",
       " '/DATA2/xusc/cerberus/networks/2023-03-03-01:03:1677776626',\n",
       " '/DATA2/xusc/cerberus/networks/2023-03-02-14:59:1677740381',\n",
       " '/DATA2/xusc/cerberus/networks/2023-03-02-14:58:1677740312',\n",
       " '/DATA2/xusc/cerberus/networks/2023-03-03-00:52:1677775977',\n",
       " '/DATA2/xusc/cerberus/networks/2023-03-03-00:57:1677776224',\n",
       " '/DATA2/xusc/cerberus/networks/2023-03-03-00:52:1677775920',\n",
       " '/DATA2/xusc/cerberus/networks/2023-03-03-01:03:1677776595',\n",
       " '/DATA2/xusc/cerberus/networks/2023-03-03-00:59:1677776385']"
      ]
     },
     "execution_count": 2,
     "metadata": {},
     "output_type": "execute_result"
    }
   ],
   "source": [
    "\n",
    "\n",
    "def get_empty_dir(root):\n",
    "    ans = [] \n",
    "    for dirname in os.listdir(root):\n",
    "        tmp = join(root,dirname,'checkpoints')\n",
    "        if exists(tmp) and len(os.listdir(tmp)) ==0:\n",
    "            ans.append(join(root,dirname))\n",
    "\n",
    "    return ans\n",
    "\n",
    "\n",
    "\n",
    "# path = '/home/DISCOVER_summer2022/xusc/exp/Cerberus-main/networks'\n",
    "path = '/DATA2/xusc/cerberus/networks'\n",
    "\n",
    "\n",
    "empty_dirs =get_empty_dir(path)\n",
    "empty_dirs\n",
    "\n"
   ]
  },
  {
   "cell_type": "code",
   "execution_count": 3,
   "metadata": {},
   "outputs": [],
   "source": [
    "\n",
    "def delete_dirs(dirs_list):\n",
    "    for dirname in dirs_list:\n",
    "        shutil.rmtree(dirname)\n",
    "\n",
    "delete_dirs(empty_dirs)"
   ]
  },
  {
   "cell_type": "code",
   "execution_count": null,
   "metadata": {},
   "outputs": [],
   "source": []
  },
  {
   "cell_type": "code",
   "execution_count": null,
   "metadata": {},
   "outputs": [],
   "source": []
  }
 ],
 "metadata": {
  "kernelspec": {
   "display_name": "yang_real",
   "language": "python",
   "name": "python3"
  },
  "language_info": {
   "codemirror_mode": {
    "name": "ipython",
    "version": 3
   },
   "file_extension": ".py",
   "mimetype": "text/x-python",
   "name": "python",
   "nbconvert_exporter": "python",
   "pygments_lexer": "ipython3",
   "version": "3.8.13"
  },
  "orig_nbformat": 4,
  "vscode": {
   "interpreter": {
    "hash": "d9b2ba7768da1812e4fd3f8b09679a1752ec2b201518d8fa33b4dc81378f00ac"
   }
  }
 },
 "nbformat": 4,
 "nbformat_minor": 2
}
