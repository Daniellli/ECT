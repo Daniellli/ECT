{
 "cells": [
  {
   "cell_type": "code",
   "execution_count": 4,
   "metadata": {},
   "outputs": [],
   "source": [
    "import os\n",
    "from os.path import join,split,isdir,isfile,exists\n",
    "\n",
    "\n",
    "import shutil\n"
   ]
  },
  {
   "cell_type": "code",
   "execution_count": 5,
   "metadata": {},
   "outputs": [
    {
     "data": {
      "text/plain": [
       "['/DATA2/xusc/cerberus/networks/2023-03-02-06:41:1677710469',\n",
       " '/DATA2/xusc/cerberus/networks/2023-03-02-06:41:1677710518',\n",
       " '/DATA2/xusc/cerberus/networks/2023-03-02-06:42:1677710575']"
      ]
     },
     "execution_count": 5,
     "metadata": {},
     "output_type": "execute_result"
    }
   ],
   "source": [
    "\n",
    "\n",
    "def get_empty_dir(root):\n",
    "    ans = [] \n",
    "    for dirname in os.listdir(root):\n",
    "        tmp = join(root,dirname,'checkpoints')\n",
    "        if exists(tmp) and len(os.listdir(tmp)) ==0:\n",
    "            ans.append(join(root,dirname))\n",
    "\n",
    "    return ans\n",
    "\n",
    "\n",
    "\n",
    "# path = '/home/DISCOVER_summer2022/xusc/exp/Cerberus-main/networks'\n",
    "path = '/DATA2/xusc/cerberus/networks'\n",
    "\n",
    "\n",
    "empty_dirs =get_empty_dir(path)\n",
    "empty_dirs\n",
    "\n"
   ]
  },
  {
   "cell_type": "code",
   "execution_count": 6,
   "metadata": {},
   "outputs": [],
   "source": [
    "\n",
    "def delete_dirs(dirs_list):\n",
    "    for dirname in dirs_list:\n",
    "        shutil.rmtree(dirname)\n",
    "\n",
    "delete_dirs(empty_dirs)"
   ]
  },
  {
   "cell_type": "code",
   "execution_count": null,
   "metadata": {},
   "outputs": [],
   "source": []
  },
  {
   "cell_type": "code",
   "execution_count": null,
   "metadata": {},
   "outputs": [],
   "source": []
  }
 ],
 "metadata": {
  "kernelspec": {
   "display_name": "yang_real",
   "language": "python",
   "name": "python3"
  },
  "language_info": {
   "codemirror_mode": {
    "name": "ipython",
    "version": 3
   },
   "file_extension": ".py",
   "mimetype": "text/x-python",
   "name": "python",
   "nbconvert_exporter": "python",
   "pygments_lexer": "ipython3",
   "version": "3.8.13"
  },
  "orig_nbformat": 4,
  "vscode": {
   "interpreter": {
    "hash": "d9b2ba7768da1812e4fd3f8b09679a1752ec2b201518d8fa33b4dc81378f00ac"
   }
  }
 },
 "nbformat": 4,
 "nbformat_minor": 2
}
