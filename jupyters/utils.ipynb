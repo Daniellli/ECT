{
 "cells": [
  {
   "cell_type": "code",
   "execution_count": 1,
   "metadata": {},
   "outputs": [],
   "source": [
    "import os\n",
    "from os.path import join,split,isdir,isfile,exists\n",
    "\n",
    "\n",
    "import shutil\n"
   ]
  },
  {
   "cell_type": "code",
   "execution_count": 4,
   "metadata": {},
   "outputs": [
    {
     "data": {
      "text/plain": [
       "['/DATA2/xusc/cerberus/networks/2023-03-01-11:18:1677640739',\n",
       " '/DATA2/xusc/cerberus/networks/2023-03-02-01:24:1677691455',\n",
       " '/DATA2/xusc/cerberus/networks/2023-03-02-00:50:1677689420',\n",
       " '/DATA2/xusc/cerberus/networks/2023-03-02-00:41:1677688906',\n",
       " '/DATA2/xusc/cerberus/networks/2023-03-02-00:46:1677689201',\n",
       " '/DATA2/xusc/cerberus/networks/2023-03-02-00:25:1677687926',\n",
       " '/DATA2/xusc/cerberus/networks/2023-03-02-01:24:1677691442',\n",
       " '/DATA2/xusc/cerberus/networks/2023-03-01-13:41:1677649264',\n",
       " '/DATA2/xusc/cerberus/networks/2023-03-01-14:06:1677650791',\n",
       " '/DATA2/xusc/cerberus/networks/2023-03-01-15:11:1677654708',\n",
       " '/DATA2/xusc/cerberus/networks/2023-03-01-13:35:1677648914',\n",
       " '/DATA2/xusc/cerberus/networks/2023-03-01-13:36:1677648964',\n",
       " '/DATA2/xusc/cerberus/networks/2023-03-01-12:02:1677643373',\n",
       " '/DATA2/xusc/cerberus/networks/2023-03-02-01:26:1677691581',\n",
       " '/DATA2/xusc/cerberus/networks/2023-03-01-12:55:1677646505',\n",
       " '/DATA2/xusc/cerberus/networks/2023-03-01-15:40:1677656402',\n",
       " '/DATA2/xusc/cerberus/networks/2023-03-02-00:49:1677689381',\n",
       " '/DATA2/xusc/cerberus/networks/2023-03-01-15:40:1677656424',\n",
       " '/DATA2/xusc/cerberus/networks/2023-03-01-15:14:1677654888',\n",
       " '/DATA2/xusc/cerberus/networks/2023-03-01-13:37:1677649052',\n",
       " '/DATA2/xusc/cerberus/networks/2023-03-01-02:58:1677610719',\n",
       " '/DATA2/xusc/cerberus/networks/2023-03-02-00:47:1677689253',\n",
       " '/DATA2/xusc/cerberus/networks/2023-03-01-12:54:1677646444',\n",
       " '/DATA2/xusc/cerberus/networks/2023-03-01-15:34:1677656084',\n",
       " '/DATA2/xusc/cerberus/networks/2023-03-01-11:48:1677642490',\n",
       " '/DATA2/xusc/cerberus/networks/2023-03-02-01:13:1677690796',\n",
       " '/DATA2/xusc/cerberus/networks/2023-03-02-01:16:1677691014',\n",
       " '/DATA2/xusc/cerberus/networks/2023-03-02-00:43:1677689027',\n",
       " '/DATA2/xusc/cerberus/networks/2023-03-02-01:13:1677690819',\n",
       " '/DATA2/xusc/cerberus/networks/2023-03-02-01:29:1677691795',\n",
       " '/DATA2/xusc/cerberus/networks/2023-03-01-14:23:1677651834',\n",
       " '/DATA2/xusc/cerberus/networks/2023-03-02-01:19:1677691149',\n",
       " '/DATA2/xusc/cerberus/networks/2023-03-01-11:10:1677640202',\n",
       " '/DATA2/xusc/cerberus/networks/2023-03-01-15:27:1677655642',\n",
       " '/DATA2/xusc/cerberus/networks/2023-03-01-13:38:1677649120',\n",
       " '/DATA2/xusc/cerberus/networks/2023-03-01-11:08:1677640119',\n",
       " '/DATA2/xusc/cerberus/networks/2023-03-01-11:20:1677640828',\n",
       " '/DATA2/xusc/cerberus/networks/2023-03-02-00:52:1677689544',\n",
       " '/DATA2/xusc/cerberus/networks/2023-03-01-11:09:1677640166',\n",
       " '/DATA2/xusc/cerberus/networks/2023-03-01-13:43:1677649390',\n",
       " '/DATA2/xusc/cerberus/networks/2023-03-01-13:46:1677649575',\n",
       " '/DATA2/xusc/cerberus/networks/2023-03-02-00:38:1677688735',\n",
       " '/DATA2/xusc/cerberus/networks/2023-03-01-11:52:1677642765',\n",
       " '/DATA2/xusc/cerberus/networks/2023-03-02-01:13:1677690783',\n",
       " '/DATA2/xusc/cerberus/networks/2023-03-01-15:20:1677655256',\n",
       " '/DATA2/xusc/cerberus/networks/2023-03-01-12:57:1677646675',\n",
       " '/DATA2/xusc/cerberus/networks/2023-03-01-12:01:1677643271',\n",
       " '/DATA2/xusc/cerberus/networks/2023-03-01-11:51:1677642680',\n",
       " '/DATA2/xusc/cerberus/networks/2023-03-01-14:54:1677653688',\n",
       " '/DATA2/xusc/cerberus/networks/2023-03-02-01:20:1677691248',\n",
       " '/DATA2/xusc/cerberus/networks/2023-03-01-13:40:1677649205',\n",
       " '/DATA2/xusc/cerberus/networks/2023-03-02-00:38:1677688719',\n",
       " '/DATA2/xusc/cerberus/networks/2023-03-02-00:51:1677689469',\n",
       " '/DATA2/xusc/cerberus/networks/2023-03-01-11:11:1677640271',\n",
       " '/DATA2/xusc/cerberus/networks/2023-03-01-15:28:1677655716',\n",
       " '/DATA2/xusc/cerberus/networks/2023-03-02-00:36:1677688599',\n",
       " '/DATA2/xusc/cerberus/networks/2023-03-01-14:10:1677651045',\n",
       " '/DATA2/xusc/cerberus/networks/2023-03-02-00:34:1677688474',\n",
       " '/DATA2/xusc/cerberus/networks/2023-03-02-01:18:1677691093',\n",
       " '/DATA2/xusc/cerberus/networks/2023-03-01-14:32:1677652322']"
      ]
     },
     "execution_count": 4,
     "metadata": {},
     "output_type": "execute_result"
    }
   ],
   "source": [
    "\n",
    "\n",
    "def get_empty_dir(root):\n",
    "    ans = [] \n",
    "    for dirname in os.listdir(root):\n",
    "        tmp = join(root,dirname,'checkpoints')\n",
    "        if exists(tmp) and len(os.listdir(tmp)) ==0:\n",
    "            ans.append(join(root,dirname))\n",
    "\n",
    "    return ans\n",
    "\n",
    "\n",
    "\n",
    "# path = '/home/DISCOVER_summer2022/xusc/exp/Cerberus-main/networks'\n",
    "path = '/DATA2/xusc/cerberus/networks'\n",
    "\n",
    "\n",
    "empty_dirs =get_empty_dir(path)\n",
    "empty_dirs\n",
    "\n"
   ]
  },
  {
   "cell_type": "code",
   "execution_count": 5,
   "metadata": {},
   "outputs": [],
   "source": [
    "\n",
    "def delete_dirs(dirs_list):\n",
    "    for dirname in dirs_list:\n",
    "        shutil.rmtree(dirname)\n",
    "\n",
    "delete_dirs(empty_dirs)"
   ]
  },
  {
   "cell_type": "code",
   "execution_count": null,
   "metadata": {},
   "outputs": [],
   "source": []
  },
  {
   "cell_type": "code",
   "execution_count": null,
   "metadata": {},
   "outputs": [],
   "source": []
  }
 ],
 "metadata": {
  "kernelspec": {
   "display_name": "yang_real",
   "language": "python",
   "name": "python3"
  },
  "language_info": {
   "codemirror_mode": {
    "name": "ipython",
    "version": 3
   },
   "file_extension": ".py",
   "mimetype": "text/x-python",
   "name": "python",
   "nbconvert_exporter": "python",
   "pygments_lexer": "ipython3",
   "version": "3.8.13"
  },
  "orig_nbformat": 4,
  "vscode": {
   "interpreter": {
    "hash": "d9b2ba7768da1812e4fd3f8b09679a1752ec2b201518d8fa33b4dc81378f00ac"
   }
  }
 },
 "nbformat": 4,
 "nbformat_minor": 2
}
