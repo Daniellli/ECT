{
 "cells": [
  {
   "cell_type": "code",
   "execution_count": 1,
   "metadata": {},
   "outputs": [
    {
     "name": "stderr",
     "output_type": "stream",
     "text": [
      "\n",
      "Bad key text.latex.preview in file /home/DISCOVER_summer2022/xusc/.conda/envs/uav/lib/python3.7/site-packages/matplotlib/mpl-data/stylelib/_classic_test.mplstyle, line 123 ('text.latex.preview : False')\n",
      "You probably need to get an updated matplotlibrc file from\n",
      "https://github.com/matplotlib/matplotlib/blob/v3.5.1/matplotlibrc.template\n",
      "or from the matplotlib source distribution\n",
      "\n",
      "Bad key mathtext.fallback_to_cm in file /home/DISCOVER_summer2022/xusc/.conda/envs/uav/lib/python3.7/site-packages/matplotlib/mpl-data/stylelib/_classic_test.mplstyle, line 155 ('mathtext.fallback_to_cm : True  # When True, use symbols from the Computer Modern')\n",
      "You probably need to get an updated matplotlibrc file from\n",
      "https://github.com/matplotlib/matplotlib/blob/v3.5.1/matplotlibrc.template\n",
      "or from the matplotlib source distribution\n",
      "\n",
      "Bad key savefig.jpeg_quality in file /home/DISCOVER_summer2022/xusc/.conda/envs/uav/lib/python3.7/site-packages/matplotlib/mpl-data/stylelib/_classic_test.mplstyle, line 418 ('savefig.jpeg_quality: 95       # when a jpeg is saved, the default quality parameter.')\n",
      "You probably need to get an updated matplotlibrc file from\n",
      "https://github.com/matplotlib/matplotlib/blob/v3.5.1/matplotlibrc.template\n",
      "or from the matplotlib source distribution\n",
      "\n",
      "Bad key keymap.all_axes in file /home/DISCOVER_summer2022/xusc/.conda/envs/uav/lib/python3.7/site-packages/matplotlib/mpl-data/stylelib/_classic_test.mplstyle, line 466 ('keymap.all_axes : a                 # enable all axes')\n",
      "You probably need to get an updated matplotlibrc file from\n",
      "https://github.com/matplotlib/matplotlib/blob/v3.5.1/matplotlibrc.template\n",
      "or from the matplotlib source distribution\n",
      "\n",
      "Bad key animation.avconv_path in file /home/DISCOVER_summer2022/xusc/.conda/envs/uav/lib/python3.7/site-packages/matplotlib/mpl-data/stylelib/_classic_test.mplstyle, line 477 ('animation.avconv_path: avconv     # Path to avconv binary. Without full path')\n",
      "You probably need to get an updated matplotlibrc file from\n",
      "https://github.com/matplotlib/matplotlib/blob/v3.5.1/matplotlibrc.template\n",
      "or from the matplotlib source distribution\n",
      "\n",
      "Bad key animation.avconv_args in file /home/DISCOVER_summer2022/xusc/.conda/envs/uav/lib/python3.7/site-packages/matplotlib/mpl-data/stylelib/_classic_test.mplstyle, line 479 ('animation.avconv_args:            # Additional arguments to pass to avconv')\n",
      "You probably need to get an updated matplotlibrc file from\n",
      "https://github.com/matplotlib/matplotlib/blob/v3.5.1/matplotlibrc.template\n",
      "or from the matplotlib source distribution\n"
     ]
    }
   ],
   "source": [
    "\n",
    "\n",
    "from PIL import Image\n",
    "\n",
    "import os\n",
    "from os.path import split,join, isdir ,exists\n",
    "os.chdir('/home/DISCOVER_summer2022/xusc/exp/Cerberus-main')\n",
    "from loguru import logger\n",
    "import torch\n",
    "import numpy as np\n",
    "import skimage\n",
    "from torchvision.transforms import transforms\n",
    "import matplotlib.pyplot as plt\n",
    "from PIL import Image\n",
    "\n",
    "from utils import *\n",
    "plt.rcParams['savefig.dpi'] = 300 #图片像素\n",
    "plt.rcParams['figure.dpi'] = 300 #分辨率\n",
    "\n",
    "\n",
    "from utils.entity.bsds_rind_gt_loader import * \n",
    "from utils.entity.bsds_rind_qualitative_drawer import * \n",
    "\n",
    "import matplotlib as mpl\n",
    "mpl.rcParams.update(mpl.rcParamsDefault)\n"
   ]
  },
  {
   "cell_type": "code",
   "execution_count": 2,
   "metadata": {},
   "outputs": [],
   "source": [
    "\n",
    "\n",
    "def get_best_image(main_drawer,other_drawer_list,task = 'reflectance'):\n",
    "\n",
    "    n =  len(other_drawer_list)\n",
    "\n",
    "    distance_dict = {}\n",
    "    \n",
    "    for index in range(main_drawer.__len__()):\n",
    "\n",
    "        main_f, name  = main_drawer.get_task_F_quantitatives(task,index)\n",
    "        distance = 0 \n",
    "\n",
    "\n",
    "        for d in other_drawer_list:\n",
    "            distance += (main_f - d.get_task_F_quantitatives(task,index)[0])\n",
    "\n",
    "        \n",
    "        distance_dict[name] = distance/n\n",
    "\n",
    "    \n",
    "    return  sorted(distance_dict.items(), key =lambda k : k[1])[::-1]\n",
    "    \n",
    "\n",
    "RINDNET_ROOT=\"/home/DISCOVER_summer2022/xusc/exp/Cerberus-main/networks/trash/precomputed\"\n",
    "\n",
    "our_drawer = QualitativeDrawer('/home/DISCOVER_summer2022/xusc/exp/Cerberus-main/networks/need2release/full_version_0','ours')\n",
    "rindnet_drawer = QualitativeDrawer(join(RINDNET_ROOT,\"rindnet-resnet50\"),'rindnet')\n",
    "dff_drawer = QualitativeDrawer(join(RINDNET_ROOT,\"dff\"),'dff')\n",
    "rcf_drawer = QualitativeDrawer(join(RINDNET_ROOT,\"rcf\"),'rcf')\n",
    "hed_drawer = QualitativeDrawer(join(RINDNET_ROOT,\"hed\"),'hed')\n",
    "\n",
    "# our_drawer.get_quantitatives(0)\n",
    "\n",
    "\n"
   ]
  },
  {
   "cell_type": "code",
   "execution_count": 3,
   "metadata": {},
   "outputs": [
    {
     "data": {
      "text/plain": [
       "[('14092', 0.25672350000000005),\n",
       " ('388006', 0.21008300000000002),\n",
       " ('189006', 0.201837),\n",
       " ('181021', 0.20051725000000004),\n",
       " ('376086', 0.16948999999999997),\n",
       " ('48017', 0.16174825000000004),\n",
       " ('69022', 0.15550775),\n",
       " ('81090', 0.15168799999999996),\n",
       " ('232076', 0.15092375000000002),\n",
       " ('128035', 0.14934874999999997)]"
      ]
     },
     "execution_count": 3,
     "metadata": {},
     "output_type": "execute_result"
    }
   ],
   "source": [
    "compare_results = get_best_image(our_drawer,[rindnet_drawer,dff_drawer,rcf_drawer,hed_drawer],'depth')\n",
    "compare_results[:10]"
   ]
  },
  {
   "cell_type": "code",
   "execution_count": 4,
   "metadata": {},
   "outputs": [
    {
     "name": "stdout",
     "output_type": "stream",
     "text": [
      "176051\n"
     ]
    },
    {
     "name": "stderr",
     "output_type": "stream",
     "text": [
      "2023-03-05 19:16:51.117 | INFO     | utils.entity.bsds_rind_qualitative_drawer:draw_edge:183 - dilation times == 2\n",
      "2023-03-05 19:16:51.306 | INFO     | utils.entity.bsds_rind_qualitative_drawer:draw_edge:183 - dilation times == 2\n",
      "2023-03-05 19:16:51.532 | INFO     | utils.entity.bsds_rind_qualitative_drawer:draw_edge:183 - dilation times == 2\n",
      "2023-03-05 19:16:51.912 | INFO     | utils.entity.bsds_rind_qualitative_drawer:draw_edge:183 - dilation times == 2\n",
      "2023-03-05 19:16:52.229 | INFO     | utils.entity.bsds_rind_qualitative_drawer:draw_edge:183 - dilation times == 2\n",
      "2023-03-05 19:16:52.993 | INFO     | utils.entity.bsds_rind_qualitative_drawer:draw_edge:183 - dilation times == 2\n"
     ]
    },
    {
     "name": "stdout",
     "output_type": "stream",
     "text": [
      "296028\n"
     ]
    },
    {
     "name": "stderr",
     "output_type": "stream",
     "text": [
      "2023-03-05 19:16:53.173 | INFO     | utils.entity.bsds_rind_qualitative_drawer:draw_edge:183 - dilation times == 2\n",
      "2023-03-05 19:16:53.398 | INFO     | utils.entity.bsds_rind_qualitative_drawer:draw_edge:183 - dilation times == 2\n",
      "2023-03-05 19:16:53.669 | INFO     | utils.entity.bsds_rind_qualitative_drawer:draw_edge:183 - dilation times == 2\n",
      "2023-03-05 19:16:53.984 | INFO     | utils.entity.bsds_rind_qualitative_drawer:draw_edge:183 - dilation times == 2\n",
      "2023-03-05 19:16:54.718 | INFO     | utils.entity.bsds_rind_qualitative_drawer:draw_edge:183 - dilation times == 2\n"
     ]
    },
    {
     "name": "stdout",
     "output_type": "stream",
     "text": [
      "238025\n"
     ]
    },
    {
     "name": "stderr",
     "output_type": "stream",
     "text": [
      "2023-03-05 19:16:54.851 | INFO     | utils.entity.bsds_rind_qualitative_drawer:draw_edge:183 - dilation times == 2\n",
      "2023-03-05 19:16:55.015 | INFO     | utils.entity.bsds_rind_qualitative_drawer:draw_edge:183 - dilation times == 2\n",
      "2023-03-05 19:16:55.216 | INFO     | utils.entity.bsds_rind_qualitative_drawer:draw_edge:183 - dilation times == 2\n",
      "2023-03-05 19:16:55.444 | INFO     | utils.entity.bsds_rind_qualitative_drawer:draw_edge:183 - dilation times == 2\n",
      "2023-03-05 19:16:56.122 | INFO     | utils.entity.bsds_rind_qualitative_drawer:draw_edge:183 - dilation times == 2\n"
     ]
    },
    {
     "name": "stdout",
     "output_type": "stream",
     "text": [
      "384022\n"
     ]
    },
    {
     "name": "stderr",
     "output_type": "stream",
     "text": [
      "2023-03-05 19:16:56.305 | INFO     | utils.entity.bsds_rind_qualitative_drawer:draw_edge:183 - dilation times == 2\n",
      "2023-03-05 19:16:56.542 | INFO     | utils.entity.bsds_rind_qualitative_drawer:draw_edge:183 - dilation times == 2\n",
      "2023-03-05 19:16:56.823 | INFO     | utils.entity.bsds_rind_qualitative_drawer:draw_edge:183 - dilation times == 2\n",
      "2023-03-05 19:16:57.141 | INFO     | utils.entity.bsds_rind_qualitative_drawer:draw_edge:183 - dilation times == 2\n",
      "2023-03-05 19:16:57.873 | INFO     | utils.entity.bsds_rind_qualitative_drawer:draw_edge:183 - dilation times == 2\n"
     ]
    },
    {
     "name": "stdout",
     "output_type": "stream",
     "text": [
      "65084\n"
     ]
    },
    {
     "name": "stderr",
     "output_type": "stream",
     "text": [
      "2023-03-05 19:16:58.005 | INFO     | utils.entity.bsds_rind_qualitative_drawer:draw_edge:183 - dilation times == 2\n",
      "2023-03-05 19:16:58.170 | INFO     | utils.entity.bsds_rind_qualitative_drawer:draw_edge:183 - dilation times == 2\n",
      "2023-03-05 19:16:58.373 | INFO     | utils.entity.bsds_rind_qualitative_drawer:draw_edge:183 - dilation times == 2\n",
      "2023-03-05 19:16:58.610 | INFO     | utils.entity.bsds_rind_qualitative_drawer:draw_edge:183 - dilation times == 2\n",
      "2023-03-05 19:16:59.303 | INFO     | utils.entity.bsds_rind_qualitative_drawer:draw_edge:183 - dilation times == 2\n"
     ]
    },
    {
     "name": "stdout",
     "output_type": "stream",
     "text": [
      "77062\n"
     ]
    },
    {
     "name": "stderr",
     "output_type": "stream",
     "text": [
      "2023-03-05 19:16:59.491 | INFO     | utils.entity.bsds_rind_qualitative_drawer:draw_edge:183 - dilation times == 2\n",
      "2023-03-05 19:16:59.724 | INFO     | utils.entity.bsds_rind_qualitative_drawer:draw_edge:183 - dilation times == 2\n",
      "2023-03-05 19:17:00.003 | INFO     | utils.entity.bsds_rind_qualitative_drawer:draw_edge:183 - dilation times == 2\n",
      "2023-03-05 19:17:00.326 | INFO     | utils.entity.bsds_rind_qualitative_drawer:draw_edge:183 - dilation times == 2\n",
      "2023-03-05 19:17:01.237 | INFO     | utils.entity.bsds_rind_qualitative_drawer:draw_edge:183 - dilation times == 2\n"
     ]
    },
    {
     "name": "stdout",
     "output_type": "stream",
     "text": [
      "141048\n"
     ]
    },
    {
     "name": "stderr",
     "output_type": "stream",
     "text": [
      "2023-03-05 19:17:01.424 | INFO     | utils.entity.bsds_rind_qualitative_drawer:draw_edge:183 - dilation times == 2\n",
      "2023-03-05 19:17:01.655 | INFO     | utils.entity.bsds_rind_qualitative_drawer:draw_edge:183 - dilation times == 2\n",
      "2023-03-05 19:17:01.933 | INFO     | utils.entity.bsds_rind_qualitative_drawer:draw_edge:183 - dilation times == 2\n",
      "2023-03-05 19:17:02.255 | INFO     | utils.entity.bsds_rind_qualitative_drawer:draw_edge:183 - dilation times == 2\n",
      "2023-03-05 19:17:03.027 | INFO     | utils.entity.bsds_rind_qualitative_drawer:draw_edge:183 - dilation times == 2\n"
     ]
    },
    {
     "name": "stdout",
     "output_type": "stream",
     "text": [
      "187058\n"
     ]
    },
    {
     "name": "stderr",
     "output_type": "stream",
     "text": [
      "2023-03-05 19:17:03.208 | INFO     | utils.entity.bsds_rind_qualitative_drawer:draw_edge:183 - dilation times == 2\n",
      "2023-03-05 19:17:03.433 | INFO     | utils.entity.bsds_rind_qualitative_drawer:draw_edge:183 - dilation times == 2\n",
      "2023-03-05 19:17:03.704 | INFO     | utils.entity.bsds_rind_qualitative_drawer:draw_edge:183 - dilation times == 2\n",
      "2023-03-05 19:17:04.017 | INFO     | utils.entity.bsds_rind_qualitative_drawer:draw_edge:183 - dilation times == 2\n",
      "2023-03-05 19:17:04.745 | INFO     | utils.entity.bsds_rind_qualitative_drawer:draw_edge:183 - dilation times == 2\n"
     ]
    },
    {
     "name": "stdout",
     "output_type": "stream",
     "text": [
      "164046\n"
     ]
    },
    {
     "name": "stderr",
     "output_type": "stream",
     "text": [
      "2023-03-05 19:17:04.884 | INFO     | utils.entity.bsds_rind_qualitative_drawer:draw_edge:183 - dilation times == 2\n",
      "2023-03-05 19:17:05.052 | INFO     | utils.entity.bsds_rind_qualitative_drawer:draw_edge:183 - dilation times == 2\n",
      "2023-03-05 19:17:05.251 | INFO     | utils.entity.bsds_rind_qualitative_drawer:draw_edge:183 - dilation times == 2\n",
      "2023-03-05 19:17:05.481 | INFO     | utils.entity.bsds_rind_qualitative_drawer:draw_edge:183 - dilation times == 2\n",
      "2023-03-05 19:17:06.159 | INFO     | utils.entity.bsds_rind_qualitative_drawer:draw_edge:183 - dilation times == 2\n"
     ]
    },
    {
     "name": "stdout",
     "output_type": "stream",
     "text": [
      "100039\n"
     ]
    },
    {
     "name": "stderr",
     "output_type": "stream",
     "text": [
      "2023-03-05 19:17:06.345 | INFO     | utils.entity.bsds_rind_qualitative_drawer:draw_edge:183 - dilation times == 2\n",
      "2023-03-05 19:17:06.575 | INFO     | utils.entity.bsds_rind_qualitative_drawer:draw_edge:183 - dilation times == 2\n",
      "2023-03-05 19:17:06.852 | INFO     | utils.entity.bsds_rind_qualitative_drawer:draw_edge:183 - dilation times == 2\n",
      "2023-03-05 19:17:07.180 | INFO     | utils.entity.bsds_rind_qualitative_drawer:draw_edge:183 - dilation times == 2\n",
      "2023-03-05 19:17:07.956 | INFO     | utils.entity.bsds_rind_qualitative_drawer:draw_edge:183 - dilation times == 2\n"
     ]
    },
    {
     "name": "stdout",
     "output_type": "stream",
     "text": [
      "376086\n"
     ]
    },
    {
     "name": "stderr",
     "output_type": "stream",
     "text": [
      "2023-03-05 19:17:08.147 | INFO     | utils.entity.bsds_rind_qualitative_drawer:draw_edge:183 - dilation times == 2\n",
      "2023-03-05 19:17:08.380 | INFO     | utils.entity.bsds_rind_qualitative_drawer:draw_edge:183 - dilation times == 2\n",
      "2023-03-05 19:17:08.661 | INFO     | utils.entity.bsds_rind_qualitative_drawer:draw_edge:183 - dilation times == 2\n",
      "2023-03-05 19:17:08.987 | INFO     | utils.entity.bsds_rind_qualitative_drawer:draw_edge:183 - dilation times == 2\n",
      "2023-03-05 19:17:09.757 | INFO     | utils.entity.bsds_rind_qualitative_drawer:draw_edge:183 - dilation times == 2\n"
     ]
    },
    {
     "name": "stdout",
     "output_type": "stream",
     "text": [
      "160006\n"
     ]
    },
    {
     "name": "stderr",
     "output_type": "stream",
     "text": [
      "2023-03-05 19:17:09.936 | INFO     | utils.entity.bsds_rind_qualitative_drawer:draw_edge:183 - dilation times == 2\n",
      "2023-03-05 19:17:10.160 | INFO     | utils.entity.bsds_rind_qualitative_drawer:draw_edge:183 - dilation times == 2\n",
      "2023-03-05 19:17:10.430 | INFO     | utils.entity.bsds_rind_qualitative_drawer:draw_edge:183 - dilation times == 2\n",
      "2023-03-05 19:17:10.745 | INFO     | utils.entity.bsds_rind_qualitative_drawer:draw_edge:183 - dilation times == 2\n",
      "2023-03-05 19:17:11.585 | INFO     | utils.entity.bsds_rind_qualitative_drawer:draw_edge:183 - dilation times == 2\n"
     ]
    },
    {
     "name": "stdout",
     "output_type": "stream",
     "text": [
      "388006\n"
     ]
    },
    {
     "name": "stderr",
     "output_type": "stream",
     "text": [
      "2023-03-05 19:17:11.721 | INFO     | utils.entity.bsds_rind_qualitative_drawer:draw_edge:183 - dilation times == 2\n",
      "2023-03-05 19:17:11.889 | INFO     | utils.entity.bsds_rind_qualitative_drawer:draw_edge:183 - dilation times == 2\n",
      "2023-03-05 19:17:12.091 | INFO     | utils.entity.bsds_rind_qualitative_drawer:draw_edge:183 - dilation times == 2\n",
      "2023-03-05 19:17:12.327 | INFO     | utils.entity.bsds_rind_qualitative_drawer:draw_edge:183 - dilation times == 2\n",
      "2023-03-05 19:17:13.011 | INFO     | utils.entity.bsds_rind_qualitative_drawer:draw_edge:183 - dilation times == 2\n"
     ]
    },
    {
     "name": "stdout",
     "output_type": "stream",
     "text": [
      "134049\n"
     ]
    },
    {
     "name": "stderr",
     "output_type": "stream",
     "text": [
      "2023-03-05 19:17:13.195 | INFO     | utils.entity.bsds_rind_qualitative_drawer:draw_edge:183 - dilation times == 2\n",
      "2023-03-05 19:17:13.423 | INFO     | utils.entity.bsds_rind_qualitative_drawer:draw_edge:183 - dilation times == 2\n",
      "2023-03-05 19:17:13.695 | INFO     | utils.entity.bsds_rind_qualitative_drawer:draw_edge:183 - dilation times == 2\n",
      "2023-03-05 19:17:14.018 | INFO     | utils.entity.bsds_rind_qualitative_drawer:draw_edge:183 - dilation times == 2\n",
      "2023-03-05 19:17:14.739 | INFO     | utils.entity.bsds_rind_qualitative_drawer:draw_edge:183 - dilation times == 2\n"
     ]
    },
    {
     "name": "stdout",
     "output_type": "stream",
     "text": [
      "2018\n"
     ]
    },
    {
     "name": "stderr",
     "output_type": "stream",
     "text": [
      "2023-03-05 19:17:14.867 | INFO     | utils.entity.bsds_rind_qualitative_drawer:draw_edge:183 - dilation times == 2\n",
      "2023-03-05 19:17:15.028 | INFO     | utils.entity.bsds_rind_qualitative_drawer:draw_edge:183 - dilation times == 2\n",
      "2023-03-05 19:17:15.222 | INFO     | utils.entity.bsds_rind_qualitative_drawer:draw_edge:183 - dilation times == 2\n",
      "2023-03-05 19:17:15.450 | INFO     | utils.entity.bsds_rind_qualitative_drawer:draw_edge:183 - dilation times == 2\n",
      "2023-03-05 19:17:16.118 | INFO     | utils.entity.bsds_rind_qualitative_drawer:draw_edge:183 - dilation times == 2\n"
     ]
    },
    {
     "name": "stdout",
     "output_type": "stream",
     "text": [
      "235098\n"
     ]
    },
    {
     "name": "stderr",
     "output_type": "stream",
     "text": [
      "2023-03-05 19:17:16.304 | INFO     | utils.entity.bsds_rind_qualitative_drawer:draw_edge:183 - dilation times == 2\n",
      "2023-03-05 19:17:16.534 | INFO     | utils.entity.bsds_rind_qualitative_drawer:draw_edge:183 - dilation times == 2\n",
      "2023-03-05 19:17:16.805 | INFO     | utils.entity.bsds_rind_qualitative_drawer:draw_edge:183 - dilation times == 2\n",
      "2023-03-05 19:17:17.121 | INFO     | utils.entity.bsds_rind_qualitative_drawer:draw_edge:183 - dilation times == 2\n",
      "2023-03-05 19:17:17.843 | INFO     | utils.entity.bsds_rind_qualitative_drawer:draw_edge:183 - dilation times == 2\n"
     ]
    },
    {
     "name": "stdout",
     "output_type": "stream",
     "text": [
      "268074\n"
     ]
    },
    {
     "name": "stderr",
     "output_type": "stream",
     "text": [
      "2023-03-05 19:17:17.971 | INFO     | utils.entity.bsds_rind_qualitative_drawer:draw_edge:183 - dilation times == 2\n",
      "2023-03-05 19:17:18.133 | INFO     | utils.entity.bsds_rind_qualitative_drawer:draw_edge:183 - dilation times == 2\n",
      "2023-03-05 19:17:18.327 | INFO     | utils.entity.bsds_rind_qualitative_drawer:draw_edge:183 - dilation times == 2\n",
      "2023-03-05 19:17:18.555 | INFO     | utils.entity.bsds_rind_qualitative_drawer:draw_edge:183 - dilation times == 2\n",
      "2023-03-05 19:17:19.222 | INFO     | utils.entity.bsds_rind_qualitative_drawer:draw_edge:183 - dilation times == 2\n"
     ]
    },
    {
     "name": "stdout",
     "output_type": "stream",
     "text": [
      "346016\n"
     ]
    },
    {
     "name": "stderr",
     "output_type": "stream",
     "text": [
      "2023-03-05 19:17:19.402 | INFO     | utils.entity.bsds_rind_qualitative_drawer:draw_edge:183 - dilation times == 2\n",
      "2023-03-05 19:17:19.625 | INFO     | utils.entity.bsds_rind_qualitative_drawer:draw_edge:183 - dilation times == 2\n",
      "2023-03-05 19:17:19.898 | INFO     | utils.entity.bsds_rind_qualitative_drawer:draw_edge:183 - dilation times == 2\n",
      "2023-03-05 19:17:20.217 | INFO     | utils.entity.bsds_rind_qualitative_drawer:draw_edge:183 - dilation times == 2\n",
      "2023-03-05 19:17:21.124 | INFO     | utils.entity.bsds_rind_qualitative_drawer:draw_edge:183 - dilation times == 2\n"
     ]
    },
    {
     "name": "stdout",
     "output_type": "stream",
     "text": [
      "70011\n"
     ]
    },
    {
     "name": "stderr",
     "output_type": "stream",
     "text": [
      "2023-03-05 19:17:21.328 | INFO     | utils.entity.bsds_rind_qualitative_drawer:draw_edge:183 - dilation times == 2\n",
      "2023-03-05 19:17:21.572 | INFO     | utils.entity.bsds_rind_qualitative_drawer:draw_edge:183 - dilation times == 2\n",
      "2023-03-05 19:17:21.864 | INFO     | utils.entity.bsds_rind_qualitative_drawer:draw_edge:183 - dilation times == 2\n",
      "2023-03-05 19:17:22.197 | INFO     | utils.entity.bsds_rind_qualitative_drawer:draw_edge:183 - dilation times == 2\n",
      "2023-03-05 19:17:22.928 | INFO     | utils.entity.bsds_rind_qualitative_drawer:draw_edge:183 - dilation times == 2\n"
     ]
    },
    {
     "name": "stdout",
     "output_type": "stream",
     "text": [
      "189029\n"
     ]
    },
    {
     "name": "stderr",
     "output_type": "stream",
     "text": [
      "2023-03-05 19:17:23.049 | INFO     | utils.entity.bsds_rind_qualitative_drawer:draw_edge:183 - dilation times == 2\n",
      "2023-03-05 19:17:23.202 | INFO     | utils.entity.bsds_rind_qualitative_drawer:draw_edge:183 - dilation times == 2\n",
      "2023-03-05 19:17:23.390 | INFO     | utils.entity.bsds_rind_qualitative_drawer:draw_edge:183 - dilation times == 2\n",
      "2023-03-05 19:17:23.609 | INFO     | utils.entity.bsds_rind_qualitative_drawer:draw_edge:183 - dilation times == 2\n",
      "2023-03-05 19:17:24.276 | INFO     | utils.entity.bsds_rind_qualitative_drawer:draw_edge:183 - dilation times == 2\n"
     ]
    },
    {
     "name": "stdout",
     "output_type": "stream",
     "text": [
      "51084\n"
     ]
    },
    {
     "name": "stderr",
     "output_type": "stream",
     "text": [
      "2023-03-05 19:17:24.462 | INFO     | utils.entity.bsds_rind_qualitative_drawer:draw_edge:183 - dilation times == 2\n",
      "2023-03-05 19:17:24.699 | INFO     | utils.entity.bsds_rind_qualitative_drawer:draw_edge:183 - dilation times == 2\n",
      "2023-03-05 19:17:24.979 | INFO     | utils.entity.bsds_rind_qualitative_drawer:draw_edge:183 - dilation times == 2\n",
      "2023-03-05 19:17:25.302 | INFO     | utils.entity.bsds_rind_qualitative_drawer:draw_edge:183 - dilation times == 2\n",
      "2023-03-05 19:17:26.069 | INFO     | utils.entity.bsds_rind_qualitative_drawer:draw_edge:183 - dilation times == 2\n"
     ]
    },
    {
     "name": "stdout",
     "output_type": "stream",
     "text": [
      "141012\n"
     ]
    },
    {
     "name": "stderr",
     "output_type": "stream",
     "text": [
      "2023-03-05 19:17:26.243 | INFO     | utils.entity.bsds_rind_qualitative_drawer:draw_edge:183 - dilation times == 2\n",
      "2023-03-05 19:17:26.462 | INFO     | utils.entity.bsds_rind_qualitative_drawer:draw_edge:183 - dilation times == 2\n",
      "2023-03-05 19:17:26.726 | INFO     | utils.entity.bsds_rind_qualitative_drawer:draw_edge:183 - dilation times == 2\n",
      "2023-03-05 19:17:27.037 | INFO     | utils.entity.bsds_rind_qualitative_drawer:draw_edge:183 - dilation times == 2\n",
      "2023-03-05 19:17:27.798 | INFO     | utils.entity.bsds_rind_qualitative_drawer:draw_edge:183 - dilation times == 2\n"
     ]
    },
    {
     "name": "stdout",
     "output_type": "stream",
     "text": [
      "103006\n"
     ]
    },
    {
     "name": "stderr",
     "output_type": "stream",
     "text": [
      "2023-03-05 19:17:27.983 | INFO     | utils.entity.bsds_rind_qualitative_drawer:draw_edge:183 - dilation times == 2\n",
      "2023-03-05 19:17:28.214 | INFO     | utils.entity.bsds_rind_qualitative_drawer:draw_edge:183 - dilation times == 2\n",
      "2023-03-05 19:17:28.491 | INFO     | utils.entity.bsds_rind_qualitative_drawer:draw_edge:183 - dilation times == 2\n",
      "2023-03-05 19:17:28.812 | INFO     | utils.entity.bsds_rind_qualitative_drawer:draw_edge:183 - dilation times == 2\n",
      "2023-03-05 19:17:29.546 | INFO     | utils.entity.bsds_rind_qualitative_drawer:draw_edge:183 - dilation times == 2\n"
     ]
    },
    {
     "name": "stdout",
     "output_type": "stream",
     "text": [
      "253092\n"
     ]
    },
    {
     "name": "stderr",
     "output_type": "stream",
     "text": [
      "2023-03-05 19:17:29.679 | INFO     | utils.entity.bsds_rind_qualitative_drawer:draw_edge:183 - dilation times == 2\n",
      "2023-03-05 19:17:29.845 | INFO     | utils.entity.bsds_rind_qualitative_drawer:draw_edge:183 - dilation times == 2\n",
      "2023-03-05 19:17:30.050 | INFO     | utils.entity.bsds_rind_qualitative_drawer:draw_edge:183 - dilation times == 2\n",
      "2023-03-05 19:17:30.283 | INFO     | utils.entity.bsds_rind_qualitative_drawer:draw_edge:183 - dilation times == 2\n",
      "2023-03-05 19:17:31.088 | INFO     | utils.entity.bsds_rind_qualitative_drawer:draw_edge:183 - dilation times == 2\n"
     ]
    },
    {
     "name": "stdout",
     "output_type": "stream",
     "text": [
      "106005\n"
     ]
    },
    {
     "name": "stderr",
     "output_type": "stream",
     "text": [
      "2023-03-05 19:17:31.272 | INFO     | utils.entity.bsds_rind_qualitative_drawer:draw_edge:183 - dilation times == 2\n",
      "2023-03-05 19:17:31.495 | INFO     | utils.entity.bsds_rind_qualitative_drawer:draw_edge:183 - dilation times == 2\n",
      "2023-03-05 19:17:31.764 | INFO     | utils.entity.bsds_rind_qualitative_drawer:draw_edge:183 - dilation times == 2\n",
      "2023-03-05 19:17:32.076 | INFO     | utils.entity.bsds_rind_qualitative_drawer:draw_edge:183 - dilation times == 2\n",
      "2023-03-05 19:17:32.863 | INFO     | utils.entity.bsds_rind_qualitative_drawer:draw_edge:183 - dilation times == 2\n"
     ]
    },
    {
     "name": "stdout",
     "output_type": "stream",
     "text": [
      "385022\n"
     ]
    },
    {
     "name": "stderr",
     "output_type": "stream",
     "text": [
      "2023-03-05 19:17:33.043 | INFO     | utils.entity.bsds_rind_qualitative_drawer:draw_edge:183 - dilation times == 2\n",
      "2023-03-05 19:17:33.267 | INFO     | utils.entity.bsds_rind_qualitative_drawer:draw_edge:183 - dilation times == 2\n",
      "2023-03-05 19:17:33.542 | INFO     | utils.entity.bsds_rind_qualitative_drawer:draw_edge:183 - dilation times == 2\n",
      "2023-03-05 19:17:33.863 | INFO     | utils.entity.bsds_rind_qualitative_drawer:draw_edge:183 - dilation times == 2\n",
      "2023-03-05 19:17:34.626 | INFO     | utils.entity.bsds_rind_qualitative_drawer:draw_edge:183 - dilation times == 2\n"
     ]
    },
    {
     "name": "stdout",
     "output_type": "stream",
     "text": [
      "120003\n"
     ]
    },
    {
     "name": "stderr",
     "output_type": "stream",
     "text": [
      "2023-03-05 19:17:34.804 | INFO     | utils.entity.bsds_rind_qualitative_drawer:draw_edge:183 - dilation times == 2\n",
      "2023-03-05 19:17:35.026 | INFO     | utils.entity.bsds_rind_qualitative_drawer:draw_edge:183 - dilation times == 2\n",
      "2023-03-05 19:17:35.293 | INFO     | utils.entity.bsds_rind_qualitative_drawer:draw_edge:183 - dilation times == 2\n",
      "2023-03-05 19:17:35.609 | INFO     | utils.entity.bsds_rind_qualitative_drawer:draw_edge:183 - dilation times == 2\n",
      "2023-03-05 19:17:36.411 | INFO     | utils.entity.bsds_rind_qualitative_drawer:draw_edge:183 - dilation times == 2\n"
     ]
    },
    {
     "name": "stdout",
     "output_type": "stream",
     "text": [
      "3063\n"
     ]
    },
    {
     "name": "stderr",
     "output_type": "stream",
     "text": [
      "2023-03-05 19:17:36.610 | INFO     | utils.entity.bsds_rind_qualitative_drawer:draw_edge:183 - dilation times == 2\n",
      "2023-03-05 19:17:36.848 | INFO     | utils.entity.bsds_rind_qualitative_drawer:draw_edge:183 - dilation times == 2\n",
      "2023-03-05 19:17:37.129 | INFO     | utils.entity.bsds_rind_qualitative_drawer:draw_edge:183 - dilation times == 2\n",
      "2023-03-05 19:17:37.456 | INFO     | utils.entity.bsds_rind_qualitative_drawer:draw_edge:183 - dilation times == 2\n",
      "2023-03-05 19:17:38.192 | INFO     | utils.entity.bsds_rind_qualitative_drawer:draw_edge:183 - dilation times == 2\n"
     ]
    },
    {
     "name": "stdout",
     "output_type": "stream",
     "text": [
      "225022\n"
     ]
    },
    {
     "name": "stderr",
     "output_type": "stream",
     "text": [
      "2023-03-05 19:17:38.319 | INFO     | utils.entity.bsds_rind_qualitative_drawer:draw_edge:183 - dilation times == 2\n",
      "2023-03-05 19:17:38.480 | INFO     | utils.entity.bsds_rind_qualitative_drawer:draw_edge:183 - dilation times == 2\n",
      "2023-03-05 19:17:38.671 | INFO     | utils.entity.bsds_rind_qualitative_drawer:draw_edge:183 - dilation times == 2\n",
      "2023-03-05 19:17:38.899 | INFO     | utils.entity.bsds_rind_qualitative_drawer:draw_edge:183 - dilation times == 2\n",
      "2023-03-05 19:17:39.574 | INFO     | utils.entity.bsds_rind_qualitative_drawer:draw_edge:183 - dilation times == 2\n"
     ]
    },
    {
     "name": "stdout",
     "output_type": "stream",
     "text": [
      "179084\n"
     ]
    },
    {
     "name": "stderr",
     "output_type": "stream",
     "text": [
      "2023-03-05 19:17:39.755 | INFO     | utils.entity.bsds_rind_qualitative_drawer:draw_edge:183 - dilation times == 2\n",
      "2023-03-05 19:17:39.981 | INFO     | utils.entity.bsds_rind_qualitative_drawer:draw_edge:183 - dilation times == 2\n",
      "2023-03-05 19:17:40.253 | INFO     | utils.entity.bsds_rind_qualitative_drawer:draw_edge:183 - dilation times == 2\n",
      "2023-03-05 19:17:40.570 | INFO     | utils.entity.bsds_rind_qualitative_drawer:draw_edge:183 - dilation times == 2\n",
      "2023-03-05 19:17:41.427 | INFO     | utils.entity.bsds_rind_qualitative_drawer:draw_edge:183 - dilation times == 2\n"
     ]
    },
    {
     "name": "stdout",
     "output_type": "stream",
     "text": [
      "257098\n"
     ]
    },
    {
     "name": "stderr",
     "output_type": "stream",
     "text": [
      "2023-03-05 19:17:41.559 | INFO     | utils.entity.bsds_rind_qualitative_drawer:draw_edge:183 - dilation times == 2\n",
      "2023-03-05 19:17:41.724 | INFO     | utils.entity.bsds_rind_qualitative_drawer:draw_edge:183 - dilation times == 2\n",
      "2023-03-05 19:17:41.922 | INFO     | utils.entity.bsds_rind_qualitative_drawer:draw_edge:183 - dilation times == 2\n",
      "2023-03-05 19:17:42.155 | INFO     | utils.entity.bsds_rind_qualitative_drawer:draw_edge:183 - dilation times == 2\n",
      "2023-03-05 19:17:42.797 | INFO     | utils.entity.bsds_rind_qualitative_drawer:draw_edge:183 - dilation times == 2\n"
     ]
    },
    {
     "name": "stdout",
     "output_type": "stream",
     "text": [
      "289011\n"
     ]
    },
    {
     "name": "stderr",
     "output_type": "stream",
     "text": [
      "2023-03-05 19:17:42.958 | INFO     | utils.entity.bsds_rind_qualitative_drawer:draw_edge:183 - dilation times == 2\n",
      "2023-03-05 19:17:43.125 | INFO     | utils.entity.bsds_rind_qualitative_drawer:draw_edge:183 - dilation times == 2\n",
      "2023-03-05 19:17:43.326 | INFO     | utils.entity.bsds_rind_qualitative_drawer:draw_edge:183 - dilation times == 2\n",
      "2023-03-05 19:17:43.558 | INFO     | utils.entity.bsds_rind_qualitative_drawer:draw_edge:183 - dilation times == 2\n",
      "2023-03-05 19:17:44.244 | INFO     | utils.entity.bsds_rind_qualitative_drawer:draw_edge:183 - dilation times == 2\n"
     ]
    },
    {
     "name": "stdout",
     "output_type": "stream",
     "text": [
      "147080\n"
     ]
    },
    {
     "name": "stderr",
     "output_type": "stream",
     "text": [
      "2023-03-05 19:17:44.434 | INFO     | utils.entity.bsds_rind_qualitative_drawer:draw_edge:183 - dilation times == 2\n",
      "2023-03-05 19:17:44.667 | INFO     | utils.entity.bsds_rind_qualitative_drawer:draw_edge:183 - dilation times == 2\n",
      "2023-03-05 19:17:44.947 | INFO     | utils.entity.bsds_rind_qualitative_drawer:draw_edge:183 - dilation times == 2\n",
      "2023-03-05 19:17:45.270 | INFO     | utils.entity.bsds_rind_qualitative_drawer:draw_edge:183 - dilation times == 2\n",
      "2023-03-05 19:17:46.041 | INFO     | utils.entity.bsds_rind_qualitative_drawer:draw_edge:183 - dilation times == 2\n"
     ]
    },
    {
     "name": "stdout",
     "output_type": "stream",
     "text": [
      "92014\n"
     ]
    },
    {
     "name": "stderr",
     "output_type": "stream",
     "text": [
      "2023-03-05 19:17:46.222 | INFO     | utils.entity.bsds_rind_qualitative_drawer:draw_edge:183 - dilation times == 2\n",
      "2023-03-05 19:17:46.449 | INFO     | utils.entity.bsds_rind_qualitative_drawer:draw_edge:183 - dilation times == 2\n",
      "2023-03-05 19:17:46.721 | INFO     | utils.entity.bsds_rind_qualitative_drawer:draw_edge:183 - dilation times == 2\n",
      "2023-03-05 19:17:47.036 | INFO     | utils.entity.bsds_rind_qualitative_drawer:draw_edge:183 - dilation times == 2\n",
      "2023-03-05 19:17:47.761 | INFO     | utils.entity.bsds_rind_qualitative_drawer:draw_edge:183 - dilation times == 2\n"
     ]
    },
    {
     "name": "stdout",
     "output_type": "stream",
     "text": [
      "306051\n"
     ]
    },
    {
     "name": "stderr",
     "output_type": "stream",
     "text": [
      "2023-03-05 19:17:47.891 | INFO     | utils.entity.bsds_rind_qualitative_drawer:draw_edge:183 - dilation times == 2\n",
      "2023-03-05 19:17:48.053 | INFO     | utils.entity.bsds_rind_qualitative_drawer:draw_edge:183 - dilation times == 2\n",
      "2023-03-05 19:17:48.250 | INFO     | utils.entity.bsds_rind_qualitative_drawer:draw_edge:183 - dilation times == 2\n",
      "2023-03-05 19:17:48.479 | INFO     | utils.entity.bsds_rind_qualitative_drawer:draw_edge:183 - dilation times == 2\n",
      "2023-03-05 19:17:49.113 | INFO     | utils.entity.bsds_rind_qualitative_drawer:draw_edge:183 - dilation times == 2\n"
     ]
    },
    {
     "name": "stdout",
     "output_type": "stream",
     "text": [
      "230098\n"
     ]
    },
    {
     "name": "stderr",
     "output_type": "stream",
     "text": [
      "2023-03-05 19:17:49.246 | INFO     | utils.entity.bsds_rind_qualitative_drawer:draw_edge:183 - dilation times == 2\n",
      "2023-03-05 19:17:49.411 | INFO     | utils.entity.bsds_rind_qualitative_drawer:draw_edge:183 - dilation times == 2\n",
      "2023-03-05 19:17:49.722 | INFO     | utils.entity.bsds_rind_qualitative_drawer:draw_edge:183 - dilation times == 2\n",
      "2023-03-05 19:17:49.953 | INFO     | utils.entity.bsds_rind_qualitative_drawer:draw_edge:183 - dilation times == 2\n",
      "2023-03-05 19:17:50.591 | INFO     | utils.entity.bsds_rind_qualitative_drawer:draw_edge:183 - dilation times == 2\n"
     ]
    },
    {
     "name": "stdout",
     "output_type": "stream",
     "text": [
      "181021\n"
     ]
    },
    {
     "name": "stderr",
     "output_type": "stream",
     "text": [
      "2023-03-05 19:17:50.727 | INFO     | utils.entity.bsds_rind_qualitative_drawer:draw_edge:183 - dilation times == 2\n",
      "2023-03-05 19:17:50.897 | INFO     | utils.entity.bsds_rind_qualitative_drawer:draw_edge:183 - dilation times == 2\n",
      "2023-03-05 19:17:51.101 | INFO     | utils.entity.bsds_rind_qualitative_drawer:draw_edge:183 - dilation times == 2\n",
      "2023-03-05 19:17:51.337 | INFO     | utils.entity.bsds_rind_qualitative_drawer:draw_edge:183 - dilation times == 2\n",
      "2023-03-05 19:17:51.984 | INFO     | utils.entity.bsds_rind_qualitative_drawer:draw_edge:183 - dilation times == 2\n"
     ]
    },
    {
     "name": "stdout",
     "output_type": "stream",
     "text": [
      "223004\n"
     ]
    },
    {
     "name": "stderr",
     "output_type": "stream",
     "text": [
      "2023-03-05 19:17:52.113 | INFO     | utils.entity.bsds_rind_qualitative_drawer:draw_edge:183 - dilation times == 2\n",
      "2023-03-05 19:17:52.275 | INFO     | utils.entity.bsds_rind_qualitative_drawer:draw_edge:183 - dilation times == 2\n",
      "2023-03-05 19:17:52.471 | INFO     | utils.entity.bsds_rind_qualitative_drawer:draw_edge:183 - dilation times == 2\n",
      "2023-03-05 19:17:52.699 | INFO     | utils.entity.bsds_rind_qualitative_drawer:draw_edge:183 - dilation times == 2\n",
      "2023-03-05 19:17:53.385 | INFO     | utils.entity.bsds_rind_qualitative_drawer:draw_edge:183 - dilation times == 2\n"
     ]
    },
    {
     "name": "stdout",
     "output_type": "stream",
     "text": [
      "102062\n"
     ]
    },
    {
     "name": "stderr",
     "output_type": "stream",
     "text": [
      "2023-03-05 19:17:53.569 | INFO     | utils.entity.bsds_rind_qualitative_drawer:draw_edge:183 - dilation times == 2\n",
      "2023-03-05 19:17:53.796 | INFO     | utils.entity.bsds_rind_qualitative_drawer:draw_edge:183 - dilation times == 2\n",
      "2023-03-05 19:17:54.069 | INFO     | utils.entity.bsds_rind_qualitative_drawer:draw_edge:183 - dilation times == 2\n",
      "2023-03-05 19:17:54.386 | INFO     | utils.entity.bsds_rind_qualitative_drawer:draw_edge:183 - dilation times == 2\n",
      "2023-03-05 19:17:55.162 | INFO     | utils.entity.bsds_rind_qualitative_drawer:draw_edge:183 - dilation times == 2\n"
     ]
    },
    {
     "name": "stdout",
     "output_type": "stream",
     "text": [
      "108069\n"
     ]
    },
    {
     "name": "stderr",
     "output_type": "stream",
     "text": [
      "2023-03-05 19:17:55.355 | INFO     | utils.entity.bsds_rind_qualitative_drawer:draw_edge:183 - dilation times == 2\n",
      "2023-03-05 19:17:55.592 | INFO     | utils.entity.bsds_rind_qualitative_drawer:draw_edge:183 - dilation times == 2\n",
      "2023-03-05 19:17:55.875 | INFO     | utils.entity.bsds_rind_qualitative_drawer:draw_edge:183 - dilation times == 2\n",
      "2023-03-05 19:17:56.202 | INFO     | utils.entity.bsds_rind_qualitative_drawer:draw_edge:183 - dilation times == 2\n",
      "2023-03-05 19:17:56.973 | INFO     | utils.entity.bsds_rind_qualitative_drawer:draw_edge:183 - dilation times == 2\n"
     ]
    },
    {
     "name": "stdout",
     "output_type": "stream",
     "text": [
      "49024\n"
     ]
    },
    {
     "name": "stderr",
     "output_type": "stream",
     "text": [
      "2023-03-05 19:17:57.154 | INFO     | utils.entity.bsds_rind_qualitative_drawer:draw_edge:183 - dilation times == 2\n",
      "2023-03-05 19:17:57.378 | INFO     | utils.entity.bsds_rind_qualitative_drawer:draw_edge:183 - dilation times == 2\n",
      "2023-03-05 19:17:57.647 | INFO     | utils.entity.bsds_rind_qualitative_drawer:draw_edge:183 - dilation times == 2\n",
      "2023-03-05 19:17:57.963 | INFO     | utils.entity.bsds_rind_qualitative_drawer:draw_edge:183 - dilation times == 2\n"
     ]
    },
    {
     "name": "stdout",
     "output_type": "stream",
     "text": [
      "48025\n"
     ]
    },
    {
     "name": "stderr",
     "output_type": "stream",
     "text": [
      "2023-03-05 19:17:58.844 | INFO     | utils.entity.bsds_rind_qualitative_drawer:draw_edge:183 - dilation times == 2\n",
      "2023-03-05 19:17:59.031 | INFO     | utils.entity.bsds_rind_qualitative_drawer:draw_edge:183 - dilation times == 2\n",
      "2023-03-05 19:17:59.263 | INFO     | utils.entity.bsds_rind_qualitative_drawer:draw_edge:183 - dilation times == 2\n",
      "2023-03-05 19:17:59.540 | INFO     | utils.entity.bsds_rind_qualitative_drawer:draw_edge:183 - dilation times == 2\n",
      "2023-03-05 19:17:59.861 | INFO     | utils.entity.bsds_rind_qualitative_drawer:draw_edge:183 - dilation times == 2\n",
      "2023-03-05 19:18:00.653 | INFO     | utils.entity.bsds_rind_qualitative_drawer:draw_edge:183 - dilation times == 2\n"
     ]
    },
    {
     "name": "stdout",
     "output_type": "stream",
     "text": [
      "209021\n"
     ]
    },
    {
     "name": "stderr",
     "output_type": "stream",
     "text": [
      "2023-03-05 19:18:00.853 | INFO     | utils.entity.bsds_rind_qualitative_drawer:draw_edge:183 - dilation times == 2\n",
      "2023-03-05 19:18:01.099 | INFO     | utils.entity.bsds_rind_qualitative_drawer:draw_edge:183 - dilation times == 2\n",
      "2023-03-05 19:18:01.388 | INFO     | utils.entity.bsds_rind_qualitative_drawer:draw_edge:183 - dilation times == 2\n",
      "2023-03-05 19:18:01.725 | INFO     | utils.entity.bsds_rind_qualitative_drawer:draw_edge:183 - dilation times == 2\n",
      "2023-03-05 19:18:02.475 | INFO     | utils.entity.bsds_rind_qualitative_drawer:draw_edge:183 - dilation times == 2\n"
     ]
    },
    {
     "name": "stdout",
     "output_type": "stream",
     "text": [
      "388018\n"
     ]
    },
    {
     "name": "stderr",
     "output_type": "stream",
     "text": [
      "2023-03-05 19:18:02.611 | INFO     | utils.entity.bsds_rind_qualitative_drawer:draw_edge:183 - dilation times == 2\n",
      "2023-03-05 19:18:02.777 | INFO     | utils.entity.bsds_rind_qualitative_drawer:draw_edge:183 - dilation times == 2\n",
      "2023-03-05 19:18:02.979 | INFO     | utils.entity.bsds_rind_qualitative_drawer:draw_edge:183 - dilation times == 2\n",
      "2023-03-05 19:18:03.214 | INFO     | utils.entity.bsds_rind_qualitative_drawer:draw_edge:183 - dilation times == 2\n",
      "2023-03-05 19:18:03.901 | INFO     | utils.entity.bsds_rind_qualitative_drawer:draw_edge:183 - dilation times == 2\n"
     ]
    },
    {
     "name": "stdout",
     "output_type": "stream",
     "text": [
      "14092\n"
     ]
    },
    {
     "name": "stderr",
     "output_type": "stream",
     "text": [
      "2023-03-05 19:18:04.091 | INFO     | utils.entity.bsds_rind_qualitative_drawer:draw_edge:183 - dilation times == 2\n",
      "2023-03-05 19:18:04.324 | INFO     | utils.entity.bsds_rind_qualitative_drawer:draw_edge:183 - dilation times == 2\n",
      "2023-03-05 19:18:04.603 | INFO     | utils.entity.bsds_rind_qualitative_drawer:draw_edge:183 - dilation times == 2\n",
      "2023-03-05 19:18:04.932 | INFO     | utils.entity.bsds_rind_qualitative_drawer:draw_edge:183 - dilation times == 2\n",
      "2023-03-05 19:18:05.674 | INFO     | utils.entity.bsds_rind_qualitative_drawer:draw_edge:183 - dilation times == 2\n"
     ]
    },
    {
     "name": "stdout",
     "output_type": "stream",
     "text": [
      "61034\n"
     ]
    },
    {
     "name": "stderr",
     "output_type": "stream",
     "text": [
      "2023-03-05 19:18:05.813 | INFO     | utils.entity.bsds_rind_qualitative_drawer:draw_edge:183 - dilation times == 2\n",
      "2023-03-05 19:18:05.984 | INFO     | utils.entity.bsds_rind_qualitative_drawer:draw_edge:183 - dilation times == 2\n",
      "2023-03-05 19:18:06.189 | INFO     | utils.entity.bsds_rind_qualitative_drawer:draw_edge:183 - dilation times == 2\n",
      "2023-03-05 19:18:06.427 | INFO     | utils.entity.bsds_rind_qualitative_drawer:draw_edge:183 - dilation times == 2\n",
      "2023-03-05 19:18:07.146 | INFO     | utils.entity.bsds_rind_qualitative_drawer:draw_edge:183 - dilation times == 2\n"
     ]
    },
    {
     "name": "stdout",
     "output_type": "stream",
     "text": [
      "15011\n"
     ]
    },
    {
     "name": "stderr",
     "output_type": "stream",
     "text": [
      "2023-03-05 19:18:07.344 | INFO     | utils.entity.bsds_rind_qualitative_drawer:draw_edge:183 - dilation times == 2\n",
      "2023-03-05 19:18:07.581 | INFO     | utils.entity.bsds_rind_qualitative_drawer:draw_edge:183 - dilation times == 2\n",
      "2023-03-05 19:18:07.871 | INFO     | utils.entity.bsds_rind_qualitative_drawer:draw_edge:183 - dilation times == 2\n",
      "2023-03-05 19:18:08.214 | INFO     | utils.entity.bsds_rind_qualitative_drawer:draw_edge:183 - dilation times == 2\n",
      "2023-03-05 19:18:09.147 | INFO     | utils.entity.bsds_rind_qualitative_drawer:draw_edge:183 - dilation times == 2\n"
     ]
    },
    {
     "name": "stdout",
     "output_type": "stream",
     "text": [
      "35028\n"
     ]
    },
    {
     "name": "stderr",
     "output_type": "stream",
     "text": [
      "2023-03-05 19:18:09.328 | INFO     | utils.entity.bsds_rind_qualitative_drawer:draw_edge:183 - dilation times == 2\n",
      "2023-03-05 19:18:09.558 | INFO     | utils.entity.bsds_rind_qualitative_drawer:draw_edge:183 - dilation times == 2\n",
      "2023-03-05 19:18:09.829 | INFO     | utils.entity.bsds_rind_qualitative_drawer:draw_edge:183 - dilation times == 2\n",
      "2023-03-05 19:18:10.147 | INFO     | utils.entity.bsds_rind_qualitative_drawer:draw_edge:183 - dilation times == 2\n",
      "2023-03-05 19:18:10.887 | INFO     | utils.entity.bsds_rind_qualitative_drawer:draw_edge:183 - dilation times == 2\n"
     ]
    },
    {
     "name": "stdout",
     "output_type": "stream",
     "text": [
      "217013\n"
     ]
    },
    {
     "name": "stderr",
     "output_type": "stream",
     "text": [
      "2023-03-05 19:18:11.011 | INFO     | utils.entity.bsds_rind_qualitative_drawer:draw_edge:183 - dilation times == 2\n",
      "2023-03-05 19:18:11.168 | INFO     | utils.entity.bsds_rind_qualitative_drawer:draw_edge:183 - dilation times == 2\n",
      "2023-03-05 19:18:11.365 | INFO     | utils.entity.bsds_rind_qualitative_drawer:draw_edge:183 - dilation times == 2\n",
      "2023-03-05 19:18:11.591 | INFO     | utils.entity.bsds_rind_qualitative_drawer:draw_edge:183 - dilation times == 2\n",
      "2023-03-05 19:18:12.239 | INFO     | utils.entity.bsds_rind_qualitative_drawer:draw_edge:183 - dilation times == 2\n"
     ]
    },
    {
     "name": "stdout",
     "output_type": "stream",
     "text": [
      "159002\n"
     ]
    },
    {
     "name": "stderr",
     "output_type": "stream",
     "text": [
      "2023-03-05 19:18:12.368 | INFO     | utils.entity.bsds_rind_qualitative_drawer:draw_edge:183 - dilation times == 2\n",
      "2023-03-05 19:18:12.529 | INFO     | utils.entity.bsds_rind_qualitative_drawer:draw_edge:183 - dilation times == 2\n",
      "2023-03-05 19:18:12.732 | INFO     | utils.entity.bsds_rind_qualitative_drawer:draw_edge:183 - dilation times == 2\n",
      "2023-03-05 19:18:12.962 | INFO     | utils.entity.bsds_rind_qualitative_drawer:draw_edge:183 - dilation times == 2\n",
      "2023-03-05 19:18:13.643 | INFO     | utils.entity.bsds_rind_qualitative_drawer:draw_edge:183 - dilation times == 2\n"
     ]
    },
    {
     "name": "stdout",
     "output_type": "stream",
     "text": [
      "35028\n"
     ]
    },
    {
     "name": "stderr",
     "output_type": "stream",
     "text": [
      "2023-03-05 19:18:13.823 | INFO     | utils.entity.bsds_rind_qualitative_drawer:draw_edge:183 - dilation times == 2\n",
      "2023-03-05 19:18:14.049 | INFO     | utils.entity.bsds_rind_qualitative_drawer:draw_edge:183 - dilation times == 2\n",
      "2023-03-05 19:18:14.320 | INFO     | utils.entity.bsds_rind_qualitative_drawer:draw_edge:183 - dilation times == 2\n",
      "2023-03-05 19:18:14.636 | INFO     | utils.entity.bsds_rind_qualitative_drawer:draw_edge:183 - dilation times == 2\n",
      "2023-03-05 19:18:15.424 | INFO     | utils.entity.bsds_rind_qualitative_drawer:draw_edge:183 - dilation times == 2\n"
     ]
    },
    {
     "name": "stdout",
     "output_type": "stream",
     "text": [
      "145079\n"
     ]
    },
    {
     "name": "stderr",
     "output_type": "stream",
     "text": [
      "2023-03-05 19:18:15.610 | INFO     | utils.entity.bsds_rind_qualitative_drawer:draw_edge:183 - dilation times == 2\n",
      "2023-03-05 19:18:15.842 | INFO     | utils.entity.bsds_rind_qualitative_drawer:draw_edge:183 - dilation times == 2\n",
      "2023-03-05 19:18:16.120 | INFO     | utils.entity.bsds_rind_qualitative_drawer:draw_edge:183 - dilation times == 2\n",
      "2023-03-05 19:18:16.462 | INFO     | utils.entity.bsds_rind_qualitative_drawer:draw_edge:183 - dilation times == 2\n",
      "2023-03-05 19:18:17.256 | INFO     | utils.entity.bsds_rind_qualitative_drawer:draw_edge:183 - dilation times == 2\n"
     ]
    },
    {
     "name": "stdout",
     "output_type": "stream",
     "text": [
      "103078\n"
     ]
    },
    {
     "name": "stderr",
     "output_type": "stream",
     "text": [
      "2023-03-05 19:18:17.450 | INFO     | utils.entity.bsds_rind_qualitative_drawer:draw_edge:183 - dilation times == 2\n",
      "2023-03-05 19:18:17.689 | INFO     | utils.entity.bsds_rind_qualitative_drawer:draw_edge:183 - dilation times == 2\n",
      "2023-03-05 19:18:17.976 | INFO     | utils.entity.bsds_rind_qualitative_drawer:draw_edge:183 - dilation times == 2\n",
      "2023-03-05 19:18:18.306 | INFO     | utils.entity.bsds_rind_qualitative_drawer:draw_edge:183 - dilation times == 2\n",
      "2023-03-05 19:18:19.222 | INFO     | utils.entity.bsds_rind_qualitative_drawer:draw_edge:183 - dilation times == 2\n"
     ]
    },
    {
     "name": "stdout",
     "output_type": "stream",
     "text": [
      "207038\n"
     ]
    },
    {
     "name": "stderr",
     "output_type": "stream",
     "text": [
      "2023-03-05 19:18:19.415 | INFO     | utils.entity.bsds_rind_qualitative_drawer:draw_edge:183 - dilation times == 2\n",
      "2023-03-05 19:18:19.645 | INFO     | utils.entity.bsds_rind_qualitative_drawer:draw_edge:183 - dilation times == 2\n",
      "2023-03-05 19:18:19.928 | INFO     | utils.entity.bsds_rind_qualitative_drawer:draw_edge:183 - dilation times == 2\n",
      "2023-03-05 19:18:20.266 | INFO     | utils.entity.bsds_rind_qualitative_drawer:draw_edge:183 - dilation times == 2\n",
      "2023-03-05 19:18:21.075 | INFO     | utils.entity.bsds_rind_qualitative_drawer:draw_edge:183 - dilation times == 2\n"
     ]
    },
    {
     "name": "stdout",
     "output_type": "stream",
     "text": [
      "5096\n"
     ]
    },
    {
     "name": "stderr",
     "output_type": "stream",
     "text": [
      "2023-03-05 19:18:21.271 | INFO     | utils.entity.bsds_rind_qualitative_drawer:draw_edge:183 - dilation times == 2\n",
      "2023-03-05 19:18:21.508 | INFO     | utils.entity.bsds_rind_qualitative_drawer:draw_edge:183 - dilation times == 2\n",
      "2023-03-05 19:18:21.790 | INFO     | utils.entity.bsds_rind_qualitative_drawer:draw_edge:183 - dilation times == 2\n",
      "2023-03-05 19:18:22.123 | INFO     | utils.entity.bsds_rind_qualitative_drawer:draw_edge:183 - dilation times == 2\n",
      "2023-03-05 19:18:22.869 | INFO     | utils.entity.bsds_rind_qualitative_drawer:draw_edge:183 - dilation times == 2\n"
     ]
    },
    {
     "name": "stdout",
     "output_type": "stream",
     "text": [
      "65084\n"
     ]
    },
    {
     "name": "stderr",
     "output_type": "stream",
     "text": [
      "2023-03-05 19:18:23.004 | INFO     | utils.entity.bsds_rind_qualitative_drawer:draw_edge:183 - dilation times == 2\n",
      "2023-03-05 19:18:23.179 | INFO     | utils.entity.bsds_rind_qualitative_drawer:draw_edge:183 - dilation times == 2\n",
      "2023-03-05 19:18:23.382 | INFO     | utils.entity.bsds_rind_qualitative_drawer:draw_edge:183 - dilation times == 2\n",
      "2023-03-05 19:18:23.619 | INFO     | utils.entity.bsds_rind_qualitative_drawer:draw_edge:183 - dilation times == 2\n",
      "2023-03-05 19:18:24.324 | INFO     | utils.entity.bsds_rind_qualitative_drawer:draw_edge:183 - dilation times == 2\n"
     ]
    },
    {
     "name": "stdout",
     "output_type": "stream",
     "text": [
      "10081\n"
     ]
    },
    {
     "name": "stderr",
     "output_type": "stream",
     "text": [
      "2023-03-05 19:18:24.512 | INFO     | utils.entity.bsds_rind_qualitative_drawer:draw_edge:183 - dilation times == 2\n",
      "2023-03-05 19:18:24.742 | INFO     | utils.entity.bsds_rind_qualitative_drawer:draw_edge:183 - dilation times == 2\n",
      "2023-03-05 19:18:25.021 | INFO     | utils.entity.bsds_rind_qualitative_drawer:draw_edge:183 - dilation times == 2\n",
      "2023-03-05 19:18:25.341 | INFO     | utils.entity.bsds_rind_qualitative_drawer:draw_edge:183 - dilation times == 2\n",
      "2023-03-05 19:18:26.137 | INFO     | utils.entity.bsds_rind_qualitative_drawer:draw_edge:183 - dilation times == 2\n"
     ]
    },
    {
     "name": "stdout",
     "output_type": "stream",
     "text": [
      "344010\n"
     ]
    },
    {
     "name": "stderr",
     "output_type": "stream",
     "text": [
      "2023-03-05 19:18:26.331 | INFO     | utils.entity.bsds_rind_qualitative_drawer:draw_edge:183 - dilation times == 2\n",
      "2023-03-05 19:18:26.568 | INFO     | utils.entity.bsds_rind_qualitative_drawer:draw_edge:183 - dilation times == 2\n",
      "2023-03-05 19:18:26.851 | INFO     | utils.entity.bsds_rind_qualitative_drawer:draw_edge:183 - dilation times == 2\n",
      "2023-03-05 19:18:27.183 | INFO     | utils.entity.bsds_rind_qualitative_drawer:draw_edge:183 - dilation times == 2\n",
      "2023-03-05 19:18:27.976 | INFO     | utils.entity.bsds_rind_qualitative_drawer:draw_edge:183 - dilation times == 2\n"
     ]
    },
    {
     "name": "stdout",
     "output_type": "stream",
     "text": [
      "247003\n"
     ]
    },
    {
     "name": "stderr",
     "output_type": "stream",
     "text": [
      "2023-03-05 19:18:28.170 | INFO     | utils.entity.bsds_rind_qualitative_drawer:draw_edge:183 - dilation times == 2\n",
      "2023-03-05 19:18:28.409 | INFO     | utils.entity.bsds_rind_qualitative_drawer:draw_edge:183 - dilation times == 2\n",
      "2023-03-05 19:18:28.692 | INFO     | utils.entity.bsds_rind_qualitative_drawer:draw_edge:183 - dilation times == 2\n",
      "2023-03-05 19:18:29.022 | INFO     | utils.entity.bsds_rind_qualitative_drawer:draw_edge:183 - dilation times == 2\n",
      "2023-03-05 19:18:29.907 | INFO     | utils.entity.bsds_rind_qualitative_drawer:draw_edge:183 - dilation times == 2\n"
     ]
    },
    {
     "name": "stdout",
     "output_type": "stream",
     "text": [
      "140006\n"
     ]
    },
    {
     "name": "stderr",
     "output_type": "stream",
     "text": [
      "2023-03-05 19:18:30.038 | INFO     | utils.entity.bsds_rind_qualitative_drawer:draw_edge:183 - dilation times == 2\n",
      "2023-03-05 19:18:30.202 | INFO     | utils.entity.bsds_rind_qualitative_drawer:draw_edge:183 - dilation times == 2\n",
      "2023-03-05 19:18:30.403 | INFO     | utils.entity.bsds_rind_qualitative_drawer:draw_edge:183 - dilation times == 2\n",
      "2023-03-05 19:18:30.634 | INFO     | utils.entity.bsds_rind_qualitative_drawer:draw_edge:183 - dilation times == 2\n",
      "2023-03-05 19:18:31.341 | INFO     | utils.entity.bsds_rind_qualitative_drawer:draw_edge:183 - dilation times == 2\n"
     ]
    },
    {
     "name": "stdout",
     "output_type": "stream",
     "text": [
      "41006\n"
     ]
    },
    {
     "name": "stderr",
     "output_type": "stream",
     "text": [
      "2023-03-05 19:18:31.536 | INFO     | utils.entity.bsds_rind_qualitative_drawer:draw_edge:183 - dilation times == 2\n",
      "2023-03-05 19:18:31.777 | INFO     | utils.entity.bsds_rind_qualitative_drawer:draw_edge:183 - dilation times == 2\n",
      "2023-03-05 19:18:32.070 | INFO     | utils.entity.bsds_rind_qualitative_drawer:draw_edge:183 - dilation times == 2\n",
      "2023-03-05 19:18:32.409 | INFO     | utils.entity.bsds_rind_qualitative_drawer:draw_edge:183 - dilation times == 2\n",
      "2023-03-05 19:18:33.223 | INFO     | utils.entity.bsds_rind_qualitative_drawer:draw_edge:183 - dilation times == 2\n"
     ]
    },
    {
     "name": "stdout",
     "output_type": "stream",
     "text": [
      "253016\n"
     ]
    },
    {
     "name": "stderr",
     "output_type": "stream",
     "text": [
      "2023-03-05 19:18:33.417 | INFO     | utils.entity.bsds_rind_qualitative_drawer:draw_edge:183 - dilation times == 2\n",
      "2023-03-05 19:18:33.661 | INFO     | utils.entity.bsds_rind_qualitative_drawer:draw_edge:183 - dilation times == 2\n",
      "2023-03-05 19:18:33.948 | INFO     | utils.entity.bsds_rind_qualitative_drawer:draw_edge:183 - dilation times == 2\n",
      "2023-03-05 19:18:34.281 | INFO     | utils.entity.bsds_rind_qualitative_drawer:draw_edge:183 - dilation times == 2\n",
      "2023-03-05 19:18:35.079 | INFO     | utils.entity.bsds_rind_qualitative_drawer:draw_edge:183 - dilation times == 2\n"
     ]
    },
    {
     "name": "stdout",
     "output_type": "stream",
     "text": [
      "102062\n"
     ]
    },
    {
     "name": "stderr",
     "output_type": "stream",
     "text": [
      "2023-03-05 19:18:35.267 | INFO     | utils.entity.bsds_rind_qualitative_drawer:draw_edge:183 - dilation times == 2\n",
      "2023-03-05 19:18:35.500 | INFO     | utils.entity.bsds_rind_qualitative_drawer:draw_edge:183 - dilation times == 2\n",
      "2023-03-05 19:18:35.778 | INFO     | utils.entity.bsds_rind_qualitative_drawer:draw_edge:183 - dilation times == 2\n",
      "2023-03-05 19:18:36.131 | INFO     | utils.entity.bsds_rind_qualitative_drawer:draw_edge:183 - dilation times == 2\n",
      "2023-03-05 19:18:36.941 | INFO     | utils.entity.bsds_rind_qualitative_drawer:draw_edge:183 - dilation times == 2\n"
     ]
    },
    {
     "name": "stdout",
     "output_type": "stream",
     "text": [
      "81095\n"
     ]
    },
    {
     "name": "stderr",
     "output_type": "stream",
     "text": [
      "2023-03-05 19:18:37.146 | INFO     | utils.entity.bsds_rind_qualitative_drawer:draw_edge:183 - dilation times == 2\n",
      "2023-03-05 19:18:37.387 | INFO     | utils.entity.bsds_rind_qualitative_drawer:draw_edge:183 - dilation times == 2\n",
      "2023-03-05 19:18:37.683 | INFO     | utils.entity.bsds_rind_qualitative_drawer:draw_edge:183 - dilation times == 2\n",
      "2023-03-05 19:18:38.035 | INFO     | utils.entity.bsds_rind_qualitative_drawer:draw_edge:183 - dilation times == 2\n"
     ]
    },
    {
     "name": "stdout",
     "output_type": "stream",
     "text": [
      "209021\n"
     ]
    },
    {
     "name": "stderr",
     "output_type": "stream",
     "text": [
      "2023-03-05 19:18:38.885 | INFO     | utils.entity.bsds_rind_qualitative_drawer:draw_edge:183 - dilation times == 2\n",
      "2023-03-05 19:18:39.101 | INFO     | utils.entity.bsds_rind_qualitative_drawer:draw_edge:183 - dilation times == 2\n",
      "2023-03-05 19:18:39.358 | INFO     | utils.entity.bsds_rind_qualitative_drawer:draw_edge:183 - dilation times == 2\n",
      "2023-03-05 19:18:39.671 | INFO     | utils.entity.bsds_rind_qualitative_drawer:draw_edge:183 - dilation times == 2\n",
      "2023-03-05 19:18:40.048 | INFO     | utils.entity.bsds_rind_qualitative_drawer:draw_edge:183 - dilation times == 2\n",
      "2023-03-05 19:18:40.936 | INFO     | utils.entity.bsds_rind_qualitative_drawer:draw_edge:183 - dilation times == 2\n"
     ]
    },
    {
     "name": "stdout",
     "output_type": "stream",
     "text": [
      "134067\n"
     ]
    },
    {
     "name": "stderr",
     "output_type": "stream",
     "text": [
      "2023-03-05 19:18:41.070 | INFO     | utils.entity.bsds_rind_qualitative_drawer:draw_edge:183 - dilation times == 2\n",
      "2023-03-05 19:18:41.231 | INFO     | utils.entity.bsds_rind_qualitative_drawer:draw_edge:183 - dilation times == 2\n",
      "2023-03-05 19:18:41.426 | INFO     | utils.entity.bsds_rind_qualitative_drawer:draw_edge:183 - dilation times == 2\n",
      "2023-03-05 19:18:41.656 | INFO     | utils.entity.bsds_rind_qualitative_drawer:draw_edge:183 - dilation times == 2\n",
      "2023-03-05 19:18:42.397 | INFO     | utils.entity.bsds_rind_qualitative_drawer:draw_edge:183 - dilation times == 2\n"
     ]
    },
    {
     "name": "stdout",
     "output_type": "stream",
     "text": [
      "106047\n"
     ]
    },
    {
     "name": "stderr",
     "output_type": "stream",
     "text": [
      "2023-03-05 19:18:42.601 | INFO     | utils.entity.bsds_rind_qualitative_drawer:draw_edge:183 - dilation times == 2\n",
      "2023-03-05 19:18:42.846 | INFO     | utils.entity.bsds_rind_qualitative_drawer:draw_edge:183 - dilation times == 2\n",
      "2023-03-05 19:18:43.143 | INFO     | utils.entity.bsds_rind_qualitative_drawer:draw_edge:183 - dilation times == 2\n",
      "2023-03-05 19:18:43.485 | INFO     | utils.entity.bsds_rind_qualitative_drawer:draw_edge:183 - dilation times == 2\n",
      "2023-03-05 19:18:44.265 | INFO     | utils.entity.bsds_rind_qualitative_drawer:draw_edge:183 - dilation times == 2\n"
     ]
    },
    {
     "name": "stdout",
     "output_type": "stream",
     "text": [
      "306051\n"
     ]
    },
    {
     "name": "stderr",
     "output_type": "stream",
     "text": [
      "2023-03-05 19:18:44.408 | INFO     | utils.entity.bsds_rind_qualitative_drawer:draw_edge:183 - dilation times == 2\n",
      "2023-03-05 19:18:44.578 | INFO     | utils.entity.bsds_rind_qualitative_drawer:draw_edge:183 - dilation times == 2\n",
      "2023-03-05 19:18:44.824 | INFO     | utils.entity.bsds_rind_qualitative_drawer:draw_edge:183 - dilation times == 2\n",
      "2023-03-05 19:18:45.081 | INFO     | utils.entity.bsds_rind_qualitative_drawer:draw_edge:183 - dilation times == 2\n",
      "2023-03-05 19:18:45.773 | INFO     | utils.entity.bsds_rind_qualitative_drawer:draw_edge:183 - dilation times == 2\n"
     ]
    },
    {
     "name": "stdout",
     "output_type": "stream",
     "text": [
      "2018\n"
     ]
    },
    {
     "name": "stderr",
     "output_type": "stream",
     "text": [
      "2023-03-05 19:18:45.903 | INFO     | utils.entity.bsds_rind_qualitative_drawer:draw_edge:183 - dilation times == 2\n",
      "2023-03-05 19:18:46.064 | INFO     | utils.entity.bsds_rind_qualitative_drawer:draw_edge:183 - dilation times == 2\n",
      "2023-03-05 19:18:46.270 | INFO     | utils.entity.bsds_rind_qualitative_drawer:draw_edge:183 - dilation times == 2\n",
      "2023-03-05 19:18:46.508 | INFO     | utils.entity.bsds_rind_qualitative_drawer:draw_edge:183 - dilation times == 2\n",
      "2023-03-05 19:18:47.184 | INFO     | utils.entity.bsds_rind_qualitative_drawer:draw_edge:183 - dilation times == 2\n"
     ]
    },
    {
     "name": "stdout",
     "output_type": "stream",
     "text": [
      "226022\n"
     ]
    },
    {
     "name": "stderr",
     "output_type": "stream",
     "text": [
      "2023-03-05 19:18:47.375 | INFO     | utils.entity.bsds_rind_qualitative_drawer:draw_edge:183 - dilation times == 2\n",
      "2023-03-05 19:18:47.608 | INFO     | utils.entity.bsds_rind_qualitative_drawer:draw_edge:183 - dilation times == 2\n",
      "2023-03-05 19:18:47.887 | INFO     | utils.entity.bsds_rind_qualitative_drawer:draw_edge:183 - dilation times == 2\n",
      "2023-03-05 19:18:48.212 | INFO     | utils.entity.bsds_rind_qualitative_drawer:draw_edge:183 - dilation times == 2\n",
      "2023-03-05 19:18:49.011 | INFO     | utils.entity.bsds_rind_qualitative_drawer:draw_edge:183 - dilation times == 2\n"
     ]
    },
    {
     "name": "stdout",
     "output_type": "stream",
     "text": [
      "78098\n"
     ]
    },
    {
     "name": "stderr",
     "output_type": "stream",
     "text": [
      "2023-03-05 19:18:49.219 | INFO     | utils.entity.bsds_rind_qualitative_drawer:draw_edge:183 - dilation times == 2\n",
      "2023-03-05 19:18:49.459 | INFO     | utils.entity.bsds_rind_qualitative_drawer:draw_edge:183 - dilation times == 2\n",
      "2023-03-05 19:18:49.743 | INFO     | utils.entity.bsds_rind_qualitative_drawer:draw_edge:183 - dilation times == 2\n",
      "2023-03-05 19:18:50.082 | INFO     | utils.entity.bsds_rind_qualitative_drawer:draw_edge:183 - dilation times == 2\n",
      "2023-03-05 19:18:51.024 | INFO     | utils.entity.bsds_rind_qualitative_drawer:draw_edge:183 - dilation times == 2\n"
     ]
    },
    {
     "name": "stdout",
     "output_type": "stream",
     "text": [
      "16068\n"
     ]
    },
    {
     "name": "stderr",
     "output_type": "stream",
     "text": [
      "2023-03-05 19:18:51.228 | INFO     | utils.entity.bsds_rind_qualitative_drawer:draw_edge:183 - dilation times == 2\n",
      "2023-03-05 19:18:51.471 | INFO     | utils.entity.bsds_rind_qualitative_drawer:draw_edge:183 - dilation times == 2\n",
      "2023-03-05 19:18:51.775 | INFO     | utils.entity.bsds_rind_qualitative_drawer:draw_edge:183 - dilation times == 2\n",
      "2023-03-05 19:18:52.115 | INFO     | utils.entity.bsds_rind_qualitative_drawer:draw_edge:183 - dilation times == 2\n",
      "2023-03-05 19:18:52.956 | INFO     | utils.entity.bsds_rind_qualitative_drawer:draw_edge:183 - dilation times == 2\n"
     ]
    },
    {
     "name": "stdout",
     "output_type": "stream",
     "text": [
      "226033\n"
     ]
    },
    {
     "name": "stderr",
     "output_type": "stream",
     "text": [
      "2023-03-05 19:18:53.154 | INFO     | utils.entity.bsds_rind_qualitative_drawer:draw_edge:183 - dilation times == 2\n",
      "2023-03-05 19:18:53.398 | INFO     | utils.entity.bsds_rind_qualitative_drawer:draw_edge:183 - dilation times == 2\n",
      "2023-03-05 19:18:53.694 | INFO     | utils.entity.bsds_rind_qualitative_drawer:draw_edge:183 - dilation times == 2\n",
      "2023-03-05 19:18:54.040 | INFO     | utils.entity.bsds_rind_qualitative_drawer:draw_edge:183 - dilation times == 2\n",
      "2023-03-05 19:18:54.843 | INFO     | utils.entity.bsds_rind_qualitative_drawer:draw_edge:183 - dilation times == 2\n"
     ]
    },
    {
     "name": "stdout",
     "output_type": "stream",
     "text": [
      "134049\n"
     ]
    },
    {
     "name": "stderr",
     "output_type": "stream",
     "text": [
      "2023-03-05 19:18:55.038 | INFO     | utils.entity.bsds_rind_qualitative_drawer:draw_edge:183 - dilation times == 2\n",
      "2023-03-05 19:18:55.273 | INFO     | utils.entity.bsds_rind_qualitative_drawer:draw_edge:183 - dilation times == 2\n",
      "2023-03-05 19:18:55.560 | INFO     | utils.entity.bsds_rind_qualitative_drawer:draw_edge:183 - dilation times == 2\n",
      "2023-03-05 19:18:55.883 | INFO     | utils.entity.bsds_rind_qualitative_drawer:draw_edge:183 - dilation times == 2\n",
      "2023-03-05 19:18:56.692 | INFO     | utils.entity.bsds_rind_qualitative_drawer:draw_edge:183 - dilation times == 2\n"
     ]
    },
    {
     "name": "stdout",
     "output_type": "stream",
     "text": [
      "14085\n"
     ]
    },
    {
     "name": "stderr",
     "output_type": "stream",
     "text": [
      "2023-03-05 19:18:56.892 | INFO     | utils.entity.bsds_rind_qualitative_drawer:draw_edge:183 - dilation times == 2\n",
      "2023-03-05 19:18:57.129 | INFO     | utils.entity.bsds_rind_qualitative_drawer:draw_edge:183 - dilation times == 2\n",
      "2023-03-05 19:18:57.412 | INFO     | utils.entity.bsds_rind_qualitative_drawer:draw_edge:183 - dilation times == 2\n",
      "2023-03-05 19:18:57.740 | INFO     | utils.entity.bsds_rind_qualitative_drawer:draw_edge:183 - dilation times == 2\n",
      "2023-03-05 19:18:58.513 | INFO     | utils.entity.bsds_rind_qualitative_drawer:draw_edge:183 - dilation times == 2\n"
     ]
    },
    {
     "name": "stdout",
     "output_type": "stream",
     "text": [
      "97010\n"
     ]
    },
    {
     "name": "stderr",
     "output_type": "stream",
     "text": [
      "2023-03-05 19:18:58.693 | INFO     | utils.entity.bsds_rind_qualitative_drawer:draw_edge:183 - dilation times == 2\n",
      "2023-03-05 19:18:58.907 | INFO     | utils.entity.bsds_rind_qualitative_drawer:draw_edge:183 - dilation times == 2\n",
      "2023-03-05 19:18:59.172 | INFO     | utils.entity.bsds_rind_qualitative_drawer:draw_edge:183 - dilation times == 2\n",
      "2023-03-05 19:18:59.504 | INFO     | utils.entity.bsds_rind_qualitative_drawer:draw_edge:183 - dilation times == 2\n",
      "2023-03-05 19:19:00.284 | INFO     | utils.entity.bsds_rind_qualitative_drawer:draw_edge:183 - dilation times == 2\n"
     ]
    },
    {
     "name": "stdout",
     "output_type": "stream",
     "text": [
      "208078\n"
     ]
    },
    {
     "name": "stderr",
     "output_type": "stream",
     "text": [
      "2023-03-05 19:19:00.474 | INFO     | utils.entity.bsds_rind_qualitative_drawer:draw_edge:183 - dilation times == 2\n",
      "2023-03-05 19:19:00.703 | INFO     | utils.entity.bsds_rind_qualitative_drawer:draw_edge:183 - dilation times == 2\n",
      "2023-03-05 19:19:00.991 | INFO     | utils.entity.bsds_rind_qualitative_drawer:draw_edge:183 - dilation times == 2\n",
      "2023-03-05 19:19:01.316 | INFO     | utils.entity.bsds_rind_qualitative_drawer:draw_edge:183 - dilation times == 2\n",
      "2023-03-05 19:19:02.237 | INFO     | utils.entity.bsds_rind_qualitative_drawer:draw_edge:183 - dilation times == 2\n"
     ]
    },
    {
     "name": "stdout",
     "output_type": "stream",
     "text": [
      "176051\n"
     ]
    },
    {
     "name": "stderr",
     "output_type": "stream",
     "text": [
      "2023-03-05 19:19:02.442 | INFO     | utils.entity.bsds_rind_qualitative_drawer:draw_edge:183 - dilation times == 2\n",
      "2023-03-05 19:19:02.686 | INFO     | utils.entity.bsds_rind_qualitative_drawer:draw_edge:183 - dilation times == 2\n",
      "2023-03-05 19:19:02.962 | INFO     | utils.entity.bsds_rind_qualitative_drawer:draw_edge:183 - dilation times == 2\n",
      "2023-03-05 19:19:03.288 | INFO     | utils.entity.bsds_rind_qualitative_drawer:draw_edge:183 - dilation times == 2\n",
      "2023-03-05 19:19:04.013 | INFO     | utils.entity.bsds_rind_qualitative_drawer:draw_edge:183 - dilation times == 2\n"
     ]
    },
    {
     "name": "stdout",
     "output_type": "stream",
     "text": [
      "302022\n"
     ]
    },
    {
     "name": "stderr",
     "output_type": "stream",
     "text": [
      "2023-03-05 19:19:04.139 | INFO     | utils.entity.bsds_rind_qualitative_drawer:draw_edge:183 - dilation times == 2\n",
      "2023-03-05 19:19:04.300 | INFO     | utils.entity.bsds_rind_qualitative_drawer:draw_edge:183 - dilation times == 2\n",
      "2023-03-05 19:19:04.502 | INFO     | utils.entity.bsds_rind_qualitative_drawer:draw_edge:183 - dilation times == 2\n",
      "2023-03-05 19:19:04.729 | INFO     | utils.entity.bsds_rind_qualitative_drawer:draw_edge:183 - dilation times == 2\n",
      "2023-03-05 19:19:05.420 | INFO     | utils.entity.bsds_rind_qualitative_drawer:draw_edge:183 - dilation times == 2\n"
     ]
    },
    {
     "name": "stdout",
     "output_type": "stream",
     "text": [
      "258089\n"
     ]
    },
    {
     "name": "stderr",
     "output_type": "stream",
     "text": [
      "2023-03-05 19:19:05.608 | INFO     | utils.entity.bsds_rind_qualitative_drawer:draw_edge:183 - dilation times == 2\n",
      "2023-03-05 19:19:05.841 | INFO     | utils.entity.bsds_rind_qualitative_drawer:draw_edge:183 - dilation times == 2\n",
      "2023-03-05 19:19:06.119 | INFO     | utils.entity.bsds_rind_qualitative_drawer:draw_edge:183 - dilation times == 2\n",
      "2023-03-05 19:19:06.443 | INFO     | utils.entity.bsds_rind_qualitative_drawer:draw_edge:183 - dilation times == 2\n",
      "2023-03-05 19:19:07.172 | INFO     | utils.entity.bsds_rind_qualitative_drawer:draw_edge:183 - dilation times == 2\n"
     ]
    },
    {
     "name": "stdout",
     "output_type": "stream",
     "text": [
      "267036\n"
     ]
    },
    {
     "name": "stderr",
     "output_type": "stream",
     "text": [
      "2023-03-05 19:19:07.301 | INFO     | utils.entity.bsds_rind_qualitative_drawer:draw_edge:183 - dilation times == 2\n",
      "2023-03-05 19:19:07.462 | INFO     | utils.entity.bsds_rind_qualitative_drawer:draw_edge:183 - dilation times == 2\n",
      "2023-03-05 19:19:07.657 | INFO     | utils.entity.bsds_rind_qualitative_drawer:draw_edge:183 - dilation times == 2\n",
      "2023-03-05 19:19:07.884 | INFO     | utils.entity.bsds_rind_qualitative_drawer:draw_edge:183 - dilation times == 2\n",
      "2023-03-05 19:19:08.574 | INFO     | utils.entity.bsds_rind_qualitative_drawer:draw_edge:183 - dilation times == 2\n"
     ]
    },
    {
     "name": "stdout",
     "output_type": "stream",
     "text": [
      "108004\n"
     ]
    },
    {
     "name": "stderr",
     "output_type": "stream",
     "text": [
      "2023-03-05 19:19:08.766 | INFO     | utils.entity.bsds_rind_qualitative_drawer:draw_edge:183 - dilation times == 2\n",
      "2023-03-05 19:19:09.002 | INFO     | utils.entity.bsds_rind_qualitative_drawer:draw_edge:183 - dilation times == 2\n",
      "2023-03-05 19:19:09.280 | INFO     | utils.entity.bsds_rind_qualitative_drawer:draw_edge:183 - dilation times == 2\n",
      "2023-03-05 19:19:09.598 | INFO     | utils.entity.bsds_rind_qualitative_drawer:draw_edge:183 - dilation times == 2\n"
     ]
    },
    {
     "name": "stdout",
     "output_type": "stream",
     "text": [
      "220003\n"
     ]
    },
    {
     "name": "stderr",
     "output_type": "stream",
     "text": [
      "2023-03-05 19:19:10.489 | INFO     | utils.entity.bsds_rind_qualitative_drawer:draw_edge:183 - dilation times == 2\n",
      "2023-03-05 19:19:10.692 | INFO     | utils.entity.bsds_rind_qualitative_drawer:draw_edge:183 - dilation times == 2\n",
      "2023-03-05 19:19:10.930 | INFO     | utils.entity.bsds_rind_qualitative_drawer:draw_edge:183 - dilation times == 2\n",
      "2023-03-05 19:19:11.205 | INFO     | utils.entity.bsds_rind_qualitative_drawer:draw_edge:183 - dilation times == 2\n",
      "2023-03-05 19:19:11.539 | INFO     | utils.entity.bsds_rind_qualitative_drawer:draw_edge:183 - dilation times == 2\n",
      "2023-03-05 19:19:12.297 | INFO     | utils.entity.bsds_rind_qualitative_drawer:draw_edge:183 - dilation times == 2\n"
     ]
    },
    {
     "name": "stdout",
     "output_type": "stream",
     "text": [
      "43051\n"
     ]
    },
    {
     "name": "stderr",
     "output_type": "stream",
     "text": [
      "2023-03-05 19:19:12.470 | INFO     | utils.entity.bsds_rind_qualitative_drawer:draw_edge:183 - dilation times == 2\n",
      "2023-03-05 19:19:12.685 | INFO     | utils.entity.bsds_rind_qualitative_drawer:draw_edge:183 - dilation times == 2\n",
      "2023-03-05 19:19:12.953 | INFO     | utils.entity.bsds_rind_qualitative_drawer:draw_edge:183 - dilation times == 2\n",
      "2023-03-05 19:19:13.268 | INFO     | utils.entity.bsds_rind_qualitative_drawer:draw_edge:183 - dilation times == 2\n",
      "2023-03-05 19:19:14.023 | INFO     | utils.entity.bsds_rind_qualitative_drawer:draw_edge:183 - dilation times == 2\n"
     ]
    },
    {
     "name": "stdout",
     "output_type": "stream",
     "text": [
      "296028\n"
     ]
    },
    {
     "name": "stderr",
     "output_type": "stream",
     "text": [
      "2023-03-05 19:19:14.215 | INFO     | utils.entity.bsds_rind_qualitative_drawer:draw_edge:183 - dilation times == 2\n",
      "2023-03-05 19:19:14.447 | INFO     | utils.entity.bsds_rind_qualitative_drawer:draw_edge:183 - dilation times == 2\n",
      "2023-03-05 19:19:14.718 | INFO     | utils.entity.bsds_rind_qualitative_drawer:draw_edge:183 - dilation times == 2\n",
      "2023-03-05 19:19:15.045 | INFO     | utils.entity.bsds_rind_qualitative_drawer:draw_edge:183 - dilation times == 2\n",
      "2023-03-05 19:19:15.839 | INFO     | utils.entity.bsds_rind_qualitative_drawer:draw_edge:183 - dilation times == 2\n"
     ]
    },
    {
     "name": "stdout",
     "output_type": "stream",
     "text": [
      "247012\n"
     ]
    },
    {
     "name": "stderr",
     "output_type": "stream",
     "text": [
      "2023-03-05 19:19:16.028 | INFO     | utils.entity.bsds_rind_qualitative_drawer:draw_edge:183 - dilation times == 2\n",
      "2023-03-05 19:19:16.261 | INFO     | utils.entity.bsds_rind_qualitative_drawer:draw_edge:183 - dilation times == 2\n",
      "2023-03-05 19:19:16.540 | INFO     | utils.entity.bsds_rind_qualitative_drawer:draw_edge:183 - dilation times == 2\n",
      "2023-03-05 19:19:16.863 | INFO     | utils.entity.bsds_rind_qualitative_drawer:draw_edge:183 - dilation times == 2\n",
      "2023-03-05 19:19:17.662 | INFO     | utils.entity.bsds_rind_qualitative_drawer:draw_edge:183 - dilation times == 2\n"
     ]
    },
    {
     "name": "stdout",
     "output_type": "stream",
     "text": [
      "104055\n"
     ]
    },
    {
     "name": "stderr",
     "output_type": "stream",
     "text": [
      "2023-03-05 19:19:17.834 | INFO     | utils.entity.bsds_rind_qualitative_drawer:draw_edge:183 - dilation times == 2\n",
      "2023-03-05 19:19:18.007 | INFO     | utils.entity.bsds_rind_qualitative_drawer:draw_edge:183 - dilation times == 2\n",
      "2023-03-05 19:19:18.222 | INFO     | utils.entity.bsds_rind_qualitative_drawer:draw_edge:183 - dilation times == 2\n",
      "2023-03-05 19:19:18.471 | INFO     | utils.entity.bsds_rind_qualitative_drawer:draw_edge:183 - dilation times == 2\n",
      "2023-03-05 19:19:19.138 | INFO     | utils.entity.bsds_rind_qualitative_drawer:draw_edge:183 - dilation times == 2\n"
     ]
    },
    {
     "name": "stdout",
     "output_type": "stream",
     "text": [
      "384089\n"
     ]
    },
    {
     "name": "stderr",
     "output_type": "stream",
     "text": [
      "2023-03-05 19:19:19.266 | INFO     | utils.entity.bsds_rind_qualitative_drawer:draw_edge:183 - dilation times == 2\n",
      "2023-03-05 19:19:19.435 | INFO     | utils.entity.bsds_rind_qualitative_drawer:draw_edge:183 - dilation times == 2\n",
      "2023-03-05 19:19:19.643 | INFO     | utils.entity.bsds_rind_qualitative_drawer:draw_edge:183 - dilation times == 2\n",
      "2023-03-05 19:19:19.873 | INFO     | utils.entity.bsds_rind_qualitative_drawer:draw_edge:183 - dilation times == 2\n",
      "2023-03-05 19:19:20.661 | INFO     | utils.entity.bsds_rind_qualitative_drawer:draw_edge:183 - dilation times == 2\n"
     ]
    },
    {
     "name": "stdout",
     "output_type": "stream",
     "text": [
      "80090\n"
     ]
    },
    {
     "name": "stderr",
     "output_type": "stream",
     "text": [
      "2023-03-05 19:19:20.797 | INFO     | utils.entity.bsds_rind_qualitative_drawer:draw_edge:183 - dilation times == 2\n",
      "2023-03-05 19:19:20.967 | INFO     | utils.entity.bsds_rind_qualitative_drawer:draw_edge:183 - dilation times == 2\n",
      "2023-03-05 19:19:21.167 | INFO     | utils.entity.bsds_rind_qualitative_drawer:draw_edge:183 - dilation times == 2\n",
      "2023-03-05 19:19:21.408 | INFO     | utils.entity.bsds_rind_qualitative_drawer:draw_edge:183 - dilation times == 2\n",
      "2023-03-05 19:19:22.119 | INFO     | utils.entity.bsds_rind_qualitative_drawer:draw_edge:183 - dilation times == 2\n"
     ]
    },
    {
     "name": "stdout",
     "output_type": "stream",
     "text": [
      "385022\n"
     ]
    },
    {
     "name": "stderr",
     "output_type": "stream",
     "text": [
      "2023-03-05 19:19:22.312 | INFO     | utils.entity.bsds_rind_qualitative_drawer:draw_edge:183 - dilation times == 2\n",
      "2023-03-05 19:19:22.543 | INFO     | utils.entity.bsds_rind_qualitative_drawer:draw_edge:183 - dilation times == 2\n",
      "2023-03-05 19:19:22.834 | INFO     | utils.entity.bsds_rind_qualitative_drawer:draw_edge:183 - dilation times == 2\n",
      "2023-03-05 19:19:23.163 | INFO     | utils.entity.bsds_rind_qualitative_drawer:draw_edge:183 - dilation times == 2\n",
      "2023-03-05 19:19:23.966 | INFO     | utils.entity.bsds_rind_qualitative_drawer:draw_edge:183 - dilation times == 2\n"
     ]
    },
    {
     "name": "stdout",
     "output_type": "stream",
     "text": [
      "296058\n"
     ]
    },
    {
     "name": "stderr",
     "output_type": "stream",
     "text": [
      "2023-03-05 19:19:24.149 | INFO     | utils.entity.bsds_rind_qualitative_drawer:draw_edge:183 - dilation times == 2\n",
      "2023-03-05 19:19:24.394 | INFO     | utils.entity.bsds_rind_qualitative_drawer:draw_edge:183 - dilation times == 2\n",
      "2023-03-05 19:19:24.668 | INFO     | utils.entity.bsds_rind_qualitative_drawer:draw_edge:183 - dilation times == 2\n",
      "2023-03-05 19:19:24.985 | INFO     | utils.entity.bsds_rind_qualitative_drawer:draw_edge:183 - dilation times == 2\n",
      "2023-03-05 19:19:25.786 | INFO     | utils.entity.bsds_rind_qualitative_drawer:draw_edge:183 - dilation times == 2\n"
     ]
    },
    {
     "name": "stdout",
     "output_type": "stream",
     "text": [
      "104010\n"
     ]
    },
    {
     "name": "stderr",
     "output_type": "stream",
     "text": [
      "2023-03-05 19:19:25.925 | INFO     | utils.entity.bsds_rind_qualitative_drawer:draw_edge:183 - dilation times == 2\n",
      "2023-03-05 19:19:26.094 | INFO     | utils.entity.bsds_rind_qualitative_drawer:draw_edge:183 - dilation times == 2\n",
      "2023-03-05 19:19:26.300 | INFO     | utils.entity.bsds_rind_qualitative_drawer:draw_edge:183 - dilation times == 2\n",
      "2023-03-05 19:19:26.536 | INFO     | utils.entity.bsds_rind_qualitative_drawer:draw_edge:183 - dilation times == 2\n",
      "2023-03-05 19:19:27.215 | INFO     | utils.entity.bsds_rind_qualitative_drawer:draw_edge:183 - dilation times == 2\n"
     ]
    },
    {
     "name": "stdout",
     "output_type": "stream",
     "text": [
      "29030\n"
     ]
    },
    {
     "name": "stderr",
     "output_type": "stream",
     "text": [
      "2023-03-05 19:19:27.407 | INFO     | utils.entity.bsds_rind_qualitative_drawer:draw_edge:183 - dilation times == 2\n",
      "2023-03-05 19:19:27.636 | INFO     | utils.entity.bsds_rind_qualitative_drawer:draw_edge:183 - dilation times == 2\n",
      "2023-03-05 19:19:27.929 | INFO     | utils.entity.bsds_rind_qualitative_drawer:draw_edge:183 - dilation times == 2\n",
      "2023-03-05 19:19:28.249 | INFO     | utils.entity.bsds_rind_qualitative_drawer:draw_edge:183 - dilation times == 2\n",
      "2023-03-05 19:19:28.996 | INFO     | utils.entity.bsds_rind_qualitative_drawer:draw_edge:183 - dilation times == 2\n"
     ]
    },
    {
     "name": "stdout",
     "output_type": "stream",
     "text": [
      "147077\n"
     ]
    },
    {
     "name": "stderr",
     "output_type": "stream",
     "text": [
      "2023-03-05 19:19:29.133 | INFO     | utils.entity.bsds_rind_qualitative_drawer:draw_edge:183 - dilation times == 2\n",
      "2023-03-05 19:19:29.300 | INFO     | utils.entity.bsds_rind_qualitative_drawer:draw_edge:183 - dilation times == 2\n",
      "2023-03-05 19:19:29.512 | INFO     | utils.entity.bsds_rind_qualitative_drawer:draw_edge:183 - dilation times == 2\n",
      "2023-03-05 19:19:29.747 | INFO     | utils.entity.bsds_rind_qualitative_drawer:draw_edge:183 - dilation times == 2\n",
      "2023-03-05 19:19:30.569 | INFO     | utils.entity.bsds_rind_qualitative_drawer:draw_edge:183 - dilation times == 2\n"
     ]
    },
    {
     "name": "stdout",
     "output_type": "stream",
     "text": [
      "235098\n"
     ]
    },
    {
     "name": "stderr",
     "output_type": "stream",
     "text": [
      "2023-03-05 19:19:30.752 | INFO     | utils.entity.bsds_rind_qualitative_drawer:draw_edge:183 - dilation times == 2\n",
      "2023-03-05 19:19:30.994 | INFO     | utils.entity.bsds_rind_qualitative_drawer:draw_edge:183 - dilation times == 2\n",
      "2023-03-05 19:19:31.267 | INFO     | utils.entity.bsds_rind_qualitative_drawer:draw_edge:183 - dilation times == 2\n",
      "2023-03-05 19:19:31.583 | INFO     | utils.entity.bsds_rind_qualitative_drawer:draw_edge:183 - dilation times == 2\n",
      "2023-03-05 19:19:32.353 | INFO     | utils.entity.bsds_rind_qualitative_drawer:draw_edge:183 - dilation times == 2\n"
     ]
    },
    {
     "name": "stdout",
     "output_type": "stream",
     "text": [
      "107072\n"
     ]
    },
    {
     "name": "stderr",
     "output_type": "stream",
     "text": [
      "2023-03-05 19:19:32.544 | INFO     | utils.entity.bsds_rind_qualitative_drawer:draw_edge:183 - dilation times == 2\n",
      "2023-03-05 19:19:32.778 | INFO     | utils.entity.bsds_rind_qualitative_drawer:draw_edge:183 - dilation times == 2\n",
      "2023-03-05 19:19:33.058 | INFO     | utils.entity.bsds_rind_qualitative_drawer:draw_edge:183 - dilation times == 2\n",
      "2023-03-05 19:19:33.386 | INFO     | utils.entity.bsds_rind_qualitative_drawer:draw_edge:183 - dilation times == 2\n",
      "2023-03-05 19:19:34.143 | INFO     | utils.entity.bsds_rind_qualitative_drawer:draw_edge:183 - dilation times == 2\n"
     ]
    },
    {
     "name": "stdout",
     "output_type": "stream",
     "text": [
      "159002\n"
     ]
    },
    {
     "name": "stderr",
     "output_type": "stream",
     "text": [
      "2023-03-05 19:19:34.273 | INFO     | utils.entity.bsds_rind_qualitative_drawer:draw_edge:183 - dilation times == 2\n",
      "2023-03-05 19:19:34.433 | INFO     | utils.entity.bsds_rind_qualitative_drawer:draw_edge:183 - dilation times == 2\n",
      "2023-03-05 19:19:34.623 | INFO     | utils.entity.bsds_rind_qualitative_drawer:draw_edge:183 - dilation times == 2\n",
      "2023-03-05 19:19:34.846 | INFO     | utils.entity.bsds_rind_qualitative_drawer:draw_edge:183 - dilation times == 2\n",
      "2023-03-05 19:19:35.532 | INFO     | utils.entity.bsds_rind_qualitative_drawer:draw_edge:183 - dilation times == 2\n"
     ]
    },
    {
     "name": "stdout",
     "output_type": "stream",
     "text": [
      "108036\n"
     ]
    },
    {
     "name": "stderr",
     "output_type": "stream",
     "text": [
      "2023-03-05 19:19:35.721 | INFO     | utils.entity.bsds_rind_qualitative_drawer:draw_edge:183 - dilation times == 2\n",
      "2023-03-05 19:19:35.954 | INFO     | utils.entity.bsds_rind_qualitative_drawer:draw_edge:183 - dilation times == 2\n",
      "2023-03-05 19:19:36.234 | INFO     | utils.entity.bsds_rind_qualitative_drawer:draw_edge:183 - dilation times == 2\n",
      "2023-03-05 19:19:36.571 | INFO     | utils.entity.bsds_rind_qualitative_drawer:draw_edge:183 - dilation times == 2\n",
      "2023-03-05 19:19:37.342 | INFO     | utils.entity.bsds_rind_qualitative_drawer:draw_edge:183 - dilation times == 2\n"
     ]
    },
    {
     "name": "stdout",
     "output_type": "stream",
     "text": [
      "120003\n"
     ]
    },
    {
     "name": "stderr",
     "output_type": "stream",
     "text": [
      "2023-03-05 19:19:37.520 | INFO     | utils.entity.bsds_rind_qualitative_drawer:draw_edge:183 - dilation times == 2\n",
      "2023-03-05 19:19:37.742 | INFO     | utils.entity.bsds_rind_qualitative_drawer:draw_edge:183 - dilation times == 2\n",
      "2023-03-05 19:19:38.011 | INFO     | utils.entity.bsds_rind_qualitative_drawer:draw_edge:183 - dilation times == 2\n",
      "2023-03-05 19:19:38.325 | INFO     | utils.entity.bsds_rind_qualitative_drawer:draw_edge:183 - dilation times == 2\n",
      "2023-03-05 19:19:39.107 | INFO     | utils.entity.bsds_rind_qualitative_drawer:draw_edge:183 - dilation times == 2\n"
     ]
    },
    {
     "name": "stdout",
     "output_type": "stream",
     "text": [
      "290035\n"
     ]
    },
    {
     "name": "stderr",
     "output_type": "stream",
     "text": [
      "2023-03-05 19:19:39.309 | INFO     | utils.entity.bsds_rind_qualitative_drawer:draw_edge:183 - dilation times == 2\n",
      "2023-03-05 19:19:39.552 | INFO     | utils.entity.bsds_rind_qualitative_drawer:draw_edge:183 - dilation times == 2\n",
      "2023-03-05 19:19:39.860 | INFO     | utils.entity.bsds_rind_qualitative_drawer:draw_edge:183 - dilation times == 2\n",
      "2023-03-05 19:19:40.200 | INFO     | utils.entity.bsds_rind_qualitative_drawer:draw_edge:183 - dilation times == 2\n",
      "2023-03-05 19:19:41.112 | INFO     | utils.entity.bsds_rind_qualitative_drawer:draw_edge:183 - dilation times == 2\n"
     ]
    },
    {
     "name": "stdout",
     "output_type": "stream",
     "text": [
      "134067\n"
     ]
    },
    {
     "name": "stderr",
     "output_type": "stream",
     "text": [
      "2023-03-05 19:19:41.245 | INFO     | utils.entity.bsds_rind_qualitative_drawer:draw_edge:183 - dilation times == 2\n",
      "2023-03-05 19:19:41.410 | INFO     | utils.entity.bsds_rind_qualitative_drawer:draw_edge:183 - dilation times == 2\n",
      "2023-03-05 19:19:41.605 | INFO     | utils.entity.bsds_rind_qualitative_drawer:draw_edge:183 - dilation times == 2\n",
      "2023-03-05 19:19:41.837 | INFO     | utils.entity.bsds_rind_qualitative_drawer:draw_edge:183 - dilation times == 2\n",
      "2023-03-05 19:19:42.519 | INFO     | utils.entity.bsds_rind_qualitative_drawer:draw_edge:183 - dilation times == 2\n"
     ]
    },
    {
     "name": "stdout",
     "output_type": "stream",
     "text": [
      "163004\n"
     ]
    },
    {
     "name": "stderr",
     "output_type": "stream",
     "text": [
      "2023-03-05 19:19:42.675 | INFO     | utils.entity.bsds_rind_qualitative_drawer:draw_edge:183 - dilation times == 2\n",
      "2023-03-05 19:19:42.850 | INFO     | utils.entity.bsds_rind_qualitative_drawer:draw_edge:183 - dilation times == 2\n",
      "2023-03-05 19:19:43.069 | INFO     | utils.entity.bsds_rind_qualitative_drawer:draw_edge:183 - dilation times == 2\n",
      "2023-03-05 19:19:43.368 | INFO     | utils.entity.bsds_rind_qualitative_drawer:draw_edge:183 - dilation times == 2\n",
      "2023-03-05 19:19:44.031 | INFO     | utils.entity.bsds_rind_qualitative_drawer:draw_edge:183 - dilation times == 2\n"
     ]
    },
    {
     "name": "stdout",
     "output_type": "stream",
     "text": [
      "257098\n"
     ]
    },
    {
     "name": "stderr",
     "output_type": "stream",
     "text": [
      "2023-03-05 19:19:44.190 | INFO     | utils.entity.bsds_rind_qualitative_drawer:draw_edge:183 - dilation times == 2\n",
      "2023-03-05 19:19:44.367 | INFO     | utils.entity.bsds_rind_qualitative_drawer:draw_edge:183 - dilation times == 2\n",
      "2023-03-05 19:19:44.587 | INFO     | utils.entity.bsds_rind_qualitative_drawer:draw_edge:183 - dilation times == 2\n",
      "2023-03-05 19:19:44.844 | INFO     | utils.entity.bsds_rind_qualitative_drawer:draw_edge:183 - dilation times == 2\n",
      "2023-03-05 19:19:45.562 | INFO     | utils.entity.bsds_rind_qualitative_drawer:draw_edge:183 - dilation times == 2\n"
     ]
    },
    {
     "name": "stdout",
     "output_type": "stream",
     "text": [
      "306052\n"
     ]
    },
    {
     "name": "stderr",
     "output_type": "stream",
     "text": [
      "2023-03-05 19:19:45.758 | INFO     | utils.entity.bsds_rind_qualitative_drawer:draw_edge:183 - dilation times == 2\n",
      "2023-03-05 19:19:46.014 | INFO     | utils.entity.bsds_rind_qualitative_drawer:draw_edge:183 - dilation times == 2\n",
      "2023-03-05 19:19:46.307 | INFO     | utils.entity.bsds_rind_qualitative_drawer:draw_edge:183 - dilation times == 2\n",
      "2023-03-05 19:19:46.638 | INFO     | utils.entity.bsds_rind_qualitative_drawer:draw_edge:183 - dilation times == 2\n",
      "2023-03-05 19:19:47.424 | INFO     | utils.entity.bsds_rind_qualitative_drawer:draw_edge:183 - dilation times == 2\n"
     ]
    },
    {
     "name": "stdout",
     "output_type": "stream",
     "text": [
      "202000\n"
     ]
    },
    {
     "name": "stderr",
     "output_type": "stream",
     "text": [
      "2023-03-05 19:19:47.615 | INFO     | utils.entity.bsds_rind_qualitative_drawer:draw_edge:183 - dilation times == 2\n",
      "2023-03-05 19:19:47.836 | INFO     | utils.entity.bsds_rind_qualitative_drawer:draw_edge:183 - dilation times == 2\n",
      "2023-03-05 19:19:48.107 | INFO     | utils.entity.bsds_rind_qualitative_drawer:draw_edge:183 - dilation times == 2\n",
      "2023-03-05 19:19:48.425 | INFO     | utils.entity.bsds_rind_qualitative_drawer:draw_edge:183 - dilation times == 2\n",
      "2023-03-05 19:19:49.222 | INFO     | utils.entity.bsds_rind_qualitative_drawer:draw_edge:183 - dilation times == 2\n"
     ]
    },
    {
     "name": "stdout",
     "output_type": "stream",
     "text": [
      "130066\n"
     ]
    },
    {
     "name": "stderr",
     "output_type": "stream",
     "text": [
      "2023-03-05 19:19:49.412 | INFO     | utils.entity.bsds_rind_qualitative_drawer:draw_edge:183 - dilation times == 2\n",
      "2023-03-05 19:19:49.642 | INFO     | utils.entity.bsds_rind_qualitative_drawer:draw_edge:183 - dilation times == 2\n",
      "2023-03-05 19:19:49.919 | INFO     | utils.entity.bsds_rind_qualitative_drawer:draw_edge:183 - dilation times == 2\n",
      "2023-03-05 19:19:50.242 | INFO     | utils.entity.bsds_rind_qualitative_drawer:draw_edge:183 - dilation times == 2\n",
      "2023-03-05 19:19:51.194 | INFO     | utils.entity.bsds_rind_qualitative_drawer:draw_edge:183 - dilation times == 2\n"
     ]
    },
    {
     "name": "stdout",
     "output_type": "stream",
     "text": [
      "51084\n"
     ]
    },
    {
     "name": "stderr",
     "output_type": "stream",
     "text": [
      "2023-03-05 19:19:51.392 | INFO     | utils.entity.bsds_rind_qualitative_drawer:draw_edge:183 - dilation times == 2\n",
      "2023-03-05 19:19:51.639 | INFO     | utils.entity.bsds_rind_qualitative_drawer:draw_edge:183 - dilation times == 2\n",
      "2023-03-05 19:19:51.927 | INFO     | utils.entity.bsds_rind_qualitative_drawer:draw_edge:183 - dilation times == 2\n",
      "2023-03-05 19:19:52.262 | INFO     | utils.entity.bsds_rind_qualitative_drawer:draw_edge:183 - dilation times == 2\n",
      "2023-03-05 19:19:53.083 | INFO     | utils.entity.bsds_rind_qualitative_drawer:draw_edge:183 - dilation times == 2\n"
     ]
    },
    {
     "name": "stdout",
     "output_type": "stream",
     "text": [
      "100007\n"
     ]
    },
    {
     "name": "stderr",
     "output_type": "stream",
     "text": [
      "2023-03-05 19:19:53.288 | INFO     | utils.entity.bsds_rind_qualitative_drawer:draw_edge:183 - dilation times == 2\n",
      "2023-03-05 19:19:53.520 | INFO     | utils.entity.bsds_rind_qualitative_drawer:draw_edge:183 - dilation times == 2\n",
      "2023-03-05 19:19:53.798 | INFO     | utils.entity.bsds_rind_qualitative_drawer:draw_edge:183 - dilation times == 2\n",
      "2023-03-05 19:19:54.137 | INFO     | utils.entity.bsds_rind_qualitative_drawer:draw_edge:183 - dilation times == 2\n",
      "2023-03-05 19:19:54.898 | INFO     | utils.entity.bsds_rind_qualitative_drawer:draw_edge:183 - dilation times == 2\n"
     ]
    },
    {
     "name": "stdout",
     "output_type": "stream",
     "text": [
      "65084\n"
     ]
    },
    {
     "name": "stderr",
     "output_type": "stream",
     "text": [
      "2023-03-05 19:19:55.036 | INFO     | utils.entity.bsds_rind_qualitative_drawer:draw_edge:183 - dilation times == 2\n",
      "2023-03-05 19:19:55.217 | INFO     | utils.entity.bsds_rind_qualitative_drawer:draw_edge:183 - dilation times == 2\n",
      "2023-03-05 19:19:55.423 | INFO     | utils.entity.bsds_rind_qualitative_drawer:draw_edge:183 - dilation times == 2\n",
      "2023-03-05 19:19:55.681 | INFO     | utils.entity.bsds_rind_qualitative_drawer:draw_edge:183 - dilation times == 2\n",
      "2023-03-05 19:19:56.409 | INFO     | utils.entity.bsds_rind_qualitative_drawer:draw_edge:183 - dilation times == 2\n"
     ]
    },
    {
     "name": "stdout",
     "output_type": "stream",
     "text": [
      "41006\n"
     ]
    },
    {
     "name": "stderr",
     "output_type": "stream",
     "text": [
      "2023-03-05 19:19:56.623 | INFO     | utils.entity.bsds_rind_qualitative_drawer:draw_edge:183 - dilation times == 2\n",
      "2023-03-05 19:19:56.875 | INFO     | utils.entity.bsds_rind_qualitative_drawer:draw_edge:183 - dilation times == 2\n",
      "2023-03-05 19:19:57.191 | INFO     | utils.entity.bsds_rind_qualitative_drawer:draw_edge:183 - dilation times == 2\n",
      "2023-03-05 19:19:57.573 | INFO     | utils.entity.bsds_rind_qualitative_drawer:draw_edge:183 - dilation times == 2\n",
      "2023-03-05 19:19:58.387 | INFO     | utils.entity.bsds_rind_qualitative_drawer:draw_edge:183 - dilation times == 2\n"
     ]
    },
    {
     "name": "stdout",
     "output_type": "stream",
     "text": [
      "247012\n"
     ]
    },
    {
     "name": "stderr",
     "output_type": "stream",
     "text": [
      "2023-03-05 19:19:58.586 | INFO     | utils.entity.bsds_rind_qualitative_drawer:draw_edge:183 - dilation times == 2\n",
      "2023-03-05 19:19:58.822 | INFO     | utils.entity.bsds_rind_qualitative_drawer:draw_edge:183 - dilation times == 2\n",
      "2023-03-05 19:19:59.108 | INFO     | utils.entity.bsds_rind_qualitative_drawer:draw_edge:183 - dilation times == 2\n",
      "2023-03-05 19:19:59.440 | INFO     | utils.entity.bsds_rind_qualitative_drawer:draw_edge:183 - dilation times == 2\n",
      "2023-03-05 19:20:00.197 | INFO     | utils.entity.bsds_rind_qualitative_drawer:draw_edge:183 - dilation times == 2\n"
     ]
    },
    {
     "name": "stdout",
     "output_type": "stream",
     "text": [
      "196027\n"
     ]
    },
    {
     "name": "stderr",
     "output_type": "stream",
     "text": [
      "2023-03-05 19:20:00.329 | INFO     | utils.entity.bsds_rind_qualitative_drawer:draw_edge:183 - dilation times == 2\n",
      "2023-03-05 19:20:00.492 | INFO     | utils.entity.bsds_rind_qualitative_drawer:draw_edge:183 - dilation times == 2\n",
      "2023-03-05 19:20:00.686 | INFO     | utils.entity.bsds_rind_qualitative_drawer:draw_edge:183 - dilation times == 2\n",
      "2023-03-05 19:20:00.941 | INFO     | utils.entity.bsds_rind_qualitative_drawer:draw_edge:183 - dilation times == 2\n",
      "2023-03-05 19:20:01.715 | INFO     | utils.entity.bsds_rind_qualitative_drawer:draw_edge:183 - dilation times == 2\n"
     ]
    },
    {
     "name": "stdout",
     "output_type": "stream",
     "text": [
      "217013\n"
     ]
    },
    {
     "name": "stderr",
     "output_type": "stream",
     "text": [
      "2023-03-05 19:20:01.836 | INFO     | utils.entity.bsds_rind_qualitative_drawer:draw_edge:183 - dilation times == 2\n",
      "2023-03-05 19:20:01.991 | INFO     | utils.entity.bsds_rind_qualitative_drawer:draw_edge:183 - dilation times == 2\n",
      "2023-03-05 19:20:02.178 | INFO     | utils.entity.bsds_rind_qualitative_drawer:draw_edge:183 - dilation times == 2\n",
      "2023-03-05 19:20:02.409 | INFO     | utils.entity.bsds_rind_qualitative_drawer:draw_edge:183 - dilation times == 2\n",
      "2023-03-05 19:20:03.096 | INFO     | utils.entity.bsds_rind_qualitative_drawer:draw_edge:183 - dilation times == 2\n"
     ]
    },
    {
     "name": "stdout",
     "output_type": "stream",
     "text": [
      "179084\n"
     ]
    },
    {
     "name": "stderr",
     "output_type": "stream",
     "text": [
      "2023-03-05 19:20:03.296 | INFO     | utils.entity.bsds_rind_qualitative_drawer:draw_edge:183 - dilation times == 2\n",
      "2023-03-05 19:20:03.527 | INFO     | utils.entity.bsds_rind_qualitative_drawer:draw_edge:183 - dilation times == 2\n",
      "2023-03-05 19:20:03.797 | INFO     | utils.entity.bsds_rind_qualitative_drawer:draw_edge:183 - dilation times == 2\n",
      "2023-03-05 19:20:04.115 | INFO     | utils.entity.bsds_rind_qualitative_drawer:draw_edge:183 - dilation times == 2\n",
      "2023-03-05 19:20:04.901 | INFO     | utils.entity.bsds_rind_qualitative_drawer:draw_edge:183 - dilation times == 2\n"
     ]
    },
    {
     "name": "stdout",
     "output_type": "stream",
     "text": [
      "100099\n"
     ]
    },
    {
     "name": "stderr",
     "output_type": "stream",
     "text": [
      "2023-03-05 19:20:05.092 | INFO     | utils.entity.bsds_rind_qualitative_drawer:draw_edge:183 - dilation times == 2\n",
      "2023-03-05 19:20:05.323 | INFO     | utils.entity.bsds_rind_qualitative_drawer:draw_edge:183 - dilation times == 2\n",
      "2023-03-05 19:20:05.602 | INFO     | utils.entity.bsds_rind_qualitative_drawer:draw_edge:183 - dilation times == 2\n",
      "2023-03-05 19:20:05.927 | INFO     | utils.entity.bsds_rind_qualitative_drawer:draw_edge:183 - dilation times == 2\n",
      "2023-03-05 19:20:06.704 | INFO     | utils.entity.bsds_rind_qualitative_drawer:draw_edge:183 - dilation times == 2\n"
     ]
    },
    {
     "name": "stdout",
     "output_type": "stream",
     "text": [
      "112056\n"
     ]
    },
    {
     "name": "stderr",
     "output_type": "stream",
     "text": [
      "2023-03-05 19:20:06.896 | INFO     | utils.entity.bsds_rind_qualitative_drawer:draw_edge:183 - dilation times == 2\n",
      "2023-03-05 19:20:07.131 | INFO     | utils.entity.bsds_rind_qualitative_drawer:draw_edge:183 - dilation times == 2\n",
      "2023-03-05 19:20:07.412 | INFO     | utils.entity.bsds_rind_qualitative_drawer:draw_edge:183 - dilation times == 2\n",
      "2023-03-05 19:20:07.735 | INFO     | utils.entity.bsds_rind_qualitative_drawer:draw_edge:183 - dilation times == 2\n",
      "2023-03-05 19:20:08.515 | INFO     | utils.entity.bsds_rind_qualitative_drawer:draw_edge:183 - dilation times == 2\n"
     ]
    },
    {
     "name": "stdout",
     "output_type": "stream",
     "text": [
      "206062\n"
     ]
    },
    {
     "name": "stderr",
     "output_type": "stream",
     "text": [
      "2023-03-05 19:20:08.702 | INFO     | utils.entity.bsds_rind_qualitative_drawer:draw_edge:183 - dilation times == 2\n",
      "2023-03-05 19:20:08.934 | INFO     | utils.entity.bsds_rind_qualitative_drawer:draw_edge:183 - dilation times == 2\n",
      "2023-03-05 19:20:09.210 | INFO     | utils.entity.bsds_rind_qualitative_drawer:draw_edge:183 - dilation times == 2\n",
      "2023-03-05 19:20:09.533 | INFO     | utils.entity.bsds_rind_qualitative_drawer:draw_edge:183 - dilation times == 2\n",
      "2023-03-05 19:20:10.317 | INFO     | utils.entity.bsds_rind_qualitative_drawer:draw_edge:183 - dilation times == 2\n"
     ]
    },
    {
     "name": "stdout",
     "output_type": "stream",
     "text": [
      "103029\n"
     ]
    },
    {
     "name": "stderr",
     "output_type": "stream",
     "text": [
      "2023-03-05 19:20:10.511 | INFO     | utils.entity.bsds_rind_qualitative_drawer:draw_edge:183 - dilation times == 2\n",
      "2023-03-05 19:20:10.750 | INFO     | utils.entity.bsds_rind_qualitative_drawer:draw_edge:183 - dilation times == 2\n",
      "2023-03-05 19:20:11.032 | INFO     | utils.entity.bsds_rind_qualitative_drawer:draw_edge:183 - dilation times == 2\n",
      "2023-03-05 19:20:11.361 | INFO     | utils.entity.bsds_rind_qualitative_drawer:draw_edge:183 - dilation times == 2\n",
      "2023-03-05 19:20:12.225 | INFO     | utils.entity.bsds_rind_qualitative_drawer:draw_edge:183 - dilation times == 2\n"
     ]
    },
    {
     "name": "stdout",
     "output_type": "stream",
     "text": [
      "365072\n"
     ]
    },
    {
     "name": "stderr",
     "output_type": "stream",
     "text": [
      "2023-03-05 19:20:12.360 | INFO     | utils.entity.bsds_rind_qualitative_drawer:draw_edge:183 - dilation times == 2\n",
      "2023-03-05 19:20:12.533 | INFO     | utils.entity.bsds_rind_qualitative_drawer:draw_edge:183 - dilation times == 2\n",
      "2023-03-05 19:20:12.734 | INFO     | utils.entity.bsds_rind_qualitative_drawer:draw_edge:183 - dilation times == 2\n",
      "2023-03-05 19:20:12.964 | INFO     | utils.entity.bsds_rind_qualitative_drawer:draw_edge:183 - dilation times == 2\n",
      "2023-03-05 19:20:13.653 | INFO     | utils.entity.bsds_rind_qualitative_drawer:draw_edge:183 - dilation times == 2\n"
     ]
    },
    {
     "name": "stdout",
     "output_type": "stream",
     "text": [
      "376086\n"
     ]
    },
    {
     "name": "stderr",
     "output_type": "stream",
     "text": [
      "2023-03-05 19:20:13.843 | INFO     | utils.entity.bsds_rind_qualitative_drawer:draw_edge:183 - dilation times == 2\n",
      "2023-03-05 19:20:14.077 | INFO     | utils.entity.bsds_rind_qualitative_drawer:draw_edge:183 - dilation times == 2\n",
      "2023-03-05 19:20:14.358 | INFO     | utils.entity.bsds_rind_qualitative_drawer:draw_edge:183 - dilation times == 2\n",
      "2023-03-05 19:20:14.708 | INFO     | utils.entity.bsds_rind_qualitative_drawer:draw_edge:183 - dilation times == 2\n",
      "2023-03-05 19:20:15.535 | INFO     | utils.entity.bsds_rind_qualitative_drawer:draw_edge:183 - dilation times == 2\n"
     ]
    },
    {
     "name": "stdout",
     "output_type": "stream",
     "text": [
      "101027\n"
     ]
    },
    {
     "name": "stderr",
     "output_type": "stream",
     "text": [
      "2023-03-05 19:20:15.737 | INFO     | utils.entity.bsds_rind_qualitative_drawer:draw_edge:183 - dilation times == 2\n",
      "2023-03-05 19:20:15.983 | INFO     | utils.entity.bsds_rind_qualitative_drawer:draw_edge:183 - dilation times == 2\n",
      "2023-03-05 19:20:16.290 | INFO     | utils.entity.bsds_rind_qualitative_drawer:draw_edge:183 - dilation times == 2\n",
      "2023-03-05 19:20:16.630 | INFO     | utils.entity.bsds_rind_qualitative_drawer:draw_edge:183 - dilation times == 2\n",
      "2023-03-05 19:20:17.411 | INFO     | utils.entity.bsds_rind_qualitative_drawer:draw_edge:183 - dilation times == 2\n"
     ]
    },
    {
     "name": "stdout",
     "output_type": "stream",
     "text": [
      "220003\n"
     ]
    },
    {
     "name": "stderr",
     "output_type": "stream",
     "text": [
      "2023-03-05 19:20:17.609 | INFO     | utils.entity.bsds_rind_qualitative_drawer:draw_edge:183 - dilation times == 2\n",
      "2023-03-05 19:20:17.841 | INFO     | utils.entity.bsds_rind_qualitative_drawer:draw_edge:183 - dilation times == 2\n",
      "2023-03-05 19:20:18.133 | INFO     | utils.entity.bsds_rind_qualitative_drawer:draw_edge:183 - dilation times == 2\n",
      "2023-03-05 19:20:18.462 | INFO     | utils.entity.bsds_rind_qualitative_drawer:draw_edge:183 - dilation times == 2\n",
      "2023-03-05 19:20:19.201 | INFO     | utils.entity.bsds_rind_qualitative_drawer:draw_edge:183 - dilation times == 2\n"
     ]
    },
    {
     "name": "stdout",
     "output_type": "stream",
     "text": [
      "267036\n"
     ]
    },
    {
     "name": "stderr",
     "output_type": "stream",
     "text": [
      "2023-03-05 19:20:19.332 | INFO     | utils.entity.bsds_rind_qualitative_drawer:draw_edge:183 - dilation times == 2\n",
      "2023-03-05 19:20:19.499 | INFO     | utils.entity.bsds_rind_qualitative_drawer:draw_edge:183 - dilation times == 2\n",
      "2023-03-05 19:20:19.701 | INFO     | utils.entity.bsds_rind_qualitative_drawer:draw_edge:183 - dilation times == 2\n",
      "2023-03-05 19:20:19.940 | INFO     | utils.entity.bsds_rind_qualitative_drawer:draw_edge:183 - dilation times == 2\n"
     ]
    },
    {
     "name": "stdout",
     "output_type": "stream",
     "text": [
      "49024\n"
     ]
    },
    {
     "name": "stderr",
     "output_type": "stream",
     "text": [
      "2023-03-05 19:20:20.745 | INFO     | utils.entity.bsds_rind_qualitative_drawer:draw_edge:183 - dilation times == 2\n",
      "2023-03-05 19:20:20.929 | INFO     | utils.entity.bsds_rind_qualitative_drawer:draw_edge:183 - dilation times == 2\n",
      "2023-03-05 19:20:21.158 | INFO     | utils.entity.bsds_rind_qualitative_drawer:draw_edge:183 - dilation times == 2\n",
      "2023-03-05 19:20:21.432 | INFO     | utils.entity.bsds_rind_qualitative_drawer:draw_edge:183 - dilation times == 2\n",
      "2023-03-05 19:20:21.756 | INFO     | utils.entity.bsds_rind_qualitative_drawer:draw_edge:183 - dilation times == 2\n",
      "2023-03-05 19:20:22.532 | INFO     | utils.entity.bsds_rind_qualitative_drawer:draw_edge:183 - dilation times == 2\n"
     ]
    },
    {
     "name": "stdout",
     "output_type": "stream",
     "text": [
      "107072\n"
     ]
    },
    {
     "name": "stderr",
     "output_type": "stream",
     "text": [
      "2023-03-05 19:20:22.723 | INFO     | utils.entity.bsds_rind_qualitative_drawer:draw_edge:183 - dilation times == 2\n",
      "2023-03-05 19:20:22.962 | INFO     | utils.entity.bsds_rind_qualitative_drawer:draw_edge:183 - dilation times == 2\n",
      "2023-03-05 19:20:23.248 | INFO     | utils.entity.bsds_rind_qualitative_drawer:draw_edge:183 - dilation times == 2\n",
      "2023-03-05 19:20:23.576 | INFO     | utils.entity.bsds_rind_qualitative_drawer:draw_edge:183 - dilation times == 2\n",
      "2023-03-05 19:20:24.325 | INFO     | utils.entity.bsds_rind_qualitative_drawer:draw_edge:183 - dilation times == 2\n"
     ]
    },
    {
     "name": "stdout",
     "output_type": "stream",
     "text": [
      "23050\n"
     ]
    },
    {
     "name": "stderr",
     "output_type": "stream",
     "text": [
      "2023-03-05 19:20:24.466 | INFO     | utils.entity.bsds_rind_qualitative_drawer:draw_edge:183 - dilation times == 2\n",
      "2023-03-05 19:20:24.628 | INFO     | utils.entity.bsds_rind_qualitative_drawer:draw_edge:183 - dilation times == 2\n",
      "2023-03-05 19:20:24.827 | INFO     | utils.entity.bsds_rind_qualitative_drawer:draw_edge:183 - dilation times == 2\n",
      "2023-03-05 19:20:25.059 | INFO     | utils.entity.bsds_rind_qualitative_drawer:draw_edge:183 - dilation times == 2\n",
      "2023-03-05 19:20:25.742 | INFO     | utils.entity.bsds_rind_qualitative_drawer:draw_edge:183 - dilation times == 2\n"
     ]
    },
    {
     "name": "stdout",
     "output_type": "stream",
     "text": [
      "187058\n"
     ]
    },
    {
     "name": "stderr",
     "output_type": "stream",
     "text": [
      "2023-03-05 19:20:25.927 | INFO     | utils.entity.bsds_rind_qualitative_drawer:draw_edge:183 - dilation times == 2\n",
      "2023-03-05 19:20:26.170 | INFO     | utils.entity.bsds_rind_qualitative_drawer:draw_edge:183 - dilation times == 2\n",
      "2023-03-05 19:20:26.446 | INFO     | utils.entity.bsds_rind_qualitative_drawer:draw_edge:183 - dilation times == 2\n",
      "2023-03-05 19:20:26.769 | INFO     | utils.entity.bsds_rind_qualitative_drawer:draw_edge:183 - dilation times == 2\n",
      "2023-03-05 19:20:27.506 | INFO     | utils.entity.bsds_rind_qualitative_drawer:draw_edge:183 - dilation times == 2\n"
     ]
    },
    {
     "name": "stdout",
     "output_type": "stream",
     "text": [
      "246009\n"
     ]
    },
    {
     "name": "stderr",
     "output_type": "stream",
     "text": [
      "2023-03-05 19:20:27.652 | INFO     | utils.entity.bsds_rind_qualitative_drawer:draw_edge:183 - dilation times == 2\n",
      "2023-03-05 19:20:27.841 | INFO     | utils.entity.bsds_rind_qualitative_drawer:draw_edge:183 - dilation times == 2\n",
      "2023-03-05 19:20:28.063 | INFO     | utils.entity.bsds_rind_qualitative_drawer:draw_edge:183 - dilation times == 2\n",
      "2023-03-05 19:20:28.309 | INFO     | utils.entity.bsds_rind_qualitative_drawer:draw_edge:183 - dilation times == 2\n",
      "2023-03-05 19:20:28.953 | INFO     | utils.entity.bsds_rind_qualitative_drawer:draw_edge:183 - dilation times == 2\n"
     ]
    },
    {
     "name": "stdout",
     "output_type": "stream",
     "text": [
      "71076\n"
     ]
    },
    {
     "name": "stderr",
     "output_type": "stream",
     "text": [
      "2023-03-05 19:20:29.087 | INFO     | utils.entity.bsds_rind_qualitative_drawer:draw_edge:183 - dilation times == 2\n",
      "2023-03-05 19:20:29.264 | INFO     | utils.entity.bsds_rind_qualitative_drawer:draw_edge:183 - dilation times == 2\n",
      "2023-03-05 19:20:29.471 | INFO     | utils.entity.bsds_rind_qualitative_drawer:draw_edge:183 - dilation times == 2\n",
      "2023-03-05 19:20:29.711 | INFO     | utils.entity.bsds_rind_qualitative_drawer:draw_edge:183 - dilation times == 2\n",
      "2023-03-05 19:20:30.512 | INFO     | utils.entity.bsds_rind_qualitative_drawer:draw_edge:183 - dilation times == 2\n"
     ]
    },
    {
     "name": "stdout",
     "output_type": "stream",
     "text": [
      "102062\n"
     ]
    },
    {
     "name": "stderr",
     "output_type": "stream",
     "text": [
      "2023-03-05 19:20:30.697 | INFO     | utils.entity.bsds_rind_qualitative_drawer:draw_edge:183 - dilation times == 2\n",
      "2023-03-05 19:20:30.927 | INFO     | utils.entity.bsds_rind_qualitative_drawer:draw_edge:183 - dilation times == 2\n",
      "2023-03-05 19:20:31.204 | INFO     | utils.entity.bsds_rind_qualitative_drawer:draw_edge:183 - dilation times == 2\n",
      "2023-03-05 19:20:31.530 | INFO     | utils.entity.bsds_rind_qualitative_drawer:draw_edge:183 - dilation times == 2\n",
      "2023-03-05 19:20:32.342 | INFO     | utils.entity.bsds_rind_qualitative_drawer:draw_edge:183 - dilation times == 2\n"
     ]
    },
    {
     "name": "stdout",
     "output_type": "stream",
     "text": [
      "290035\n"
     ]
    },
    {
     "name": "stderr",
     "output_type": "stream",
     "text": [
      "2023-03-05 19:20:32.566 | INFO     | utils.entity.bsds_rind_qualitative_drawer:draw_edge:183 - dilation times == 2\n",
      "2023-03-05 19:20:32.830 | INFO     | utils.entity.bsds_rind_qualitative_drawer:draw_edge:183 - dilation times == 2\n",
      "2023-03-05 19:20:33.142 | INFO     | utils.entity.bsds_rind_qualitative_drawer:draw_edge:183 - dilation times == 2\n",
      "2023-03-05 19:20:33.482 | INFO     | utils.entity.bsds_rind_qualitative_drawer:draw_edge:183 - dilation times == 2\n",
      "2023-03-05 19:20:34.292 | INFO     | utils.entity.bsds_rind_qualitative_drawer:draw_edge:183 - dilation times == 2\n"
     ]
    },
    {
     "name": "stdout",
     "output_type": "stream",
     "text": [
      "277053\n"
     ]
    },
    {
     "name": "stderr",
     "output_type": "stream",
     "text": [
      "2023-03-05 19:20:34.514 | INFO     | utils.entity.bsds_rind_qualitative_drawer:draw_edge:183 - dilation times == 2\n",
      "2023-03-05 19:20:34.760 | INFO     | utils.entity.bsds_rind_qualitative_drawer:draw_edge:183 - dilation times == 2\n",
      "2023-03-05 19:20:35.039 | INFO     | utils.entity.bsds_rind_qualitative_drawer:draw_edge:183 - dilation times == 2\n",
      "2023-03-05 19:20:35.363 | INFO     | utils.entity.bsds_rind_qualitative_drawer:draw_edge:183 - dilation times == 2\n",
      "2023-03-05 19:20:36.140 | INFO     | utils.entity.bsds_rind_qualitative_drawer:draw_edge:183 - dilation times == 2\n"
     ]
    },
    {
     "name": "stdout",
     "output_type": "stream",
     "text": [
      "160067\n"
     ]
    },
    {
     "name": "stderr",
     "output_type": "stream",
     "text": [
      "2023-03-05 19:20:36.317 | INFO     | utils.entity.bsds_rind_qualitative_drawer:draw_edge:183 - dilation times == 2\n",
      "2023-03-05 19:20:36.539 | INFO     | utils.entity.bsds_rind_qualitative_drawer:draw_edge:183 - dilation times == 2\n",
      "2023-03-05 19:20:36.809 | INFO     | utils.entity.bsds_rind_qualitative_drawer:draw_edge:183 - dilation times == 2\n",
      "2023-03-05 19:20:37.132 | INFO     | utils.entity.bsds_rind_qualitative_drawer:draw_edge:183 - dilation times == 2\n",
      "2023-03-05 19:20:37.903 | INFO     | utils.entity.bsds_rind_qualitative_drawer:draw_edge:183 - dilation times == 2\n"
     ]
    },
    {
     "name": "stdout",
     "output_type": "stream",
     "text": [
      "8068\n"
     ]
    },
    {
     "name": "stderr",
     "output_type": "stream",
     "text": [
      "2023-03-05 19:20:38.100 | INFO     | utils.entity.bsds_rind_qualitative_drawer:draw_edge:183 - dilation times == 2\n",
      "2023-03-05 19:20:38.335 | INFO     | utils.entity.bsds_rind_qualitative_drawer:draw_edge:183 - dilation times == 2\n",
      "2023-03-05 19:20:38.624 | INFO     | utils.entity.bsds_rind_qualitative_drawer:draw_edge:183 - dilation times == 2\n",
      "2023-03-05 19:20:38.952 | INFO     | utils.entity.bsds_rind_qualitative_drawer:draw_edge:183 - dilation times == 2\n",
      "2023-03-05 19:20:39.735 | INFO     | utils.entity.bsds_rind_qualitative_drawer:draw_edge:183 - dilation times == 2\n"
     ]
    },
    {
     "name": "stdout",
     "output_type": "stream",
     "text": [
      "43033\n"
     ]
    },
    {
     "name": "stderr",
     "output_type": "stream",
     "text": [
      "2023-03-05 19:20:39.938 | INFO     | utils.entity.bsds_rind_qualitative_drawer:draw_edge:183 - dilation times == 2\n",
      "2023-03-05 19:20:40.180 | INFO     | utils.entity.bsds_rind_qualitative_drawer:draw_edge:183 - dilation times == 2\n",
      "2023-03-05 19:20:40.468 | INFO     | utils.entity.bsds_rind_qualitative_drawer:draw_edge:183 - dilation times == 2\n",
      "2023-03-05 19:20:40.801 | INFO     | utils.entity.bsds_rind_qualitative_drawer:draw_edge:183 - dilation times == 2\n",
      "2023-03-05 19:20:41.641 | INFO     | utils.entity.bsds_rind_qualitative_drawer:draw_edge:183 - dilation times == 2\n"
     ]
    },
    {
     "name": "stdout",
     "output_type": "stream",
     "text": [
      "226060\n"
     ]
    },
    {
     "name": "stderr",
     "output_type": "stream",
     "text": [
      "2023-03-05 19:20:41.784 | INFO     | utils.entity.bsds_rind_qualitative_drawer:draw_edge:183 - dilation times == 2\n",
      "2023-03-05 19:20:41.952 | INFO     | utils.entity.bsds_rind_qualitative_drawer:draw_edge:183 - dilation times == 2\n",
      "2023-03-05 19:20:42.151 | INFO     | utils.entity.bsds_rind_qualitative_drawer:draw_edge:183 - dilation times == 2\n",
      "2023-03-05 19:20:42.382 | INFO     | utils.entity.bsds_rind_qualitative_drawer:draw_edge:183 - dilation times == 2\n",
      "2023-03-05 19:20:43.063 | INFO     | utils.entity.bsds_rind_qualitative_drawer:draw_edge:183 - dilation times == 2\n"
     ]
    },
    {
     "name": "stdout",
     "output_type": "stream",
     "text": [
      "344010\n"
     ]
    },
    {
     "name": "stderr",
     "output_type": "stream",
     "text": [
      "2023-03-05 19:20:43.252 | INFO     | utils.entity.bsds_rind_qualitative_drawer:draw_edge:183 - dilation times == 2\n",
      "2023-03-05 19:20:43.487 | INFO     | utils.entity.bsds_rind_qualitative_drawer:draw_edge:183 - dilation times == 2\n",
      "2023-03-05 19:20:43.772 | INFO     | utils.entity.bsds_rind_qualitative_drawer:draw_edge:183 - dilation times == 2\n",
      "2023-03-05 19:20:44.101 | INFO     | utils.entity.bsds_rind_qualitative_drawer:draw_edge:183 - dilation times == 2\n",
      "2023-03-05 19:20:44.881 | INFO     | utils.entity.bsds_rind_qualitative_drawer:draw_edge:183 - dilation times == 2\n"
     ]
    },
    {
     "name": "stdout",
     "output_type": "stream",
     "text": [
      "288024\n"
     ]
    },
    {
     "name": "stderr",
     "output_type": "stream",
     "text": [
      "2023-03-05 19:20:45.066 | INFO     | utils.entity.bsds_rind_qualitative_drawer:draw_edge:183 - dilation times == 2\n",
      "2023-03-05 19:20:45.296 | INFO     | utils.entity.bsds_rind_qualitative_drawer:draw_edge:183 - dilation times == 2\n",
      "2023-03-05 19:20:45.578 | INFO     | utils.entity.bsds_rind_qualitative_drawer:draw_edge:183 - dilation times == 2\n",
      "2023-03-05 19:20:45.929 | INFO     | utils.entity.bsds_rind_qualitative_drawer:draw_edge:183 - dilation times == 2\n",
      "2023-03-05 19:20:46.670 | INFO     | utils.entity.bsds_rind_qualitative_drawer:draw_edge:183 - dilation times == 2\n"
     ]
    },
    {
     "name": "stdout",
     "output_type": "stream",
     "text": [
      "226043\n"
     ]
    },
    {
     "name": "stderr",
     "output_type": "stream",
     "text": [
      "2023-03-05 19:20:46.807 | INFO     | utils.entity.bsds_rind_qualitative_drawer:draw_edge:183 - dilation times == 2\n",
      "2023-03-05 19:20:46.991 | INFO     | utils.entity.bsds_rind_qualitative_drawer:draw_edge:183 - dilation times == 2\n",
      "2023-03-05 19:20:47.195 | INFO     | utils.entity.bsds_rind_qualitative_drawer:draw_edge:183 - dilation times == 2\n",
      "2023-03-05 19:20:47.431 | INFO     | utils.entity.bsds_rind_qualitative_drawer:draw_edge:183 - dilation times == 2\n",
      "2023-03-05 19:20:48.078 | INFO     | utils.entity.bsds_rind_qualitative_drawer:draw_edge:183 - dilation times == 2\n"
     ]
    },
    {
     "name": "stdout",
     "output_type": "stream",
     "text": [
      "196040\n"
     ]
    },
    {
     "name": "stderr",
     "output_type": "stream",
     "text": [
      "2023-03-05 19:20:48.260 | INFO     | utils.entity.bsds_rind_qualitative_drawer:draw_edge:183 - dilation times == 2\n",
      "2023-03-05 19:20:48.424 | INFO     | utils.entity.bsds_rind_qualitative_drawer:draw_edge:183 - dilation times == 2\n",
      "2023-03-05 19:20:48.620 | INFO     | utils.entity.bsds_rind_qualitative_drawer:draw_edge:183 - dilation times == 2\n",
      "2023-03-05 19:20:48.850 | INFO     | utils.entity.bsds_rind_qualitative_drawer:draw_edge:183 - dilation times == 2\n",
      "2023-03-05 19:20:49.478 | INFO     | utils.entity.bsds_rind_qualitative_drawer:draw_edge:183 - dilation times == 2\n"
     ]
    },
    {
     "name": "stdout",
     "output_type": "stream",
     "text": [
      "347031\n"
     ]
    },
    {
     "name": "stderr",
     "output_type": "stream",
     "text": [
      "2023-03-05 19:20:49.601 | INFO     | utils.entity.bsds_rind_qualitative_drawer:draw_edge:183 - dilation times == 2\n",
      "2023-03-05 19:20:49.755 | INFO     | utils.entity.bsds_rind_qualitative_drawer:draw_edge:183 - dilation times == 2\n",
      "2023-03-05 19:20:49.943 | INFO     | utils.entity.bsds_rind_qualitative_drawer:draw_edge:183 - dilation times == 2\n",
      "2023-03-05 19:20:50.166 | INFO     | utils.entity.bsds_rind_qualitative_drawer:draw_edge:183 - dilation times == 2\n",
      "2023-03-05 19:20:50.905 | INFO     | utils.entity.bsds_rind_qualitative_drawer:draw_edge:183 - dilation times == 2\n"
     ]
    },
    {
     "name": "stdout",
     "output_type": "stream",
     "text": [
      "388018\n"
     ]
    },
    {
     "name": "stderr",
     "output_type": "stream",
     "text": [
      "2023-03-05 19:20:51.041 | INFO     | utils.entity.bsds_rind_qualitative_drawer:draw_edge:183 - dilation times == 2\n",
      "2023-03-05 19:20:51.222 | INFO     | utils.entity.bsds_rind_qualitative_drawer:draw_edge:183 - dilation times == 2\n",
      "2023-03-05 19:20:51.436 | INFO     | utils.entity.bsds_rind_qualitative_drawer:draw_edge:183 - dilation times == 2\n",
      "2023-03-05 19:20:51.677 | INFO     | utils.entity.bsds_rind_qualitative_drawer:draw_edge:183 - dilation times == 2\n",
      "2023-03-05 19:20:52.330 | INFO     | utils.entity.bsds_rind_qualitative_drawer:draw_edge:183 - dilation times == 2\n"
     ]
    },
    {
     "name": "stdout",
     "output_type": "stream",
     "text": [
      "223004\n"
     ]
    },
    {
     "name": "stderr",
     "output_type": "stream",
     "text": [
      "2023-03-05 19:20:52.501 | INFO     | utils.entity.bsds_rind_qualitative_drawer:draw_edge:183 - dilation times == 2\n",
      "2023-03-05 19:20:52.685 | INFO     | utils.entity.bsds_rind_qualitative_drawer:draw_edge:183 - dilation times == 2\n",
      "2023-03-05 19:20:52.926 | INFO     | utils.entity.bsds_rind_qualitative_drawer:draw_edge:183 - dilation times == 2\n",
      "2023-03-05 19:20:53.157 | INFO     | utils.entity.bsds_rind_qualitative_drawer:draw_edge:183 - dilation times == 2\n",
      "2023-03-05 19:20:53.866 | INFO     | utils.entity.bsds_rind_qualitative_drawer:draw_edge:183 - dilation times == 2\n"
     ]
    },
    {
     "name": "stdout",
     "output_type": "stream",
     "text": [
      "41029\n"
     ]
    },
    {
     "name": "stderr",
     "output_type": "stream",
     "text": [
      "2023-03-05 19:20:54.055 | INFO     | utils.entity.bsds_rind_qualitative_drawer:draw_edge:183 - dilation times == 2\n",
      "2023-03-05 19:20:54.288 | INFO     | utils.entity.bsds_rind_qualitative_drawer:draw_edge:183 - dilation times == 2\n",
      "2023-03-05 19:20:54.565 | INFO     | utils.entity.bsds_rind_qualitative_drawer:draw_edge:183 - dilation times == 2\n",
      "2023-03-05 19:20:54.896 | INFO     | utils.entity.bsds_rind_qualitative_drawer:draw_edge:183 - dilation times == 2\n",
      "2023-03-05 19:20:55.682 | INFO     | utils.entity.bsds_rind_qualitative_drawer:draw_edge:183 - dilation times == 2\n"
     ]
    },
    {
     "name": "stdout",
     "output_type": "stream",
     "text": [
      "189029\n"
     ]
    },
    {
     "name": "stderr",
     "output_type": "stream",
     "text": [
      "2023-03-05 19:20:55.804 | INFO     | utils.entity.bsds_rind_qualitative_drawer:draw_edge:183 - dilation times == 2\n",
      "2023-03-05 19:20:55.971 | INFO     | utils.entity.bsds_rind_qualitative_drawer:draw_edge:183 - dilation times == 2\n",
      "2023-03-05 19:20:56.160 | INFO     | utils.entity.bsds_rind_qualitative_drawer:draw_edge:183 - dilation times == 2\n",
      "2023-03-05 19:20:56.382 | INFO     | utils.entity.bsds_rind_qualitative_drawer:draw_edge:183 - dilation times == 2\n",
      "2023-03-05 19:20:57.060 | INFO     | utils.entity.bsds_rind_qualitative_drawer:draw_edge:183 - dilation times == 2\n"
     ]
    },
    {
     "name": "stdout",
     "output_type": "stream",
     "text": [
      "106047\n"
     ]
    },
    {
     "name": "stderr",
     "output_type": "stream",
     "text": [
      "2023-03-05 19:20:57.264 | INFO     | utils.entity.bsds_rind_qualitative_drawer:draw_edge:183 - dilation times == 2\n",
      "2023-03-05 19:20:57.510 | INFO     | utils.entity.bsds_rind_qualitative_drawer:draw_edge:183 - dilation times == 2\n",
      "2023-03-05 19:20:57.799 | INFO     | utils.entity.bsds_rind_qualitative_drawer:draw_edge:183 - dilation times == 2\n",
      "2023-03-05 19:20:58.137 | INFO     | utils.entity.bsds_rind_qualitative_drawer:draw_edge:183 - dilation times == 2\n",
      "2023-03-05 19:20:58.880 | INFO     | utils.entity.bsds_rind_qualitative_drawer:draw_edge:183 - dilation times == 2\n"
     ]
    },
    {
     "name": "stdout",
     "output_type": "stream",
     "text": [
      "64061\n"
     ]
    },
    {
     "name": "stderr",
     "output_type": "stream",
     "text": [
      "2023-03-05 19:20:59.013 | INFO     | utils.entity.bsds_rind_qualitative_drawer:draw_edge:183 - dilation times == 2\n",
      "2023-03-05 19:20:59.178 | INFO     | utils.entity.bsds_rind_qualitative_drawer:draw_edge:183 - dilation times == 2\n",
      "2023-03-05 19:20:59.377 | INFO     | utils.entity.bsds_rind_qualitative_drawer:draw_edge:183 - dilation times == 2\n",
      "2023-03-05 19:20:59.610 | INFO     | utils.entity.bsds_rind_qualitative_drawer:draw_edge:183 - dilation times == 2\n",
      "2023-03-05 19:21:00.452 | INFO     | utils.entity.bsds_rind_qualitative_drawer:draw_edge:183 - dilation times == 2\n"
     ]
    },
    {
     "name": "stdout",
     "output_type": "stream",
     "text": [
      "168084\n"
     ]
    },
    {
     "name": "stderr",
     "output_type": "stream",
     "text": [
      "2023-03-05 19:21:00.652 | INFO     | utils.entity.bsds_rind_qualitative_drawer:draw_edge:183 - dilation times == 2\n",
      "2023-03-05 19:21:00.896 | INFO     | utils.entity.bsds_rind_qualitative_drawer:draw_edge:183 - dilation times == 2\n",
      "2023-03-05 19:21:01.176 | INFO     | utils.entity.bsds_rind_qualitative_drawer:draw_edge:183 - dilation times == 2\n",
      "2023-03-05 19:21:01.504 | INFO     | utils.entity.bsds_rind_qualitative_drawer:draw_edge:183 - dilation times == 2\n",
      "2023-03-05 19:21:02.286 | INFO     | utils.entity.bsds_rind_qualitative_drawer:draw_edge:183 - dilation times == 2\n"
     ]
    },
    {
     "name": "stdout",
     "output_type": "stream",
     "text": [
      "108036\n"
     ]
    },
    {
     "name": "stderr",
     "output_type": "stream",
     "text": [
      "2023-03-05 19:21:02.477 | INFO     | utils.entity.bsds_rind_qualitative_drawer:draw_edge:183 - dilation times == 2\n",
      "2023-03-05 19:21:02.712 | INFO     | utils.entity.bsds_rind_qualitative_drawer:draw_edge:183 - dilation times == 2\n",
      "2023-03-05 19:21:02.992 | INFO     | utils.entity.bsds_rind_qualitative_drawer:draw_edge:183 - dilation times == 2\n",
      "2023-03-05 19:21:03.314 | INFO     | utils.entity.bsds_rind_qualitative_drawer:draw_edge:183 - dilation times == 2\n",
      "2023-03-05 19:21:04.101 | INFO     | utils.entity.bsds_rind_qualitative_drawer:draw_edge:183 - dilation times == 2\n"
     ]
    },
    {
     "name": "stdout",
     "output_type": "stream",
     "text": [
      "28083\n"
     ]
    },
    {
     "name": "stderr",
     "output_type": "stream",
     "text": [
      "2023-03-05 19:21:04.307 | INFO     | utils.entity.bsds_rind_qualitative_drawer:draw_edge:183 - dilation times == 2\n",
      "2023-03-05 19:21:04.550 | INFO     | utils.entity.bsds_rind_qualitative_drawer:draw_edge:183 - dilation times == 2\n",
      "2023-03-05 19:21:04.840 | INFO     | utils.entity.bsds_rind_qualitative_drawer:draw_edge:183 - dilation times == 2\n",
      "2023-03-05 19:21:05.172 | INFO     | utils.entity.bsds_rind_qualitative_drawer:draw_edge:183 - dilation times == 2\n",
      "2023-03-05 19:21:05.972 | INFO     | utils.entity.bsds_rind_qualitative_drawer:draw_edge:183 - dilation times == 2\n"
     ]
    },
    {
     "name": "stdout",
     "output_type": "stream",
     "text": [
      "14092\n"
     ]
    },
    {
     "name": "stderr",
     "output_type": "stream",
     "text": [
      "2023-03-05 19:21:06.163 | INFO     | utils.entity.bsds_rind_qualitative_drawer:draw_edge:183 - dilation times == 2\n",
      "2023-03-05 19:21:06.401 | INFO     | utils.entity.bsds_rind_qualitative_drawer:draw_edge:183 - dilation times == 2\n",
      "2023-03-05 19:21:06.687 | INFO     | utils.entity.bsds_rind_qualitative_drawer:draw_edge:183 - dilation times == 2\n",
      "2023-03-05 19:21:07.011 | INFO     | utils.entity.bsds_rind_qualitative_drawer:draw_edge:183 - dilation times == 2\n",
      "2023-03-05 19:21:07.769 | INFO     | utils.entity.bsds_rind_qualitative_drawer:draw_edge:183 - dilation times == 2\n"
     ]
    },
    {
     "name": "stdout",
     "output_type": "stream",
     "text": [
      "388006\n"
     ]
    },
    {
     "name": "stderr",
     "output_type": "stream",
     "text": [
      "2023-03-05 19:21:07.917 | INFO     | utils.entity.bsds_rind_qualitative_drawer:draw_edge:183 - dilation times == 2\n",
      "2023-03-05 19:21:08.092 | INFO     | utils.entity.bsds_rind_qualitative_drawer:draw_edge:183 - dilation times == 2\n",
      "2023-03-05 19:21:08.293 | INFO     | utils.entity.bsds_rind_qualitative_drawer:draw_edge:183 - dilation times == 2\n",
      "2023-03-05 19:21:08.530 | INFO     | utils.entity.bsds_rind_qualitative_drawer:draw_edge:183 - dilation times == 2\n",
      "2023-03-05 19:21:09.210 | INFO     | utils.entity.bsds_rind_qualitative_drawer:draw_edge:183 - dilation times == 2\n"
     ]
    },
    {
     "name": "stdout",
     "output_type": "stream",
     "text": [
      "189006\n"
     ]
    },
    {
     "name": "stderr",
     "output_type": "stream",
     "text": [
      "2023-03-05 19:21:09.347 | INFO     | utils.entity.bsds_rind_qualitative_drawer:draw_edge:183 - dilation times == 2\n",
      "2023-03-05 19:21:09.513 | INFO     | utils.entity.bsds_rind_qualitative_drawer:draw_edge:183 - dilation times == 2\n",
      "2023-03-05 19:21:09.709 | INFO     | utils.entity.bsds_rind_qualitative_drawer:draw_edge:183 - dilation times == 2\n",
      "2023-03-05 19:21:09.944 | INFO     | utils.entity.bsds_rind_qualitative_drawer:draw_edge:183 - dilation times == 2\n",
      "2023-03-05 19:21:10.693 | INFO     | utils.entity.bsds_rind_qualitative_drawer:draw_edge:183 - dilation times == 2\n"
     ]
    },
    {
     "name": "stdout",
     "output_type": "stream",
     "text": [
      "181021\n"
     ]
    },
    {
     "name": "stderr",
     "output_type": "stream",
     "text": [
      "2023-03-05 19:21:10.847 | INFO     | utils.entity.bsds_rind_qualitative_drawer:draw_edge:183 - dilation times == 2\n",
      "2023-03-05 19:21:11.035 | INFO     | utils.entity.bsds_rind_qualitative_drawer:draw_edge:183 - dilation times == 2\n",
      "2023-03-05 19:21:11.240 | INFO     | utils.entity.bsds_rind_qualitative_drawer:draw_edge:183 - dilation times == 2\n",
      "2023-03-05 19:21:11.473 | INFO     | utils.entity.bsds_rind_qualitative_drawer:draw_edge:183 - dilation times == 2\n"
     ]
    },
    {
     "name": "stdout",
     "output_type": "stream",
     "text": [
      "376086\n"
     ]
    },
    {
     "name": "stderr",
     "output_type": "stream",
     "text": [
      "2023-03-05 19:21:12.217 | INFO     | utils.entity.bsds_rind_qualitative_drawer:draw_edge:183 - dilation times == 2\n",
      "2023-03-05 19:21:12.412 | INFO     | utils.entity.bsds_rind_qualitative_drawer:draw_edge:183 - dilation times == 2\n",
      "2023-03-05 19:21:12.647 | INFO     | utils.entity.bsds_rind_qualitative_drawer:draw_edge:183 - dilation times == 2\n",
      "2023-03-05 19:21:12.954 | INFO     | utils.entity.bsds_rind_qualitative_drawer:draw_edge:183 - dilation times == 2\n",
      "2023-03-05 19:21:13.332 | INFO     | utils.entity.bsds_rind_qualitative_drawer:draw_edge:183 - dilation times == 2\n",
      "2023-03-05 19:21:14.119 | INFO     | utils.entity.bsds_rind_qualitative_drawer:draw_edge:183 - dilation times == 2\n"
     ]
    },
    {
     "name": "stdout",
     "output_type": "stream",
     "text": [
      "48017\n"
     ]
    },
    {
     "name": "stderr",
     "output_type": "stream",
     "text": [
      "2023-03-05 19:21:14.344 | INFO     | utils.entity.bsds_rind_qualitative_drawer:draw_edge:183 - dilation times == 2\n",
      "2023-03-05 19:21:14.581 | INFO     | utils.entity.bsds_rind_qualitative_drawer:draw_edge:183 - dilation times == 2\n",
      "2023-03-05 19:21:14.860 | INFO     | utils.entity.bsds_rind_qualitative_drawer:draw_edge:183 - dilation times == 2\n",
      "2023-03-05 19:21:15.192 | INFO     | utils.entity.bsds_rind_qualitative_drawer:draw_edge:183 - dilation times == 2\n",
      "2023-03-05 19:21:15.992 | INFO     | utils.entity.bsds_rind_qualitative_drawer:draw_edge:183 - dilation times == 2\n"
     ]
    },
    {
     "name": "stdout",
     "output_type": "stream",
     "text": [
      "69022\n"
     ]
    },
    {
     "name": "stderr",
     "output_type": "stream",
     "text": [
      "2023-03-05 19:21:16.199 | INFO     | utils.entity.bsds_rind_qualitative_drawer:draw_edge:183 - dilation times == 2\n",
      "2023-03-05 19:21:16.448 | INFO     | utils.entity.bsds_rind_qualitative_drawer:draw_edge:183 - dilation times == 2\n",
      "2023-03-05 19:21:16.744 | INFO     | utils.entity.bsds_rind_qualitative_drawer:draw_edge:183 - dilation times == 2\n",
      "2023-03-05 19:21:17.089 | INFO     | utils.entity.bsds_rind_qualitative_drawer:draw_edge:183 - dilation times == 2\n",
      "2023-03-05 19:21:17.848 | INFO     | utils.entity.bsds_rind_qualitative_drawer:draw_edge:183 - dilation times == 2\n"
     ]
    },
    {
     "name": "stdout",
     "output_type": "stream",
     "text": [
      "81090\n"
     ]
    },
    {
     "name": "stderr",
     "output_type": "stream",
     "text": [
      "2023-03-05 19:21:17.981 | INFO     | utils.entity.bsds_rind_qualitative_drawer:draw_edge:183 - dilation times == 2\n",
      "2023-03-05 19:21:18.149 | INFO     | utils.entity.bsds_rind_qualitative_drawer:draw_edge:183 - dilation times == 2\n",
      "2023-03-05 19:21:18.369 | INFO     | utils.entity.bsds_rind_qualitative_drawer:draw_edge:183 - dilation times == 2\n",
      "2023-03-05 19:21:18.604 | INFO     | utils.entity.bsds_rind_qualitative_drawer:draw_edge:183 - dilation times == 2\n",
      "2023-03-05 19:21:19.301 | INFO     | utils.entity.bsds_rind_qualitative_drawer:draw_edge:183 - dilation times == 2\n"
     ]
    },
    {
     "name": "stdout",
     "output_type": "stream",
     "text": [
      "232076\n"
     ]
    },
    {
     "name": "stderr",
     "output_type": "stream",
     "text": [
      "2023-03-05 19:21:19.481 | INFO     | utils.entity.bsds_rind_qualitative_drawer:draw_edge:183 - dilation times == 2\n",
      "2023-03-05 19:21:19.704 | INFO     | utils.entity.bsds_rind_qualitative_drawer:draw_edge:183 - dilation times == 2\n",
      "2023-03-05 19:21:20.079 | INFO     | utils.entity.bsds_rind_qualitative_drawer:draw_edge:183 - dilation times == 2\n",
      "2023-03-05 19:21:20.396 | INFO     | utils.entity.bsds_rind_qualitative_drawer:draw_edge:183 - dilation times == 2\n",
      "2023-03-05 19:21:21.198 | INFO     | utils.entity.bsds_rind_qualitative_drawer:draw_edge:183 - dilation times == 2\n"
     ]
    },
    {
     "name": "stdout",
     "output_type": "stream",
     "text": [
      "128035\n"
     ]
    },
    {
     "name": "stderr",
     "output_type": "stream",
     "text": [
      "2023-03-05 19:21:21.400 | INFO     | utils.entity.bsds_rind_qualitative_drawer:draw_edge:183 - dilation times == 2\n",
      "2023-03-05 19:21:21.647 | INFO     | utils.entity.bsds_rind_qualitative_drawer:draw_edge:183 - dilation times == 2\n",
      "2023-03-05 19:21:21.952 | INFO     | utils.entity.bsds_rind_qualitative_drawer:draw_edge:183 - dilation times == 2\n",
      "2023-03-05 19:21:22.289 | INFO     | utils.entity.bsds_rind_qualitative_drawer:draw_edge:183 - dilation times == 2\n",
      "2023-03-05 19:21:23.090 | INFO     | utils.entity.bsds_rind_qualitative_drawer:draw_edge:183 - dilation times == 2\n"
     ]
    },
    {
     "name": "stdout",
     "output_type": "stream",
     "text": [
      "8068\n"
     ]
    },
    {
     "name": "stderr",
     "output_type": "stream",
     "text": [
      "2023-03-05 19:21:23.277 | INFO     | utils.entity.bsds_rind_qualitative_drawer:draw_edge:183 - dilation times == 2\n",
      "2023-03-05 19:21:23.506 | INFO     | utils.entity.bsds_rind_qualitative_drawer:draw_edge:183 - dilation times == 2\n",
      "2023-03-05 19:21:23.782 | INFO     | utils.entity.bsds_rind_qualitative_drawer:draw_edge:183 - dilation times == 2\n",
      "2023-03-05 19:21:24.121 | INFO     | utils.entity.bsds_rind_qualitative_drawer:draw_edge:183 - dilation times == 2\n",
      "2023-03-05 19:21:24.860 | INFO     | utils.entity.bsds_rind_qualitative_drawer:draw_edge:183 - dilation times == 2\n"
     ]
    },
    {
     "name": "stdout",
     "output_type": "stream",
     "text": [
      "302022\n"
     ]
    },
    {
     "name": "stderr",
     "output_type": "stream",
     "text": [
      "2023-03-05 19:21:24.992 | INFO     | utils.entity.bsds_rind_qualitative_drawer:draw_edge:183 - dilation times == 2\n",
      "2023-03-05 19:21:25.151 | INFO     | utils.entity.bsds_rind_qualitative_drawer:draw_edge:183 - dilation times == 2\n",
      "2023-03-05 19:21:25.367 | INFO     | utils.entity.bsds_rind_qualitative_drawer:draw_edge:183 - dilation times == 2\n",
      "2023-03-05 19:21:25.611 | INFO     | utils.entity.bsds_rind_qualitative_drawer:draw_edge:183 - dilation times == 2\n",
      "2023-03-05 19:21:26.356 | INFO     | utils.entity.bsds_rind_qualitative_drawer:draw_edge:183 - dilation times == 2\n"
     ]
    },
    {
     "name": "stdout",
     "output_type": "stream",
     "text": [
      "346016\n"
     ]
    },
    {
     "name": "stderr",
     "output_type": "stream",
     "text": [
      "2023-03-05 19:21:26.542 | INFO     | utils.entity.bsds_rind_qualitative_drawer:draw_edge:183 - dilation times == 2\n",
      "2023-03-05 19:21:26.768 | INFO     | utils.entity.bsds_rind_qualitative_drawer:draw_edge:183 - dilation times == 2\n",
      "2023-03-05 19:21:27.039 | INFO     | utils.entity.bsds_rind_qualitative_drawer:draw_edge:183 - dilation times == 2\n",
      "2023-03-05 19:21:27.352 | INFO     | utils.entity.bsds_rind_qualitative_drawer:draw_edge:183 - dilation times == 2\n",
      "2023-03-05 19:21:28.068 | INFO     | utils.entity.bsds_rind_qualitative_drawer:draw_edge:183 - dilation times == 2\n"
     ]
    },
    {
     "name": "stdout",
     "output_type": "stream",
     "text": [
      "17067\n"
     ]
    },
    {
     "name": "stderr",
     "output_type": "stream",
     "text": [
      "2023-03-05 19:21:28.194 | INFO     | utils.entity.bsds_rind_qualitative_drawer:draw_edge:183 - dilation times == 2\n",
      "2023-03-05 19:21:28.354 | INFO     | utils.entity.bsds_rind_qualitative_drawer:draw_edge:183 - dilation times == 2\n",
      "2023-03-05 19:21:28.570 | INFO     | utils.entity.bsds_rind_qualitative_drawer:draw_edge:183 - dilation times == 2\n",
      "2023-03-05 19:21:28.797 | INFO     | utils.entity.bsds_rind_qualitative_drawer:draw_edge:183 - dilation times == 2\n"
     ]
    },
    {
     "name": "stdout",
     "output_type": "stream",
     "text": [
      "94095\n"
     ]
    },
    {
     "name": "stderr",
     "output_type": "stream",
     "text": [
      "2023-03-05 19:21:29.634 | INFO     | utils.entity.bsds_rind_qualitative_drawer:draw_edge:183 - dilation times == 2\n",
      "2023-03-05 19:21:29.837 | INFO     | utils.entity.bsds_rind_qualitative_drawer:draw_edge:183 - dilation times == 2\n",
      "2023-03-05 19:21:30.106 | INFO     | utils.entity.bsds_rind_qualitative_drawer:draw_edge:183 - dilation times == 2\n",
      "2023-03-05 19:21:30.410 | INFO     | utils.entity.bsds_rind_qualitative_drawer:draw_edge:183 - dilation times == 2\n",
      "2023-03-05 19:21:30.765 | INFO     | utils.entity.bsds_rind_qualitative_drawer:draw_edge:183 - dilation times == 2\n",
      "2023-03-05 19:21:31.610 | INFO     | utils.entity.bsds_rind_qualitative_drawer:draw_edge:183 - dilation times == 2\n"
     ]
    },
    {
     "name": "stdout",
     "output_type": "stream",
     "text": [
      "5096\n"
     ]
    },
    {
     "name": "stderr",
     "output_type": "stream",
     "text": [
      "2023-03-05 19:21:31.812 | INFO     | utils.entity.bsds_rind_qualitative_drawer:draw_edge:183 - dilation times == 2\n",
      "2023-03-05 19:21:32.072 | INFO     | utils.entity.bsds_rind_qualitative_drawer:draw_edge:183 - dilation times == 2\n",
      "2023-03-05 19:21:32.391 | INFO     | utils.entity.bsds_rind_qualitative_drawer:draw_edge:183 - dilation times == 2\n",
      "2023-03-05 19:21:32.736 | INFO     | utils.entity.bsds_rind_qualitative_drawer:draw_edge:183 - dilation times == 2\n",
      "2023-03-05 19:21:33.545 | INFO     | utils.entity.bsds_rind_qualitative_drawer:draw_edge:183 - dilation times == 2\n"
     ]
    },
    {
     "name": "stdout",
     "output_type": "stream",
     "text": [
      "243095\n"
     ]
    },
    {
     "name": "stderr",
     "output_type": "stream",
     "text": [
      "2023-03-05 19:21:33.676 | INFO     | utils.entity.bsds_rind_qualitative_drawer:draw_edge:183 - dilation times == 2\n",
      "2023-03-05 19:21:33.847 | INFO     | utils.entity.bsds_rind_qualitative_drawer:draw_edge:183 - dilation times == 2\n",
      "2023-03-05 19:21:34.053 | INFO     | utils.entity.bsds_rind_qualitative_drawer:draw_edge:183 - dilation times == 2\n",
      "2023-03-05 19:21:34.292 | INFO     | utils.entity.bsds_rind_qualitative_drawer:draw_edge:183 - dilation times == 2\n",
      "2023-03-05 19:21:35.043 | INFO     | utils.entity.bsds_rind_qualitative_drawer:draw_edge:183 - dilation times == 2\n"
     ]
    },
    {
     "name": "stdout",
     "output_type": "stream",
     "text": [
      "268048\n"
     ]
    },
    {
     "name": "stderr",
     "output_type": "stream",
     "text": [
      "2023-03-05 19:21:35.261 | INFO     | utils.entity.bsds_rind_qualitative_drawer:draw_edge:183 - dilation times == 2\n",
      "2023-03-05 19:21:35.513 | INFO     | utils.entity.bsds_rind_qualitative_drawer:draw_edge:183 - dilation times == 2\n",
      "2023-03-05 19:21:35.839 | INFO     | utils.entity.bsds_rind_qualitative_drawer:draw_edge:183 - dilation times == 2\n",
      "2023-03-05 19:21:36.197 | INFO     | utils.entity.bsds_rind_qualitative_drawer:draw_edge:183 - dilation times == 2\n",
      "2023-03-05 19:21:37.034 | INFO     | utils.entity.bsds_rind_qualitative_drawer:draw_edge:183 - dilation times == 2\n"
     ]
    },
    {
     "name": "stdout",
     "output_type": "stream",
     "text": [
      "15062\n"
     ]
    },
    {
     "name": "stderr",
     "output_type": "stream",
     "text": [
      "2023-03-05 19:21:37.245 | INFO     | utils.entity.bsds_rind_qualitative_drawer:draw_edge:183 - dilation times == 2\n",
      "2023-03-05 19:21:37.500 | INFO     | utils.entity.bsds_rind_qualitative_drawer:draw_edge:183 - dilation times == 2\n",
      "2023-03-05 19:21:37.803 | INFO     | utils.entity.bsds_rind_qualitative_drawer:draw_edge:183 - dilation times == 2\n",
      "2023-03-05 19:21:38.158 | INFO     | utils.entity.bsds_rind_qualitative_drawer:draw_edge:183 - dilation times == 2\n",
      "2023-03-05 19:21:38.935 | INFO     | utils.entity.bsds_rind_qualitative_drawer:draw_edge:183 - dilation times == 2\n"
     ]
    },
    {
     "name": "stdout",
     "output_type": "stream",
     "text": [
      "246009\n"
     ]
    },
    {
     "name": "stderr",
     "output_type": "stream",
     "text": [
      "2023-03-05 19:21:39.073 | INFO     | utils.entity.bsds_rind_qualitative_drawer:draw_edge:183 - dilation times == 2\n",
      "2023-03-05 19:21:39.247 | INFO     | utils.entity.bsds_rind_qualitative_drawer:draw_edge:183 - dilation times == 2\n",
      "2023-03-05 19:21:39.460 | INFO     | utils.entity.bsds_rind_qualitative_drawer:draw_edge:183 - dilation times == 2\n",
      "2023-03-05 19:21:39.704 | INFO     | utils.entity.bsds_rind_qualitative_drawer:draw_edge:183 - dilation times == 2\n",
      "2023-03-05 19:21:40.503 | INFO     | utils.entity.bsds_rind_qualitative_drawer:draw_edge:183 - dilation times == 2\n"
     ]
    },
    {
     "name": "stdout",
     "output_type": "stream",
     "text": [
      "147077\n"
     ]
    },
    {
     "name": "stderr",
     "output_type": "stream",
     "text": [
      "2023-03-05 19:21:40.638 | INFO     | utils.entity.bsds_rind_qualitative_drawer:draw_edge:183 - dilation times == 2\n",
      "2023-03-05 19:21:40.804 | INFO     | utils.entity.bsds_rind_qualitative_drawer:draw_edge:183 - dilation times == 2\n",
      "2023-03-05 19:21:41.024 | INFO     | utils.entity.bsds_rind_qualitative_drawer:draw_edge:183 - dilation times == 2\n",
      "2023-03-05 19:21:41.265 | INFO     | utils.entity.bsds_rind_qualitative_drawer:draw_edge:183 - dilation times == 2\n",
      "2023-03-05 19:21:41.970 | INFO     | utils.entity.bsds_rind_qualitative_drawer:draw_edge:183 - dilation times == 2\n"
     ]
    },
    {
     "name": "stdout",
     "output_type": "stream",
     "text": [
      "45000\n"
     ]
    },
    {
     "name": "stderr",
     "output_type": "stream",
     "text": [
      "2023-03-05 19:21:42.165 | INFO     | utils.entity.bsds_rind_qualitative_drawer:draw_edge:183 - dilation times == 2\n",
      "2023-03-05 19:21:42.407 | INFO     | utils.entity.bsds_rind_qualitative_drawer:draw_edge:183 - dilation times == 2\n",
      "2023-03-05 19:21:42.690 | INFO     | utils.entity.bsds_rind_qualitative_drawer:draw_edge:183 - dilation times == 2\n",
      "2023-03-05 19:21:43.031 | INFO     | utils.entity.bsds_rind_qualitative_drawer:draw_edge:183 - dilation times == 2\n",
      "2023-03-05 19:21:43.801 | INFO     | utils.entity.bsds_rind_qualitative_drawer:draw_edge:183 - dilation times == 2\n"
     ]
    },
    {
     "name": "stdout",
     "output_type": "stream",
     "text": [
      "226060\n"
     ]
    },
    {
     "name": "stderr",
     "output_type": "stream",
     "text": [
      "2023-03-05 19:21:43.943 | INFO     | utils.entity.bsds_rind_qualitative_drawer:draw_edge:183 - dilation times == 2\n",
      "2023-03-05 19:21:44.125 | INFO     | utils.entity.bsds_rind_qualitative_drawer:draw_edge:183 - dilation times == 2\n",
      "2023-03-05 19:21:44.333 | INFO     | utils.entity.bsds_rind_qualitative_drawer:draw_edge:183 - dilation times == 2\n",
      "2023-03-05 19:21:44.566 | INFO     | utils.entity.bsds_rind_qualitative_drawer:draw_edge:183 - dilation times == 2\n",
      "2023-03-05 19:21:45.231 | INFO     | utils.entity.bsds_rind_qualitative_drawer:draw_edge:183 - dilation times == 2\n"
     ]
    },
    {
     "name": "stdout",
     "output_type": "stream",
     "text": [
      "6046\n"
     ]
    },
    {
     "name": "stderr",
     "output_type": "stream",
     "text": [
      "2023-03-05 19:21:45.360 | INFO     | utils.entity.bsds_rind_qualitative_drawer:draw_edge:183 - dilation times == 2\n",
      "2023-03-05 19:21:45.522 | INFO     | utils.entity.bsds_rind_qualitative_drawer:draw_edge:183 - dilation times == 2\n",
      "2023-03-05 19:21:45.722 | INFO     | utils.entity.bsds_rind_qualitative_drawer:draw_edge:183 - dilation times == 2\n",
      "2023-03-05 19:21:45.973 | INFO     | utils.entity.bsds_rind_qualitative_drawer:draw_edge:183 - dilation times == 2\n",
      "2023-03-05 19:21:46.675 | INFO     | utils.entity.bsds_rind_qualitative_drawer:draw_edge:183 - dilation times == 2\n"
     ]
    },
    {
     "name": "stdout",
     "output_type": "stream",
     "text": [
      "118072\n"
     ]
    },
    {
     "name": "stderr",
     "output_type": "stream",
     "text": [
      "2023-03-05 19:21:46.868 | INFO     | utils.entity.bsds_rind_qualitative_drawer:draw_edge:183 - dilation times == 2\n",
      "2023-03-05 19:21:47.105 | INFO     | utils.entity.bsds_rind_qualitative_drawer:draw_edge:183 - dilation times == 2\n",
      "2023-03-05 19:21:47.387 | INFO     | utils.entity.bsds_rind_qualitative_drawer:draw_edge:183 - dilation times == 2\n",
      "2023-03-05 19:21:47.716 | INFO     | utils.entity.bsds_rind_qualitative_drawer:draw_edge:183 - dilation times == 2\n",
      "2023-03-05 19:21:48.501 | INFO     | utils.entity.bsds_rind_qualitative_drawer:draw_edge:183 - dilation times == 2\n"
     ]
    },
    {
     "name": "stdout",
     "output_type": "stream",
     "text": [
      "393035\n"
     ]
    },
    {
     "name": "stderr",
     "output_type": "stream",
     "text": [
      "2023-03-05 19:21:48.681 | INFO     | utils.entity.bsds_rind_qualitative_drawer:draw_edge:183 - dilation times == 2\n",
      "2023-03-05 19:21:48.908 | INFO     | utils.entity.bsds_rind_qualitative_drawer:draw_edge:183 - dilation times == 2\n",
      "2023-03-05 19:21:49.177 | INFO     | utils.entity.bsds_rind_qualitative_drawer:draw_edge:183 - dilation times == 2\n",
      "2023-03-05 19:21:49.491 | INFO     | utils.entity.bsds_rind_qualitative_drawer:draw_edge:183 - dilation times == 2\n",
      "2023-03-05 19:21:50.340 | INFO     | utils.entity.bsds_rind_qualitative_drawer:draw_edge:183 - dilation times == 2\n"
     ]
    },
    {
     "name": "stdout",
     "output_type": "stream",
     "text": [
      "65084\n"
     ]
    },
    {
     "name": "stderr",
     "output_type": "stream",
     "text": [
      "2023-03-05 19:21:50.480 | INFO     | utils.entity.bsds_rind_qualitative_drawer:draw_edge:183 - dilation times == 2\n",
      "2023-03-05 19:21:50.651 | INFO     | utils.entity.bsds_rind_qualitative_drawer:draw_edge:183 - dilation times == 2\n",
      "2023-03-05 19:21:50.858 | INFO     | utils.entity.bsds_rind_qualitative_drawer:draw_edge:183 - dilation times == 2\n",
      "2023-03-05 19:21:51.098 | INFO     | utils.entity.bsds_rind_qualitative_drawer:draw_edge:183 - dilation times == 2\n",
      "2023-03-05 19:21:51.823 | INFO     | utils.entity.bsds_rind_qualitative_drawer:draw_edge:183 - dilation times == 2\n"
     ]
    },
    {
     "name": "stdout",
     "output_type": "stream",
     "text": [
      "189096\n"
     ]
    },
    {
     "name": "stderr",
     "output_type": "stream",
     "text": [
      "2023-03-05 19:21:52.020 | INFO     | utils.entity.bsds_rind_qualitative_drawer:draw_edge:183 - dilation times == 2\n",
      "2023-03-05 19:21:52.264 | INFO     | utils.entity.bsds_rind_qualitative_drawer:draw_edge:183 - dilation times == 2\n",
      "2023-03-05 19:21:52.552 | INFO     | utils.entity.bsds_rind_qualitative_drawer:draw_edge:183 - dilation times == 2\n",
      "2023-03-05 19:21:52.880 | INFO     | utils.entity.bsds_rind_qualitative_drawer:draw_edge:183 - dilation times == 2\n",
      "2023-03-05 19:21:53.675 | INFO     | utils.entity.bsds_rind_qualitative_drawer:draw_edge:183 - dilation times == 2\n"
     ]
    },
    {
     "name": "stdout",
     "output_type": "stream",
     "text": [
      "247012\n"
     ]
    },
    {
     "name": "stderr",
     "output_type": "stream",
     "text": [
      "2023-03-05 19:21:53.880 | INFO     | utils.entity.bsds_rind_qualitative_drawer:draw_edge:183 - dilation times == 2\n",
      "2023-03-05 19:21:54.139 | INFO     | utils.entity.bsds_rind_qualitative_drawer:draw_edge:183 - dilation times == 2\n",
      "2023-03-05 19:21:54.426 | INFO     | utils.entity.bsds_rind_qualitative_drawer:draw_edge:183 - dilation times == 2\n",
      "2023-03-05 19:21:54.764 | INFO     | utils.entity.bsds_rind_qualitative_drawer:draw_edge:183 - dilation times == 2\n",
      "2023-03-05 19:21:55.603 | INFO     | utils.entity.bsds_rind_qualitative_drawer:draw_edge:183 - dilation times == 2\n"
     ]
    },
    {
     "name": "stdout",
     "output_type": "stream",
     "text": [
      "206097\n"
     ]
    },
    {
     "name": "stderr",
     "output_type": "stream",
     "text": [
      "2023-03-05 19:21:55.805 | INFO     | utils.entity.bsds_rind_qualitative_drawer:draw_edge:183 - dilation times == 2\n",
      "2023-03-05 19:21:56.045 | INFO     | utils.entity.bsds_rind_qualitative_drawer:draw_edge:183 - dilation times == 2\n",
      "2023-03-05 19:21:56.335 | INFO     | utils.entity.bsds_rind_qualitative_drawer:draw_edge:183 - dilation times == 2\n",
      "2023-03-05 19:21:56.665 | INFO     | utils.entity.bsds_rind_qualitative_drawer:draw_edge:183 - dilation times == 2\n",
      "2023-03-05 19:21:57.459 | INFO     | utils.entity.bsds_rind_qualitative_drawer:draw_edge:183 - dilation times == 2\n"
     ]
    },
    {
     "name": "stdout",
     "output_type": "stream",
     "text": [
      "187058\n"
     ]
    },
    {
     "name": "stderr",
     "output_type": "stream",
     "text": [
      "2023-03-05 19:21:57.652 | INFO     | utils.entity.bsds_rind_qualitative_drawer:draw_edge:183 - dilation times == 2\n",
      "2023-03-05 19:21:57.889 | INFO     | utils.entity.bsds_rind_qualitative_drawer:draw_edge:183 - dilation times == 2\n",
      "2023-03-05 19:21:58.167 | INFO     | utils.entity.bsds_rind_qualitative_drawer:draw_edge:183 - dilation times == 2\n",
      "2023-03-05 19:21:58.492 | INFO     | utils.entity.bsds_rind_qualitative_drawer:draw_edge:183 - dilation times == 2\n",
      "2023-03-05 19:21:59.296 | INFO     | utils.entity.bsds_rind_qualitative_drawer:draw_edge:183 - dilation times == 2\n"
     ]
    },
    {
     "name": "stdout",
     "output_type": "stream",
     "text": [
      "103029\n"
     ]
    },
    {
     "name": "stderr",
     "output_type": "stream",
     "text": [
      "2023-03-05 19:21:59.493 | INFO     | utils.entity.bsds_rind_qualitative_drawer:draw_edge:183 - dilation times == 2\n",
      "2023-03-05 19:21:59.734 | INFO     | utils.entity.bsds_rind_qualitative_drawer:draw_edge:183 - dilation times == 2\n",
      "2023-03-05 19:22:00.020 | INFO     | utils.entity.bsds_rind_qualitative_drawer:draw_edge:183 - dilation times == 2\n",
      "2023-03-05 19:22:00.351 | INFO     | utils.entity.bsds_rind_qualitative_drawer:draw_edge:183 - dilation times == 2\n"
     ]
    },
    {
     "name": "stdout",
     "output_type": "stream",
     "text": [
      "368037\n"
     ]
    },
    {
     "name": "stderr",
     "output_type": "stream",
     "text": [
      "2023-03-05 19:22:01.376 | INFO     | utils.entity.bsds_rind_qualitative_drawer:draw_edge:183 - dilation times == 2\n",
      "2023-03-05 19:22:01.587 | INFO     | utils.entity.bsds_rind_qualitative_drawer:draw_edge:183 - dilation times == 2\n",
      "2023-03-05 19:22:01.858 | INFO     | utils.entity.bsds_rind_qualitative_drawer:draw_edge:183 - dilation times == 2\n",
      "2023-03-05 19:22:02.153 | INFO     | utils.entity.bsds_rind_qualitative_drawer:draw_edge:183 - dilation times == 2\n",
      "2023-03-05 19:22:02.497 | INFO     | utils.entity.bsds_rind_qualitative_drawer:draw_edge:183 - dilation times == 2\n",
      "2023-03-05 19:22:03.331 | INFO     | utils.entity.bsds_rind_qualitative_drawer:draw_edge:183 - dilation times == 2\n"
     ]
    },
    {
     "name": "stdout",
     "output_type": "stream",
     "text": [
      "103006\n"
     ]
    },
    {
     "name": "stderr",
     "output_type": "stream",
     "text": [
      "2023-03-05 19:22:03.529 | INFO     | utils.entity.bsds_rind_qualitative_drawer:draw_edge:183 - dilation times == 2\n",
      "2023-03-05 19:22:03.781 | INFO     | utils.entity.bsds_rind_qualitative_drawer:draw_edge:183 - dilation times == 2\n",
      "2023-03-05 19:22:04.069 | INFO     | utils.entity.bsds_rind_qualitative_drawer:draw_edge:183 - dilation times == 2\n",
      "2023-03-05 19:22:04.397 | INFO     | utils.entity.bsds_rind_qualitative_drawer:draw_edge:183 - dilation times == 2\n",
      "2023-03-05 19:22:05.196 | INFO     | utils.entity.bsds_rind_qualitative_drawer:draw_edge:183 - dilation times == 2\n"
     ]
    },
    {
     "name": "stdout",
     "output_type": "stream",
     "text": [
      "228076\n"
     ]
    },
    {
     "name": "stderr",
     "output_type": "stream",
     "text": [
      "2023-03-05 19:22:05.382 | INFO     | utils.entity.bsds_rind_qualitative_drawer:draw_edge:183 - dilation times == 2\n",
      "2023-03-05 19:22:05.608 | INFO     | utils.entity.bsds_rind_qualitative_drawer:draw_edge:183 - dilation times == 2\n",
      "2023-03-05 19:22:05.880 | INFO     | utils.entity.bsds_rind_qualitative_drawer:draw_edge:183 - dilation times == 2\n",
      "2023-03-05 19:22:06.200 | INFO     | utils.entity.bsds_rind_qualitative_drawer:draw_edge:183 - dilation times == 2\n",
      "2023-03-05 19:22:06.939 | INFO     | utils.entity.bsds_rind_qualitative_drawer:draw_edge:183 - dilation times == 2\n"
     ]
    },
    {
     "name": "stdout",
     "output_type": "stream",
     "text": [
      "198087\n"
     ]
    },
    {
     "name": "stderr",
     "output_type": "stream",
     "text": [
      "2023-03-05 19:22:07.073 | INFO     | utils.entity.bsds_rind_qualitative_drawer:draw_edge:183 - dilation times == 2\n",
      "2023-03-05 19:22:07.237 | INFO     | utils.entity.bsds_rind_qualitative_drawer:draw_edge:183 - dilation times == 2\n",
      "2023-03-05 19:22:07.476 | INFO     | utils.entity.bsds_rind_qualitative_drawer:draw_edge:183 - dilation times == 2\n",
      "2023-03-05 19:22:07.737 | INFO     | utils.entity.bsds_rind_qualitative_drawer:draw_edge:183 - dilation times == 2\n",
      "2023-03-05 19:22:08.508 | INFO     | utils.entity.bsds_rind_qualitative_drawer:draw_edge:183 - dilation times == 2\n"
     ]
    },
    {
     "name": "stdout",
     "output_type": "stream",
     "text": [
      "208078\n"
     ]
    },
    {
     "name": "stderr",
     "output_type": "stream",
     "text": [
      "2023-03-05 19:22:08.713 | INFO     | utils.entity.bsds_rind_qualitative_drawer:draw_edge:183 - dilation times == 2\n",
      "2023-03-05 19:22:08.953 | INFO     | utils.entity.bsds_rind_qualitative_drawer:draw_edge:183 - dilation times == 2\n",
      "2023-03-05 19:22:09.233 | INFO     | utils.entity.bsds_rind_qualitative_drawer:draw_edge:183 - dilation times == 2\n",
      "2023-03-05 19:22:09.565 | INFO     | utils.entity.bsds_rind_qualitative_drawer:draw_edge:183 - dilation times == 2\n",
      "2023-03-05 19:22:10.321 | INFO     | utils.entity.bsds_rind_qualitative_drawer:draw_edge:183 - dilation times == 2\n"
     ]
    },
    {
     "name": "stdout",
     "output_type": "stream",
     "text": [
      "140088\n"
     ]
    },
    {
     "name": "stderr",
     "output_type": "stream",
     "text": [
      "2023-03-05 19:22:10.457 | INFO     | utils.entity.bsds_rind_qualitative_drawer:draw_edge:183 - dilation times == 2\n",
      "2023-03-05 19:22:10.625 | INFO     | utils.entity.bsds_rind_qualitative_drawer:draw_edge:183 - dilation times == 2\n",
      "2023-03-05 19:22:10.827 | INFO     | utils.entity.bsds_rind_qualitative_drawer:draw_edge:183 - dilation times == 2\n",
      "2023-03-05 19:22:11.062 | INFO     | utils.entity.bsds_rind_qualitative_drawer:draw_edge:183 - dilation times == 2\n",
      "2023-03-05 19:22:11.845 | INFO     | utils.entity.bsds_rind_qualitative_drawer:draw_edge:183 - dilation times == 2\n"
     ]
    },
    {
     "name": "stdout",
     "output_type": "stream",
     "text": [
      "101084\n"
     ]
    },
    {
     "name": "stderr",
     "output_type": "stream",
     "text": [
      "2023-03-05 19:22:11.997 | INFO     | utils.entity.bsds_rind_qualitative_drawer:draw_edge:183 - dilation times == 2\n",
      "2023-03-05 19:22:12.166 | INFO     | utils.entity.bsds_rind_qualitative_drawer:draw_edge:183 - dilation times == 2\n",
      "2023-03-05 19:22:12.385 | INFO     | utils.entity.bsds_rind_qualitative_drawer:draw_edge:183 - dilation times == 2\n",
      "2023-03-05 19:22:12.637 | INFO     | utils.entity.bsds_rind_qualitative_drawer:draw_edge:183 - dilation times == 2\n"
     ]
    },
    {
     "name": "stdout",
     "output_type": "stream",
     "text": [
      "79073\n"
     ]
    },
    {
     "name": "stderr",
     "output_type": "stream",
     "text": [
      "2023-03-05 19:22:13.431 | INFO     | utils.entity.bsds_rind_qualitative_drawer:draw_edge:183 - dilation times == 2\n",
      "2023-03-05 19:22:13.642 | INFO     | utils.entity.bsds_rind_qualitative_drawer:draw_edge:183 - dilation times == 2\n",
      "2023-03-05 19:22:13.908 | INFO     | utils.entity.bsds_rind_qualitative_drawer:draw_edge:183 - dilation times == 2\n",
      "2023-03-05 19:22:14.221 | INFO     | utils.entity.bsds_rind_qualitative_drawer:draw_edge:183 - dilation times == 2\n",
      "2023-03-05 19:22:14.570 | INFO     | utils.entity.bsds_rind_qualitative_drawer:draw_edge:183 - dilation times == 2\n",
      "2023-03-05 19:22:15.430 | INFO     | utils.entity.bsds_rind_qualitative_drawer:draw_edge:183 - dilation times == 2\n"
     ]
    },
    {
     "name": "stdout",
     "output_type": "stream",
     "text": [
      "334025\n"
     ]
    },
    {
     "name": "stderr",
     "output_type": "stream",
     "text": [
      "2023-03-05 19:22:15.587 | INFO     | utils.entity.bsds_rind_qualitative_drawer:draw_edge:183 - dilation times == 2\n",
      "2023-03-05 19:22:15.784 | INFO     | utils.entity.bsds_rind_qualitative_drawer:draw_edge:183 - dilation times == 2\n",
      "2023-03-05 19:22:16.018 | INFO     | utils.entity.bsds_rind_qualitative_drawer:draw_edge:183 - dilation times == 2\n",
      "2023-03-05 19:22:16.294 | INFO     | utils.entity.bsds_rind_qualitative_drawer:draw_edge:183 - dilation times == 2\n",
      "2023-03-05 19:22:17.047 | INFO     | utils.entity.bsds_rind_qualitative_drawer:draw_edge:183 - dilation times == 2\n"
     ]
    },
    {
     "name": "stdout",
     "output_type": "stream",
     "text": [
      "160067\n"
     ]
    },
    {
     "name": "stderr",
     "output_type": "stream",
     "text": [
      "2023-03-05 19:22:17.245 | INFO     | utils.entity.bsds_rind_qualitative_drawer:draw_edge:183 - dilation times == 2\n",
      "2023-03-05 19:22:17.480 | INFO     | utils.entity.bsds_rind_qualitative_drawer:draw_edge:183 - dilation times == 2\n",
      "2023-03-05 19:22:17.777 | INFO     | utils.entity.bsds_rind_qualitative_drawer:draw_edge:183 - dilation times == 2\n",
      "2023-03-05 19:22:18.121 | INFO     | utils.entity.bsds_rind_qualitative_drawer:draw_edge:183 - dilation times == 2\n",
      "2023-03-05 19:22:18.989 | INFO     | utils.entity.bsds_rind_qualitative_drawer:draw_edge:183 - dilation times == 2\n"
     ]
    },
    {
     "name": "stdout",
     "output_type": "stream",
     "text": [
      "108004\n"
     ]
    },
    {
     "name": "stderr",
     "output_type": "stream",
     "text": [
      "2023-03-05 19:22:19.192 | INFO     | utils.entity.bsds_rind_qualitative_drawer:draw_edge:183 - dilation times == 2\n",
      "2023-03-05 19:22:19.452 | INFO     | utils.entity.bsds_rind_qualitative_drawer:draw_edge:183 - dilation times == 2\n",
      "2023-03-05 19:22:19.742 | INFO     | utils.entity.bsds_rind_qualitative_drawer:draw_edge:183 - dilation times == 2\n",
      "2023-03-05 19:22:20.101 | INFO     | utils.entity.bsds_rind_qualitative_drawer:draw_edge:183 - dilation times == 2\n",
      "2023-03-05 19:22:20.956 | INFO     | utils.entity.bsds_rind_qualitative_drawer:draw_edge:183 - dilation times == 2\n"
     ]
    },
    {
     "name": "stdout",
     "output_type": "stream",
     "text": [
      "226043\n"
     ]
    },
    {
     "name": "stderr",
     "output_type": "stream",
     "text": [
      "2023-03-05 19:22:21.104 | INFO     | utils.entity.bsds_rind_qualitative_drawer:draw_edge:183 - dilation times == 2\n",
      "2023-03-05 19:22:21.310 | INFO     | utils.entity.bsds_rind_qualitative_drawer:draw_edge:183 - dilation times == 2\n",
      "2023-03-05 19:22:21.531 | INFO     | utils.entity.bsds_rind_qualitative_drawer:draw_edge:183 - dilation times == 2\n",
      "2023-03-05 19:22:21.792 | INFO     | utils.entity.bsds_rind_qualitative_drawer:draw_edge:183 - dilation times == 2\n",
      "2023-03-05 19:22:22.691 | INFO     | utils.entity.bsds_rind_qualitative_drawer:draw_edge:183 - dilation times == 2\n"
     ]
    },
    {
     "name": "stdout",
     "output_type": "stream",
     "text": [
      "120003\n"
     ]
    },
    {
     "name": "stderr",
     "output_type": "stream",
     "text": [
      "2023-03-05 19:22:22.887 | INFO     | utils.entity.bsds_rind_qualitative_drawer:draw_edge:183 - dilation times == 2\n",
      "2023-03-05 19:22:23.124 | INFO     | utils.entity.bsds_rind_qualitative_drawer:draw_edge:183 - dilation times == 2\n",
      "2023-03-05 19:22:23.432 | INFO     | utils.entity.bsds_rind_qualitative_drawer:draw_edge:183 - dilation times == 2\n",
      "2023-03-05 19:22:23.778 | INFO     | utils.entity.bsds_rind_qualitative_drawer:draw_edge:183 - dilation times == 2\n",
      "2023-03-05 19:22:24.627 | INFO     | utils.entity.bsds_rind_qualitative_drawer:draw_edge:183 - dilation times == 2\n"
     ]
    },
    {
     "name": "stdout",
     "output_type": "stream",
     "text": [
      "207038\n"
     ]
    },
    {
     "name": "stderr",
     "output_type": "stream",
     "text": [
      "2023-03-05 19:22:24.822 | INFO     | utils.entity.bsds_rind_qualitative_drawer:draw_edge:183 - dilation times == 2\n",
      "2023-03-05 19:22:25.056 | INFO     | utils.entity.bsds_rind_qualitative_drawer:draw_edge:183 - dilation times == 2\n",
      "2023-03-05 19:22:25.334 | INFO     | utils.entity.bsds_rind_qualitative_drawer:draw_edge:183 - dilation times == 2\n",
      "2023-03-05 19:22:25.659 | INFO     | utils.entity.bsds_rind_qualitative_drawer:draw_edge:183 - dilation times == 2\n",
      "2023-03-05 19:22:26.463 | INFO     | utils.entity.bsds_rind_qualitative_drawer:draw_edge:183 - dilation times == 2\n"
     ]
    },
    {
     "name": "stdout",
     "output_type": "stream",
     "text": [
      "335088\n"
     ]
    },
    {
     "name": "stderr",
     "output_type": "stream",
     "text": [
      "2023-03-05 19:22:26.662 | INFO     | utils.entity.bsds_rind_qualitative_drawer:draw_edge:183 - dilation times == 2\n",
      "2023-03-05 19:22:26.930 | INFO     | utils.entity.bsds_rind_qualitative_drawer:draw_edge:183 - dilation times == 2\n",
      "2023-03-05 19:22:27.239 | INFO     | utils.entity.bsds_rind_qualitative_drawer:draw_edge:183 - dilation times == 2\n",
      "2023-03-05 19:22:27.591 | INFO     | utils.entity.bsds_rind_qualitative_drawer:draw_edge:183 - dilation times == 2\n",
      "2023-03-05 19:22:28.406 | INFO     | utils.entity.bsds_rind_qualitative_drawer:draw_edge:183 - dilation times == 2\n"
     ]
    },
    {
     "name": "stdout",
     "output_type": "stream",
     "text": [
      "202000\n"
     ]
    },
    {
     "name": "stderr",
     "output_type": "stream",
     "text": [
      "2023-03-05 19:22:28.584 | INFO     | utils.entity.bsds_rind_qualitative_drawer:draw_edge:183 - dilation times == 2\n",
      "2023-03-05 19:22:28.809 | INFO     | utils.entity.bsds_rind_qualitative_drawer:draw_edge:183 - dilation times == 2\n",
      "2023-03-05 19:22:29.083 | INFO     | utils.entity.bsds_rind_qualitative_drawer:draw_edge:183 - dilation times == 2\n",
      "2023-03-05 19:22:29.393 | INFO     | utils.entity.bsds_rind_qualitative_drawer:draw_edge:183 - dilation times == 2\n",
      "2023-03-05 19:22:30.167 | INFO     | utils.entity.bsds_rind_qualitative_drawer:draw_edge:183 - dilation times == 2\n"
     ]
    },
    {
     "name": "stdout",
     "output_type": "stream",
     "text": [
      "100007\n"
     ]
    },
    {
     "name": "stderr",
     "output_type": "stream",
     "text": [
      "2023-03-05 19:22:30.354 | INFO     | utils.entity.bsds_rind_qualitative_drawer:draw_edge:183 - dilation times == 2\n",
      "2023-03-05 19:22:30.587 | INFO     | utils.entity.bsds_rind_qualitative_drawer:draw_edge:183 - dilation times == 2\n",
      "2023-03-05 19:22:30.879 | INFO     | utils.entity.bsds_rind_qualitative_drawer:draw_edge:183 - dilation times == 2\n",
      "2023-03-05 19:22:31.232 | INFO     | utils.entity.bsds_rind_qualitative_drawer:draw_edge:183 - dilation times == 2\n",
      "2023-03-05 19:22:32.171 | INFO     | utils.entity.bsds_rind_qualitative_drawer:draw_edge:183 - dilation times == 2\n"
     ]
    },
    {
     "name": "stdout",
     "output_type": "stream",
     "text": [
      "107014\n"
     ]
    },
    {
     "name": "stderr",
     "output_type": "stream",
     "text": [
      "2023-03-05 19:22:32.390 | INFO     | utils.entity.bsds_rind_qualitative_drawer:draw_edge:183 - dilation times == 2\n",
      "2023-03-05 19:22:32.777 | INFO     | utils.entity.bsds_rind_qualitative_drawer:draw_edge:183 - dilation times == 2\n",
      "2023-03-05 19:22:33.088 | INFO     | utils.entity.bsds_rind_qualitative_drawer:draw_edge:183 - dilation times == 2\n",
      "2023-03-05 19:22:33.449 | INFO     | utils.entity.bsds_rind_qualitative_drawer:draw_edge:183 - dilation times == 2\n"
     ]
    }
   ],
   "source": [
    "# demo_task = 'reflectance'\n",
    "\n",
    "best_list = {}\n",
    "\n",
    "for demo_task in ['reflectance',\"illumination\",\"normal\",\"depth\"]:\n",
    "# for demo_task in ['reflectance']:\n",
    "\n",
    "    demo_threshold_range = [0.5]\n",
    "    \n",
    "    compare_save_dir = 'logs/bsds/compare/%s'%(demo_task)\n",
    "    make_dir(compare_save_dir)\n",
    "    origin_save_dir = 'logs/bsds/gt/%s'%(demo_task)\n",
    "    make_dir(origin_save_dir)\n",
    "\n",
    "    gt_loader = GtLoader()\n",
    "\n",
    "    compare_results = get_best_image(our_drawer,[rindnet_drawer,dff_drawer,rcf_drawer,hed_drawer],demo_task)\n",
    "    top10_name_list = [x[0] for x in compare_results]\n",
    "    best_list[demo_task ] = compare_results[:30]\n",
    "    \n",
    "\n",
    "    for name in top10_name_list[:50]:\n",
    "\n",
    "        print(name)\n",
    "        save_name = join(compare_save_dir,'%s.png'%(name))\n",
    "        \n",
    "\n",
    "        if exists(save_name):\n",
    "            a = imread(save_name)[:,:,::-1]\n",
    "            show_imgs([a],[0])\n",
    "            continue\n",
    "\n",
    "        #* origin image\n",
    "        origin_save_name = join(origin_save_dir,'%s.png'%(name))\n",
    "\n",
    "        if not exists(origin_save_name):\n",
    "            edge = gt_loader.get_edge_by_task(demo_task,name)\n",
    "\n",
    "\n",
    "            \n",
    "            origin_image = gt_loader.get_image(name)[:,:,::-1]\n",
    "\n",
    "            filter_pred_edge = dilation(edge,times=1.2)/255\n",
    "            \n",
    "            origin_image[edge==1]  = our_drawer.COLORS['TP']\n",
    "            show_imgs([origin_image],[0],img_name=origin_save_name)\n",
    "        else:\n",
    "            origin_image = imread(origin_save_name)[:,:,::-1]\n",
    "\n",
    "            \n",
    "        idx = our_drawer.name2idx(name)\n",
    "        image = our_drawer.draw_edge(demo_task,idx,demo_threshold_range)\n",
    "        rindnet_image = rindnet_drawer.draw_edge(demo_task,idx,demo_threshold_range)\n",
    "        dff_image = dff_drawer.draw_edge(demo_task,idx,demo_threshold_range)\n",
    "        rcf_image = rcf_drawer.draw_edge(demo_task,idx,demo_threshold_range)\n",
    "        hed_image = hed_drawer.draw_edge(demo_task,idx,demo_threshold_range)\n",
    "\n",
    "\n",
    "        tmp = [origin_image] + image +  rindnet_image + hed_image + dff_image + rcf_image \n",
    "\n",
    "        show_imgs(tmp,[0]*len(tmp),['GT','ours', 'RINDNet', 'HED', 'DFF','RCF'],\n",
    "                    img_name = save_name)\n",
    "\n",
    "                    \n",
    "        \n",
    "\n",
    "    "
   ]
  },
  {
   "cell_type": "markdown",
   "metadata": {},
   "source": [
    "## get best image according to the F-score "
   ]
  },
  {
   "cell_type": "markdown",
   "metadata": {},
   "source": []
  },
  {
   "cell_type": "code",
   "execution_count": 5,
   "metadata": {},
   "outputs": [],
   "source": [
    "\n",
    "\n",
    "\n",
    "our_drawer = QualitativeDrawer('/home/DISCOVER_summer2022/xusc/exp/Cerberus-main/networks/need2release/full_version_0','ours')\n",
    "\n",
    "\n",
    "\n"
   ]
  },
  {
   "cell_type": "code",
   "execution_count": 6,
   "metadata": {},
   "outputs": [],
   "source": [
    "\n",
    "\n",
    "# best_images = get_best_image(our_drawer)[:10]\n",
    "# our_drawer.getitem_by_task('reflectance',0)\n",
    "\n",
    "gt_loader = GtLoader()\n",
    "\n",
    "image,generic_edge,reflectance_edge,illumination_edge,normal_edge,depth_edge = gt_loader.getitem('61034')\n",
    "\n",
    "# image = image[:,:,::-1]\n",
    "# reflectance_edge = reflectance_edge[:,:,::-1]\n",
    "# illumination_edge = illumination_edge[:,:,::-1]\n",
    "# normal_edge = normal_edge[:,:,::-1]\n",
    "# depth_edge = depth_edge[:,:,::-1]\n"
   ]
  },
  {
   "cell_type": "code",
   "execution_count": 7,
   "metadata": {},
   "outputs": [
    {
     "ename": "NameError",
     "evalue": "name 'self' is not defined",
     "output_type": "error",
     "traceback": [
      "\u001b[0;31m---------------------------------------------------------------------------\u001b[0m",
      "\u001b[0;31mNameError\u001b[0m                                 Traceback (most recent call last)",
      "\u001b[0;32m/tmp/ipykernel_281144/2091234235.py\u001b[0m in \u001b[0;36m<module>\u001b[0;34m\u001b[0m\n\u001b[1;32m      4\u001b[0m         \u001b[0;34m(\u001b[0m\u001b[0;36m235\u001b[0m\u001b[0;34m,\u001b[0m\u001b[0;36m191\u001b[0m\u001b[0;34m,\u001b[0m\u001b[0;36m114\u001b[0m\u001b[0;34m)\u001b[0m\u001b[0;34m,\u001b[0m\u001b[0;34m\u001b[0m\u001b[0;34m\u001b[0m\u001b[0m\n\u001b[1;32m      5\u001b[0m         \u001b[0;34m(\u001b[0m\u001b[0;36m174\u001b[0m\u001b[0;34m,\u001b[0m \u001b[0;36m125\u001b[0m\u001b[0;34m,\u001b[0m \u001b[0;36m176\u001b[0m\u001b[0;34m)\u001b[0m\u001b[0;34m,\u001b[0m\u001b[0;34m\u001b[0m\u001b[0;34m\u001b[0m\u001b[0m\n\u001b[0;32m----> 6\u001b[0;31m         \u001b[0;34m(\u001b[0m\u001b[0;36m219\u001b[0m\u001b[0;34m,\u001b[0m \u001b[0;36m118\u001b[0m\u001b[0;34m,\u001b[0m \u001b[0;36m2\u001b[0m\u001b[0;34m)\u001b[0m\u001b[0;34m\u001b[0m\u001b[0;34m\u001b[0m\u001b[0m\n\u001b[0m\u001b[1;32m      7\u001b[0m         ]\n\u001b[1;32m      8\u001b[0m \u001b[0mshow_imgs\u001b[0m\u001b[0;34m(\u001b[0m\u001b[0;34m[\u001b[0m\u001b[0mimage\u001b[0m\u001b[0;34m,\u001b[0m\u001b[0mreflectance_edge\u001b[0m\u001b[0;34m,\u001b[0m\u001b[0millumination_edge\u001b[0m\u001b[0;34m,\u001b[0m\u001b[0mnormal_edge\u001b[0m\u001b[0;34m,\u001b[0m\u001b[0mdepth_edge\u001b[0m\u001b[0;34m]\u001b[0m\u001b[0;34m,\u001b[0m\u001b[0;34m[\u001b[0m\u001b[0;36m0\u001b[0m\u001b[0;34m]\u001b[0m\u001b[0;34m*\u001b[0m\u001b[0;36m8\u001b[0m\u001b[0;34m)\u001b[0m\u001b[0;34m\u001b[0m\u001b[0;34m\u001b[0m\u001b[0m\n",
      "\u001b[0;31mNameError\u001b[0m: name 'self' is not defined"
     ]
    }
   ],
   "source": [
    "\n",
    "\n",
    "self.RINDE_COLOR = [\n",
    "        (10,139,226),\n",
    "        (142,217,199),\n",
    "        (235,191,114),\n",
    "        (174, 125, 176),\n",
    "        (219, 118, 2)\n",
    "        ]\n",
    "show_imgs([image,reflectance_edge,illumination_edge,normal_edge,depth_edge],[0]*8)"
   ]
  },
  {
   "cell_type": "code",
   "execution_count": null,
   "metadata": {},
   "outputs": [],
   "source": []
  },
  {
   "cell_type": "code",
   "execution_count": null,
   "metadata": {},
   "outputs": [],
   "source": []
  },
  {
   "cell_type": "code",
   "execution_count": null,
   "metadata": {},
   "outputs": [],
   "source": [
    "\n",
    "\n",
    "# gt_loader = GtLoader()\n",
    "\n",
    "# for name in [x[0] for x in get_best_image(our_drawer)][10:40]:\n",
    "\n",
    "#     # image  = gt_loader.get_image(name)[:,:,::-1]\n",
    "#     image,generic_edge,reflectance_edge,illumination_edge,normal_edge,depth_edge = gt_loader.getitem(name)\n",
    "\n",
    "#     atten_reflectance,atten_illumination,atten_normal,atten_depth = our_drawer.get_attention(name)\n",
    "\n",
    "#     print(our_drawer.get_F_quantitatives(our_drawer.name2idx(name)))\n",
    "#     #* RIND ---> DIRN\n",
    "#     show_imgs([image[:,:,::-1],generic_edge],[0,0,0])\n",
    "#     show_imgs([reflectance_edge,atten_depth],[0,0,0])\n",
    "#     show_imgs([illumination_edge,atten_illumination],[0,0,0])\n",
    "#     show_imgs([normal_edge,atten_reflectance],[0,0,0])\n",
    "#     show_imgs([depth_edge,atten_normal],[0,0,0])\n",
    "#     print(\"============================================================================\")\n",
    "    \n",
    "\n",
    "    \n",
    "\n"
   ]
  }
 ],
 "metadata": {
  "kernelspec": {
   "display_name": "Python 3 (ipykernel)",
   "language": "python",
   "name": "python3"
  },
  "language_info": {
   "codemirror_mode": {
    "name": "ipython",
    "version": 3
   },
   "file_extension": ".py",
   "mimetype": "text/x-python",
   "name": "python",
   "nbconvert_exporter": "python",
   "pygments_lexer": "ipython3",
   "version": "3.7.13"
  }
 },
 "nbformat": 4,
 "nbformat_minor": 2
}
