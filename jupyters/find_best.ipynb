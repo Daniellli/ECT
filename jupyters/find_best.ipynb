{
 "cells": [
  {
   "attachments": {},
   "cell_type": "markdown",
   "metadata": {},
   "source": []
  },
  {
   "cell_type": "code",
   "execution_count": 2,
   "metadata": {},
   "outputs": [],
   "source": [
    "import torch \n",
    "\n",
    "\n",
    "import os \n",
    "\n",
    "\n",
    "from os.path import join, exists, split,isdir, split\n",
    "\n",
    "import json "
   ]
  },
  {
   "cell_type": "code",
   "execution_count": 5,
   "metadata": {},
   "outputs": [
    {
     "name": "stdout",
     "output_type": "stream",
     "text": [
      "0.487\n",
      "0.486\n",
      "0.487\n",
      "0.487\n",
      "0.487\n",
      "0.488\n",
      "0.487\n",
      "0.486\n",
      "0.487\n"
     ]
    }
   ],
   "source": [
    "\n",
    "\n",
    "def find_best(root):\n",
    "\n",
    "    all_jsons = [join(root,x,'eval_res.json') for x in os.listdir(root) if isdir(join(root, x)) and x != 'checkpoints']\n",
    "\n",
    "    best_json = None \n",
    "    best_j  = None\n",
    "    for j in all_jsons:\n",
    "        if exists(j) :\n",
    "            with open(j , 'r') as f:\n",
    "                data = json.load(f)\n",
    "                print(data['Average']['AP'])\n",
    "\n",
    "                if best_json is None or data['Average']['AP'] > best_json['Average']['AP']:\n",
    "                    best_json = data\n",
    "                    best_j = j\n",
    "        else:\n",
    "            print(j, 'is not exists')\n",
    "                \n",
    "    return best_json,best_j\n",
    "\n",
    "\n",
    "\n",
    "# best_json,best_j = find_best(\"/home/DISCOVER_summer2022/xusc/exp/Cerberus-main/networks/2023-05-27-08:19:1685146763#CN10\")\n",
    "# best_json,best_j = find_best(\"/home/DISCOVER_summer2022/xusc/exp/Cerberus-main/networks/2023-05-27-02:11:1685124709#CN10\")\n",
    "# best_json,best_j = find_best(\"/home/DISCOVER_summer2022/xusc/exp/Cerberus-main/networks/2023-05-26-13:04:1685077468#CN20\")\n",
    "best_json,best_j = find_best(\"/home/DISCOVER_summer2022/xusc/exp/Cerberus-main/networks/2023-05-27-13:57:1685167078#CN2\")\n",
    "\n",
    "\n",
    "\n",
    "\n",
    "\n",
    "            \n",
    "        \n"
   ]
  },
  {
   "cell_type": "code",
   "execution_count": 6,
   "metadata": {},
   "outputs": [
    {
     "data": {
      "text/plain": [
       "({'depth': {'ODS': '0.695', 'OIS': '0.731', 'AP': '0.720', 'R50': '0.856'},\n",
       "  'normal': {'ODS': '0.514', 'OIS': '0.558', 'AP': '0.467', 'R50': '0.503'},\n",
       "  'reflectance': {'ODS': '0.518',\n",
       "   'OIS': '0.567',\n",
       "   'AP': '0.468',\n",
       "   'R50': '0.537'},\n",
       "  'illumination': {'ODS': '0.355',\n",
       "   'OIS': '0.405',\n",
       "   'AP': '0.295',\n",
       "   'R50': '0.208'},\n",
       "  'Average': {'ODS': 0.521, 'OIS': 0.565, 'AP': 0.488, 'R50': 0.526}},\n",
       " '/home/DISCOVER_summer2022/xusc/exp/Cerberus-main/networks/2023-05-27-13:57:1685167078#CN2/265/eval_res.json')"
      ]
     },
     "execution_count": 6,
     "metadata": {},
     "output_type": "execute_result"
    }
   ],
   "source": [
    "best_json,best_j "
   ]
  }
 ],
 "metadata": {
  "kernelspec": {
   "display_name": "yang_real",
   "language": "python",
   "name": "python3"
  },
  "language_info": {
   "codemirror_mode": {
    "name": "ipython",
    "version": 3
   },
   "file_extension": ".py",
   "mimetype": "text/x-python",
   "name": "python",
   "nbconvert_exporter": "python",
   "pygments_lexer": "ipython3",
   "version": "3.8.13"
  },
  "orig_nbformat": 4
 },
 "nbformat": 4,
 "nbformat_minor": 2
}
