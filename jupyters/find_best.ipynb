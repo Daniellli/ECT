{
 "cells": [
  {
   "attachments": {},
   "cell_type": "markdown",
   "metadata": {},
   "source": []
  },
  {
   "cell_type": "code",
   "execution_count": 1,
   "metadata": {},
   "outputs": [],
   "source": [
    "import torch \n",
    "\n",
    "\n",
    "import os \n",
    "\n",
    "\n",
    "from os.path import join, exists, split,isdir, split\n",
    "\n",
    "import json "
   ]
  },
  {
   "cell_type": "code",
   "execution_count": 7,
   "metadata": {},
   "outputs": [
    {
     "name": "stdout",
     "output_type": "stream",
     "text": [
      "0.493\n",
      "0.49\n",
      "0.494\n",
      "0.493\n",
      "0.493\n",
      "0.494\n",
      "0.493\n",
      "0.493\n",
      "0.493\n"
     ]
    }
   ],
   "source": [
    "\n",
    "\n",
    "def find_best(root):\n",
    "\n",
    "    all_jsons = [join(root,x,'eval_res.json') for x in os.listdir(root) if isdir(join(root, x)) and x != 'checkpoints']\n",
    "\n",
    "    best_json = None \n",
    "    best_j  = None\n",
    "    for j in all_jsons:\n",
    "        if exists(j) :\n",
    "            with open(j , 'r') as f:\n",
    "                data = json.load(f)\n",
    "                print(data['Average']['AP'])\n",
    "\n",
    "                if best_json is None or data['Average']['AP'] > best_json['Average']['AP']:\n",
    "                    best_json = data\n",
    "                    best_j = j\n",
    "        else:\n",
    "            print(j, 'is not exists')\n",
    "                \n",
    "    return best_json,best_j\n",
    "\n",
    "\n",
    "\n",
    "# best_json,best_j = find_best(\"/home/DISCOVER_summer2022/xusc/exp/Cerberus-main/networks/2023-05-27-08:19:1685146763#CN10\")\n",
    "best_json,best_j = find_best(\"/home/DISCOVER_summer2022/xusc/exp/Cerberus-main/networks/2023-05-27-02:11:1685124709#CN10\")\n",
    "# best_json,best_j = find_best(\"/home/DISCOVER_summer2022/xusc/exp/Cerberus-main/networks/2023-05-26-13:04:1685077468#CN20\")\n",
    "# best_json,best_j = find_best(\"/home/DISCOVER_summer2022/xusc/exp/Cerberus-main/networks/2023-05-27-13:57:1685167078#CN2\")\n",
    "\n",
    "\n",
    "\n",
    "\n",
    "\n",
    "            \n",
    "        \n"
   ]
  },
  {
   "cell_type": "code",
   "execution_count": 8,
   "metadata": {},
   "outputs": [
    {
     "data": {
      "text/plain": [
       "({'depth': {'ODS': '0.699', 'OIS': '0.732', 'AP': '0.716', 'R50': '0.858'},\n",
       "  'normal': {'ODS': '0.518', 'OIS': '0.556', 'AP': '0.481', 'R50': '0.523'},\n",
       "  'reflectance': {'ODS': '0.521',\n",
       "   'OIS': '0.560',\n",
       "   'AP': '0.474',\n",
       "   'R50': '0.544'},\n",
       "  'illumination': {'ODS': '0.361',\n",
       "   'OIS': '0.409',\n",
       "   'AP': '0.305',\n",
       "   'R50': '0.226'},\n",
       "  'Average': {'ODS': 0.525, 'OIS': 0.564, 'AP': 0.494, 'R50': 0.538}},\n",
       " '/home/DISCOVER_summer2022/xusc/exp/Cerberus-main/networks/2023-05-27-02:11:1685124709#CN10/275/eval_res.json')"
      ]
     },
     "execution_count": 8,
     "metadata": {},
     "output_type": "execute_result"
    }
   ],
   "source": [
    "best_json,best_j "
   ]
  }
 ],
 "metadata": {
  "kernelspec": {
   "display_name": "yang_real",
   "language": "python",
   "name": "python3"
  },
  "language_info": {
   "codemirror_mode": {
    "name": "ipython",
    "version": 3
   },
   "file_extension": ".py",
   "mimetype": "text/x-python",
   "name": "python",
   "nbconvert_exporter": "python",
   "pygments_lexer": "ipython3",
   "version": "3.8.13"
  },
  "orig_nbformat": 4
 },
 "nbformat": 4,
 "nbformat_minor": 2
}
