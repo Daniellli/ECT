{
 "cells": [
  {
   "cell_type": "code",
   "execution_count": 1,
   "metadata": {},
   "outputs": [
    {
     "name": "stderr",
     "output_type": "stream",
     "text": [
      "\n",
      "Bad key text.latex.preview in file /home/DISCOVER_summer2022/xusc/.conda/envs/uav/lib/python3.7/site-packages/matplotlib/mpl-data/stylelib/_classic_test.mplstyle, line 123 ('text.latex.preview : False')\n",
      "You probably need to get an updated matplotlibrc file from\n",
      "https://github.com/matplotlib/matplotlib/blob/v3.5.1/matplotlibrc.template\n",
      "or from the matplotlib source distribution\n",
      "\n",
      "Bad key mathtext.fallback_to_cm in file /home/DISCOVER_summer2022/xusc/.conda/envs/uav/lib/python3.7/site-packages/matplotlib/mpl-data/stylelib/_classic_test.mplstyle, line 155 ('mathtext.fallback_to_cm : True  # When True, use symbols from the Computer Modern')\n",
      "You probably need to get an updated matplotlibrc file from\n",
      "https://github.com/matplotlib/matplotlib/blob/v3.5.1/matplotlibrc.template\n",
      "or from the matplotlib source distribution\n",
      "\n",
      "Bad key savefig.jpeg_quality in file /home/DISCOVER_summer2022/xusc/.conda/envs/uav/lib/python3.7/site-packages/matplotlib/mpl-data/stylelib/_classic_test.mplstyle, line 418 ('savefig.jpeg_quality: 95       # when a jpeg is saved, the default quality parameter.')\n",
      "You probably need to get an updated matplotlibrc file from\n",
      "https://github.com/matplotlib/matplotlib/blob/v3.5.1/matplotlibrc.template\n",
      "or from the matplotlib source distribution\n",
      "\n",
      "Bad key keymap.all_axes in file /home/DISCOVER_summer2022/xusc/.conda/envs/uav/lib/python3.7/site-packages/matplotlib/mpl-data/stylelib/_classic_test.mplstyle, line 466 ('keymap.all_axes : a                 # enable all axes')\n",
      "You probably need to get an updated matplotlibrc file from\n",
      "https://github.com/matplotlib/matplotlib/blob/v3.5.1/matplotlibrc.template\n",
      "or from the matplotlib source distribution\n",
      "\n",
      "Bad key animation.avconv_path in file /home/DISCOVER_summer2022/xusc/.conda/envs/uav/lib/python3.7/site-packages/matplotlib/mpl-data/stylelib/_classic_test.mplstyle, line 477 ('animation.avconv_path: avconv     # Path to avconv binary. Without full path')\n",
      "You probably need to get an updated matplotlibrc file from\n",
      "https://github.com/matplotlib/matplotlib/blob/v3.5.1/matplotlibrc.template\n",
      "or from the matplotlib source distribution\n",
      "\n",
      "Bad key animation.avconv_args in file /home/DISCOVER_summer2022/xusc/.conda/envs/uav/lib/python3.7/site-packages/matplotlib/mpl-data/stylelib/_classic_test.mplstyle, line 479 ('animation.avconv_args:            # Additional arguments to pass to avconv')\n",
      "You probably need to get an updated matplotlibrc file from\n",
      "https://github.com/matplotlib/matplotlib/blob/v3.5.1/matplotlibrc.template\n",
      "or from the matplotlib source distribution\n"
     ]
    }
   ],
   "source": [
    "\n",
    "# !pip install ipykernel\n",
    "\n",
    "import os \n",
    "\n",
    "os.chdir('/home/DISCOVER_summer2022/xusc/exp/Cerberus-main')\n",
    "# from dataloaders.datasets.nyud_geonet import NYUD_GeoNet\n",
    "\n",
    "from dataloaders.datasets.nyud2 import Nyud2\n",
    "from dataloaders.datasets.nyud_geonet import *\n",
    "\n",
    "\n",
    "\n",
    "\n",
    "import matplotlib.pyplot as plt\n",
    "import numpy as np \n",
    "import cv2\n",
    "import torchvision.transforms as transforms\n",
    "from utils import  * \n",
    "from PIL import Image\n",
    "import math\n",
    "import torch.nn.functional as F\n",
    "from plot.plot_main_pic import dilation\n",
    "import copy\n",
    "\n",
    "from eval_tools.iiw_evaluator import IIWEvaluator\n",
    "\n",
    "#* initial\n",
    "# plt.rcParams['figure.figsize'] = (8.0, 2.0) # 设置figure_size尺寸\n",
    "# plt.rcParams['image.interpolation'] = 'nearest' # 设置 interpolation style\n",
    "# plt.rcParams['image.cmap'] = 'gray' # 设置 颜色 style\n",
    "plt.rcParams['savefig.dpi'] = 300 #图片像素\n",
    "plt.rcParams['figure.dpi'] = 300 #分辨率\n",
    "# 默认的像素：[6.0,4.0]，分辨率为100，图片尺寸为 600&400\n",
    "\n",
    "import os.path as osp\n",
    "from os.path import split,join,exists\n",
    "\n",
    "\n",
    "from tqdm import tqdm"
   ]
  },
  {
   "cell_type": "code",
   "execution_count": 2,
   "metadata": {},
   "outputs": [
    {
     "name": "stderr",
     "output_type": "stream",
     "text": [
      "100%|██████████| 654/654 [00:25<00:00, 25.73it/s]\n"
     ]
    }
   ],
   "source": [
    "'''\n",
    "Author: daniel\n",
    "Date: 2023-02-10 15:02:26\n",
    "LastEditTime: 2023-02-18 19:16:04\n",
    "LastEditors: daniel\n",
    "Description: \n",
    "FilePath: /Cerberus-main/jupyters/nyud21.ipynb\n",
    "have a nice day\n",
    "'''\n",
    "\n",
    "\n",
    "\n",
    "def info(image):\n",
    "    print(f'max value:{image.max()}, min value : {image.min()}, image shape: {image.shape}')\n",
    "\n",
    "\n",
    "\n",
    "dataset= Nyud2()\n",
    "\n",
    "for idx in tqdm(range(dataset.__len__())):\n",
    "    im,depth_map,label,edge,depth_edge,normal_map,normal_edge,name = dataset.getitem(idx)\n",
    "   \n",
    "    # transpose\n",
    "    \n",
    "    # print(f\"{type(im)}\")\n",
    "    # info(im)\n",
    "    # info(depth_map)\n",
    "    # info(depth_edge)\n",
    "    # info(normal_map)\n",
    "    # info(normal_edge)\n",
    "    \n",
    "    save_path = \"logs/qualitative_results/%04d.png\"%(idx)\n",
    "    if not exists(save_path):\n",
    "        print(f\"{name}  is processing\")\n",
    "        show_imgs([im,depth_map,\n",
    "                    merge_images(depth_map,0.4,depth_edge,0.6),\n",
    "                    normal_map,\n",
    "                    merge_images(normal_map,0.4,normal_edge,0.6),\n",
    "                    ],\n",
    "                    [0,0,0,0,0,0],\n",
    "                    img_name=save_path\n",
    "                    )\n",
    "                    \n",
    "\n",
    "\n",
    "    "
   ]
  },
  {
   "cell_type": "code",
   "execution_count": null,
   "metadata": {},
   "outputs": [],
   "source": []
  },
  {
   "cell_type": "code",
   "execution_count": null,
   "metadata": {},
   "outputs": [],
   "source": []
  },
  {
   "cell_type": "code",
   "execution_count": null,
   "metadata": {},
   "outputs": [],
   "source": []
  },
  {
   "cell_type": "code",
   "execution_count": 3,
   "metadata": {},
   "outputs": [
    {
     "ename": "TypeError",
     "evalue": "not all arguments converted during string formatting",
     "output_type": "error",
     "traceback": [
      "\u001b[0;31m---------------------------------------------------------------------------\u001b[0m",
      "\u001b[0;31mTypeError\u001b[0m                                 Traceback (most recent call last)",
      "\u001b[0;32m/tmp/ipykernel_3439953/3607884539.py\u001b[0m in \u001b[0;36m<module>\u001b[0;34m\u001b[0m\n\u001b[1;32m     15\u001b[0m     \u001b[0;32mif\u001b[0m \u001b[0;34m(\u001b[0m\u001b[0mcnt\u001b[0m\u001b[0;34m+\u001b[0m\u001b[0;36m1\u001b[0m\u001b[0;34m)\u001b[0m\u001b[0;34m%\u001b[0m\u001b[0;36m10\u001b[0m \u001b[0;34m==\u001b[0m \u001b[0;36m0\u001b[0m\u001b[0;34m:\u001b[0m\u001b[0;34m\u001b[0m\u001b[0;34m\u001b[0m\u001b[0m\n\u001b[1;32m     16\u001b[0m         \u001b[0;31m#* write\u001b[0m\u001b[0;34m\u001b[0m\u001b[0;34m\u001b[0m\u001b[0;34m\u001b[0m\u001b[0m\n\u001b[0;32m---> 17\u001b[0;31m         \u001b[0mimwrite\u001b[0m\u001b[0;34m(\u001b[0m\u001b[0mjoin\u001b[0m\u001b[0;34m(\u001b[0m\u001b[0mtarget_merged_path\u001b[0m\u001b[0;34m,\u001b[0m\u001b[0;34m\"%s.png\"\u001b[0m\u001b[0;34m%\u001b[0m\u001b[0;34m(\u001b[0m\u001b[0;34m'_'\u001b[0m\u001b[0;34m.\u001b[0m\u001b[0mjoin\u001b[0m\u001b[0;34m(\u001b[0m\u001b[0mname_list\u001b[0m\u001b[0;34m)\u001b[0m\u001b[0;34m,\u001b[0m\u001b[0midx\u001b[0m\u001b[0;34m)\u001b[0m\u001b[0;34m)\u001b[0m\u001b[0;34m,\u001b[0m\u001b[0mnp\u001b[0m\u001b[0;34m.\u001b[0m\u001b[0mconcatenate\u001b[0m\u001b[0;34m(\u001b[0m\u001b[0mimage_list\u001b[0m\u001b[0;34m)\u001b[0m\u001b[0;34m)\u001b[0m\u001b[0;34m\u001b[0m\u001b[0;34m\u001b[0m\u001b[0m\n\u001b[0m\u001b[1;32m     18\u001b[0m         \u001b[0mcnt\u001b[0m\u001b[0;34m=\u001b[0m\u001b[0;36m0\u001b[0m\u001b[0;34m\u001b[0m\u001b[0;34m\u001b[0m\u001b[0m\n\u001b[1;32m     19\u001b[0m         \u001b[0mimage_list\u001b[0m\u001b[0;34m=\u001b[0m\u001b[0;34m[\u001b[0m\u001b[0;34m]\u001b[0m\u001b[0;34m\u001b[0m\u001b[0;34m\u001b[0m\u001b[0m\n",
      "\u001b[0;31mTypeError\u001b[0m: not all arguments converted during string formatting"
     ]
    }
   ],
   "source": [
    "target_path = 'logs/qualitative_results'\n",
    "target_merged_path = 'logs/merged'\n",
    "\n",
    "\n",
    "merged_files = os.listdir(target_path)\n",
    "\n",
    "\n",
    "cnt = 0 \n",
    "name_list=[]\n",
    "image_list = [] \n",
    "for idx,f in enumerate(merged_files):\n",
    "\n",
    "    cnt+=1\n",
    "    im = join(target_path,f)\n",
    "    if (cnt+1)%10 == 0:\n",
    "        #* write\n",
    "        imwrite(join(target_merged_path,\"%s.png\"%('_'.join(name_list),idx)),np.concatenate(image_list))\n",
    "        cnt=0\n",
    "        image_list=[]\n",
    "        name_list=[]\n",
    "        break\n",
    "    else :\n",
    "        #* merge\n",
    "        name_list.append(f.split('.')[0])\n",
    "        image_list.append(imread(im))\n",
    "    "
   ]
  },
  {
   "cell_type": "code",
   "execution_count": null,
   "metadata": {},
   "outputs": [],
   "source": []
  },
  {
   "cell_type": "code",
   "execution_count": null,
   "metadata": {},
   "outputs": [],
   "source": []
  }
 ],
 "metadata": {
  "kernelspec": {
   "display_name": "uav",
   "language": "python",
   "name": "python3"
  },
  "language_info": {
   "codemirror_mode": {
    "name": "ipython",
    "version": 3
   },
   "file_extension": ".py",
   "mimetype": "text/x-python",
   "name": "python",
   "nbconvert_exporter": "python",
   "pygments_lexer": "ipython3",
   "version": "3.7.13"
  },
  "orig_nbformat": 4,
  "vscode": {
   "interpreter": {
    "hash": "089b87feee1dc9e94ffa84a30284f38885f34cd4dd7b5b278d97b1d9745ef93a"
   }
  }
 },
 "nbformat": 4,
 "nbformat_minor": 2
}
