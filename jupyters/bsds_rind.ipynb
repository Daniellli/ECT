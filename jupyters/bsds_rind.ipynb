{
 "cells": [
  {
   "cell_type": "code",
   "execution_count": null,
   "metadata": {},
   "outputs": [],
   "source": [
    "\n",
    "import os \n",
    "# os.chdir('/data3/xusc/exp/cerberus')\n",
    "os.chdir('/home/DISCOVER_summer2022/xusc/exp/Cerberus-main')\n",
    "\n",
    "\n",
    "from os.path import join, split, isdir,isfile\n",
    "import scipy.io as scio\n",
    "import numpy as np\n",
    "from torchvision import transforms\n",
    "from dataloaders.datasets.bsds_hd5 import Mydataset\n",
    "from dataloaders.datasets.bsds_hd5_test import MydatasetTest\n",
    "import matplotlib.pyplot as plt\n",
    "plt.rcParams['savefig.dpi'] = 200 #图片像素\n",
    "plt.rcParams['figure.dpi'] = 200 #分辨率\n",
    "from utils import *\n",
    "import os.path as osp\n",
    "\n",
    "\n",
    "\n"
   ]
  },
  {
   "cell_type": "markdown",
   "metadata": {},
   "source": [
    "# check the edge label "
   ]
  },
  {
   "cell_type": "code",
   "execution_count": null,
   "metadata": {},
   "outputs": [],
   "source": [
    "import cv2\n",
    "cv2.imread('/home/DISCOVER_summer2022/xusc/exp/EDTER/logs/NYUD2/depth/png/0.png').shape\n",
    "\n",
    "\n",
    "\n",
    "\n",
    "# a[45:471, 41:601].shape\n",
    "# cv2.imread('/home/DISCOVER_summer2022/xusc/exp/Cerberus-main/data/nyud2/nyu_test_cerberus/images/img_5001.png').shape\n",
    "\n",
    "\n",
    "\n",
    "# scio.loadmat('/home/DISCOVER_summer2022/xusc/exp/Cerberus-main/data/nyud2/NYU_origin/depth_normal_edges_3x3/range123/nyu_normal_edges_crop_mat/20.mat')['groundTruth'][0,0][0,0][0].shape\n",
    "\n",
    "\n",
    "\n",
    "\n",
    "\n"
   ]
  },
  {
   "cell_type": "code",
   "execution_count": null,
   "metadata": {},
   "outputs": [],
   "source": [
    "def save_as_mat(file_name,gt_map):\n",
    "\n",
    "    scio.savemat(file_name,\n",
    "        {'__header__': b'MATLAB 5.0 MAT-file, Platform: MACI64, Created on: Mon Feb 7 06:47:01 2023',\n",
    "        '__version__': '1.0',\n",
    "        '__globals__': [],\n",
    "        'groundTruth': [{'Boundaries':gt_map}]\n",
    "        }\n",
    "    )\n",
    "\n",
    "from  tqdm import tqdm\n",
    "\n",
    "class GtLoader:\n",
    "\n",
    "\n",
    "    def __init__(self,root):\n",
    "\n",
    "        self.root = root \n",
    "\n",
    "        self.dir_names = ['depth', 'normal', 'reflectance', 'illumination']\n",
    "        \n",
    "        all_data = {}\n",
    "        for __cls in self.dir_names:\n",
    "            all_data[__cls] = self.load(join(root,__cls))\n",
    "\n",
    "        self.data = all_data\n",
    "\n",
    "        self.names = list(self.data['depth'].keys())\n",
    "\n",
    "    \n",
    "\n",
    "    def __len__(self):\n",
    "\n",
    "        return len(self.names)\n",
    "\n",
    "    def load(self,subset_path):\n",
    "        loaded = {}\n",
    "        for fname in os.listdir(subset_path):\n",
    "            gt_mask = scio.loadmat(join(subset_path,fname))\n",
    "            loaded[fname] = gt_mask['groundTruth'][0,0][0,0]['Boundaries']\n",
    "        return loaded\n",
    "\n",
    "    \n",
    "\n",
    "    def getitem(self,idx):\n",
    "        \n",
    "        res = []\n",
    "\n",
    "        for __cls in self.dir_names:\n",
    "            res.append(self.data[__cls][self.names[idx]])\n",
    "\n",
    "        return res\n",
    "            \n",
    "        \n",
    "            \n",
    "    \n",
    "\n",
    "    def get_generic_edge(self,idx):\n",
    "\n",
    "\n",
    "        \n",
    "        sample = loader.getitem(idx)\n",
    "        generic_edge_map = np.any(np.stack(sample),0)\n",
    "\n",
    "\n",
    "        # show_imgs([tmp], [1])\n",
    "        return generic_edge_map\n",
    "\n",
    "    def gen_generic_edge(self):\n",
    "\n",
    "        save_path = join(self.root,'all_edges')\n",
    "\n",
    "        for i in tqdm(range(loader.__len__())):\n",
    "\n",
    "            edge = self.get_generic_edge(i)\n",
    "            \n",
    "        \n",
    "            save_as_mat(join(save_path,self.names[i]),edge)\n",
    "\n",
    "    \n",
    "\n",
    "    def get_edge(self,idx):\n",
    "\n",
    "\n",
    "        \n",
    "        gt_mask = scio.loadmat(join(self.root,'all_edges',self.names[idx]))\n",
    "        edge_map = gt_mask['groundTruth'][0,0][0,0]['Boundaries']\n",
    "        return edge_map\n",
    "        \n",
    "\n",
    "        \n",
    "\n",
    "\n",
    "            \n",
    "\n",
    "\n",
    "\n",
    "root = \"/home/DISCOVER_summer2022/xusc/exp/Cerberus-main/data/BSDS-RIND/testgt\"\n",
    "loader = GtLoader(root)\n",
    "\n",
    "\n",
    "\n",
    "\n"
   ]
  },
  {
   "cell_type": "code",
   "execution_count": null,
   "metadata": {},
   "outputs": [],
   "source": [
    "# loader.gen_generic_edge()\n",
    "\n",
    "# show_imgs([loader.get_edge(0)], [1])"
   ]
  },
  {
   "cell_type": "code",
   "execution_count": null,
   "metadata": {},
   "outputs": [],
   "source": [
    "# loader.data['depth']\n",
    "# len(loader.names)\n",
    "\n",
    "for i in range(loader.__len__()):\n",
    "    sample = loader.getitem(i)\n",
    "\n",
    "    break\n",
    "\n",
    "    \n",
    "show_imgs(sample,len(sample) * [1])\n",
    "\n"
   ]
  },
  {
   "cell_type": "code",
   "execution_count": null,
   "metadata": {},
   "outputs": [],
   "source": [
    "bs = []\n",
    "for i in range(5):\n",
    "    boundary = gt_mask['groundTruth'][0,i][0,0]['Boundaries']\n",
    "    bs.append(boundary)\n",
    "\n",
    "    \n",
    "show_imgs(bs,len(bs) * [1])\n"
   ]
  },
  {
   "cell_type": "code",
   "execution_count": null,
   "metadata": {},
   "outputs": [],
   "source": [
    "\n",
    "\n",
    "# b = scio.loadmat('a.mat')\n",
    "# b['groundTruth'][0,0][0,0]['Boundaries']"
   ]
  },
  {
   "cell_type": "markdown",
   "metadata": {},
   "source": [
    "## Check out  train val subset"
   ]
  },
  {
   "cell_type": "code",
   "execution_count": null,
   "metadata": {},
   "outputs": [],
   "source": [
    "train_dataset = Mydataset(root_path='data/BSDS-RIND/BSDS-RIND/Augmentation/', split='trainval', crop_size=320)"
   ]
  },
  {
   "cell_type": "code",
   "execution_count": null,
   "metadata": {},
   "outputs": [],
   "source": [
    "\n",
    "def normalize(map):    \n",
    "    return (map - map.min())/ (map.max()-map.min())\n",
    "    \n",
    "to_imger = transforms.ToPILImage()\n",
    "\n",
    "for (image, label ) in train_dataset:\n",
    "    print(image.shape, label.shape)\n",
    "    \n",
    "    \n",
    "    \n",
    "    image = to_imger(normalize(image))\n",
    "    \n",
    "    break"
   ]
  },
  {
   "cell_type": "code",
   "execution_count": null,
   "metadata": {},
   "outputs": [],
   "source": [
    "for idx in range(5):\n",
    "    show_imgs([label[idx,:,:]],[1])\n",
    "    "
   ]
  },
  {
   "cell_type": "markdown",
   "metadata": {},
   "source": [
    "## check out the test subset "
   ]
  },
  {
   "cell_type": "code",
   "execution_count": null,
   "metadata": {},
   "outputs": [],
   "source": [
    "test_dataset = Mydataset(root_path='data/BSDS-RIND/BSDS-RIND/Augmentation/', split='test', crop_size=320)\n",
    "for img in test_dataset:\n",
    "    img = to_imger(normalize(img))\n",
    "    break\n",
    "\n"
   ]
  },
  {
   "cell_type": "code",
   "execution_count": null,
   "metadata": {},
   "outputs": [],
   "source": []
  },
  {
   "cell_type": "code",
   "execution_count": null,
   "metadata": {},
   "outputs": [],
   "source": [
    "test_dataset = MydatasetTest(root_path='data/BSDS-RIND/BSDS-RIND/Augmentation/')\n",
    "for img,labels in test_dataset:\n",
    "    img = to_imger(normalize(img))\n",
    "    show_imgs(labels,[1]*len(labels))\n",
    "    break"
   ]
  },
  {
   "cell_type": "code",
   "execution_count": null,
   "metadata": {},
   "outputs": [],
   "source": [
    "\n",
    "labels.unique()"
   ]
  },
  {
   "cell_type": "code",
   "execution_count": null,
   "metadata": {},
   "outputs": [],
   "source": [
    "label_list = test_dataset.getitem_label(0)\n",
    "\n",
    "def __and(array_list,dim=-1):\n",
    "    first = array_list[0]\n",
    "    for rest in array_list[1:]:\n",
    "        first = first| rest \n",
    "        \n",
    "    return first\n",
    "    \n",
    "    \n",
    "show_imgs([__and(label_list[1:])],[1],[\"fine-grained edge merge\"],fontsize = 10)\n",
    "show_imgs([label_list[0]],[1],[\"generic edge merge\"],fontsize = 10)"
   ]
  },
  {
   "cell_type": "code",
   "execution_count": null,
   "metadata": {},
   "outputs": [],
   "source": [
    "for l in label_list:\n",
    "    show_imgs([l],[1])"
   ]
  },
  {
   "cell_type": "code",
   "execution_count": null,
   "metadata": {},
   "outputs": [],
   "source": []
  },
  {
   "cell_type": "code",
   "execution_count": null,
   "metadata": {},
   "outputs": [],
   "source": []
  },
  {
   "cell_type": "markdown",
   "metadata": {},
   "source": [
    "## check the train set of generic edge dataloader "
   ]
  },
  {
   "cell_type": "code",
   "execution_count": null,
   "metadata": {},
   "outputs": [],
   "source": [
    "from dataloaders.datasets.bsds_hd5_dim1 import Mydataset\n",
    "data_path='/home/DISCOVER_summer2022/xusc/exp/Cerberus-main/data/BSDS-RIND/BSDS-RIND-Edge/Augmentation'\n",
    "crop_size=640\n",
    "\n",
    "train_dataset = Mydataset(root_path=data_path, split='trainval', crop_size=crop_size)\n",
    "\n",
    "test_dataset = Mydataset(root_path=data_path, split='test', crop_size=crop_size)\n",
    "\n"
   ]
  },
  {
   "cell_type": "code",
   "execution_count": null,
   "metadata": {},
   "outputs": [],
   "source": [
    "to_imger = transforms.ToPILImage()\n",
    "for imgs,labels in train_dataset:\n",
    "    imgs = to_imger(normalize(imgs))\n",
    "    break\n",
    "    "
   ]
  },
  {
   "cell_type": "code",
   "execution_count": null,
   "metadata": {},
   "outputs": [],
   "source": [
    "\n",
    "show_imgs([labels],[1])"
   ]
  },
  {
   "cell_type": "code",
   "execution_count": null,
   "metadata": {},
   "outputs": [],
   "source": [
    "imgs"
   ]
  }
 ],
 "metadata": {
  "kernelspec": {
   "display_name": "Python 3 (ipykernel)",
   "language": "python",
   "name": "python3"
  },
  "language_info": {
   "codemirror_mode": {
    "name": "ipython",
    "version": 3
   },
   "file_extension": ".py",
   "mimetype": "text/x-python",
   "name": "python",
   "nbconvert_exporter": "python",
   "pygments_lexer": "ipython3",
   "version": "3.8.13"
  }
 },
 "nbformat": 4,
 "nbformat_minor": 2
}
