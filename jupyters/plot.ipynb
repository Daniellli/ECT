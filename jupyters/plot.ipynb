{
 "cells": [
  {
   "cell_type": "code",
   "execution_count": 1,
   "metadata": {},
   "outputs": [
    {
     "name": "stderr",
     "output_type": "stream",
     "text": [
      "\n",
      "Bad key text.latex.preview in file /home/DISCOVER_summer2022/xusc/.conda/envs/uav/lib/python3.7/site-packages/matplotlib/mpl-data/stylelib/_classic_test.mplstyle, line 123 ('text.latex.preview : False')\n",
      "You probably need to get an updated matplotlibrc file from\n",
      "https://github.com/matplotlib/matplotlib/blob/v3.5.1/matplotlibrc.template\n",
      "or from the matplotlib source distribution\n",
      "\n",
      "Bad key mathtext.fallback_to_cm in file /home/DISCOVER_summer2022/xusc/.conda/envs/uav/lib/python3.7/site-packages/matplotlib/mpl-data/stylelib/_classic_test.mplstyle, line 155 ('mathtext.fallback_to_cm : True  # When True, use symbols from the Computer Modern')\n",
      "You probably need to get an updated matplotlibrc file from\n",
      "https://github.com/matplotlib/matplotlib/blob/v3.5.1/matplotlibrc.template\n",
      "or from the matplotlib source distribution\n",
      "\n",
      "Bad key savefig.jpeg_quality in file /home/DISCOVER_summer2022/xusc/.conda/envs/uav/lib/python3.7/site-packages/matplotlib/mpl-data/stylelib/_classic_test.mplstyle, line 418 ('savefig.jpeg_quality: 95       # when a jpeg is saved, the default quality parameter.')\n",
      "You probably need to get an updated matplotlibrc file from\n",
      "https://github.com/matplotlib/matplotlib/blob/v3.5.1/matplotlibrc.template\n",
      "or from the matplotlib source distribution\n",
      "\n",
      "Bad key keymap.all_axes in file /home/DISCOVER_summer2022/xusc/.conda/envs/uav/lib/python3.7/site-packages/matplotlib/mpl-data/stylelib/_classic_test.mplstyle, line 466 ('keymap.all_axes : a                 # enable all axes')\n",
      "You probably need to get an updated matplotlibrc file from\n",
      "https://github.com/matplotlib/matplotlib/blob/v3.5.1/matplotlibrc.template\n",
      "or from the matplotlib source distribution\n",
      "\n",
      "Bad key animation.avconv_path in file /home/DISCOVER_summer2022/xusc/.conda/envs/uav/lib/python3.7/site-packages/matplotlib/mpl-data/stylelib/_classic_test.mplstyle, line 477 ('animation.avconv_path: avconv     # Path to avconv binary. Without full path')\n",
      "You probably need to get an updated matplotlibrc file from\n",
      "https://github.com/matplotlib/matplotlib/blob/v3.5.1/matplotlibrc.template\n",
      "or from the matplotlib source distribution\n",
      "\n",
      "Bad key animation.avconv_args in file /home/DISCOVER_summer2022/xusc/.conda/envs/uav/lib/python3.7/site-packages/matplotlib/mpl-data/stylelib/_classic_test.mplstyle, line 479 ('animation.avconv_args:            # Additional arguments to pass to avconv')\n",
      "You probably need to get an updated matplotlibrc file from\n",
      "https://github.com/matplotlib/matplotlib/blob/v3.5.1/matplotlibrc.template\n",
      "or from the matplotlib source distribution\n"
     ]
    }
   ],
   "source": [
    "'''\n",
    "Author: daniel\n",
    "Date: 2023-02-20 20:23:29\n",
    "LastEditTime: 2023-02-20 20:27:07\n",
    "LastEditors: daniel\n",
    "Description: \n",
    "FilePath: /Cerberus-main/jupyters/nyud3.ipynb\n",
    "have a nice day\n",
    "'''\n",
    "\n",
    "# !pip install ipykernel\n",
    "\n",
    "import os \n",
    "os.chdir('/home/DISCOVER_summer2022/xusc/exp/Cerberus-main')\n",
    "import matplotlib.pyplot as plt\n",
    "import numpy as np \n",
    "import cv2\n",
    "import torchvision.transforms as transforms\n",
    "from utils import  * \n",
    "from PIL import Image\n",
    "import math\n",
    "from os.path import split,join,exists\n",
    "#* initial\n",
    "# plt.rcParams['figure.figsize'] = (8.0, 2.0) # 设置figure_size尺寸\n",
    "# plt.rcParams['image.interpolation'] = 'nearest' # 设置 interpolation style\n",
    "# plt.rcParams['image.cmap'] = 'gray' # 设置 颜色 style\n",
    "plt.rcParams['savefig.dpi'] = 300 #图片像素\n",
    "plt.rcParams['figure.dpi'] = 300 #分辨率\n",
    "# 默认的像素：[6.0,4.0]，分辨率为100，图片尺寸为 600&400\n",
    "\n",
    "\n"
   ]
  },
  {
   "cell_type": "code",
   "execution_count": 5,
   "metadata": {},
   "outputs": [],
   "source": [
    "path = '/home/DISCOVER_summer2022/xusc/exp/Cerberus-main/plot'\n",
    "eval_dirs=[join(path,x) for x in os.listdir(path) if x.startswith('eval_')]\n"
   ]
  },
  {
   "attachments": {},
   "cell_type": "markdown",
   "metadata": {},
   "source": [
    "## change the 'RINDNet-ResNet50' to 'RINDNet'"
   ]
  },
  {
   "cell_type": "code",
   "execution_count": 1,
   "metadata": {},
   "outputs": [],
   "source": [
    "\n",
    "import glob \n",
    "import sys\n",
    "def cp_file():\n",
    "    for d in eval_dirs:\n",
    "        need_to_change_files = glob.glob(join(d,\"RINDNet-ResNet50*\"))\n",
    "\n",
    "\n",
    "        for f in need_to_change_files:    \n",
    "            # print(f,f.replace('-ResNet50',''))\n",
    "            \n",
    "            command = f\"cp {f} {f.replace('-ResNet50','')}\"\n",
    "            print(command)\n",
    "\n",
    "            os.system(command)\n",
    "\n",
    "        \n",
    "\n",
    "    \n"
   ]
  },
  {
   "attachments": {},
   "cell_type": "markdown",
   "metadata": {},
   "source": [
    "## plot NYUDv2  normal and depth edge  "
   ]
  },
  {
   "cell_type": "code",
   "execution_count": 3,
   "metadata": {},
   "outputs": [],
   "source": [
    "from dataloaders.datasets.nyud3 import Nyud3\n",
    "\n",
    "datasets = Nyud3()"
   ]
  },
  {
   "cell_type": "code",
   "execution_count": 4,
   "metadata": {},
   "outputs": [
    {
     "name": "stderr",
     "output_type": "stream",
     "text": [
      " 16%|█▌        | 104/654 [00:12<01:16,  7.23it/s]"
     ]
    }
   ],
   "source": [
    "from tqdm import tqdm\n",
    "def resize(img):\n",
    "    return img[45:471, 41:601] #* (426,560)\n",
    "\n",
    "save_dir = 'logs/nyudv2_egde_qualitative_results'\n",
    "\n",
    "make_dir(save_dir)\n",
    "plt.rcParams['figure.figsize'] = ( 18.0,5.0) # 设置figure_size尺寸\n",
    "plt.rcParams['savefig.dpi'] = 100 #图片像素\n",
    "plt.rcParams['figure.dpi'] = 100 #分辨率\n",
    "\n",
    "for idx in tqdm(range(datasets.__len__())):\n",
    "    image,label,edge,depth_map,depth_edge,normal_map,normal_edge,name =datasets.getitem_all(idx)\n",
    "    save_path = join(save_dir,name)\n",
    "    if not exists(save_path):\n",
    "        show_imgs([resize(image),resize(normal_edge),resize(depth_edge)],[0,1,1],['origin image','normal edge','depth edge'],img_name=save_path)\n",
    "        \n",
    "    "
   ]
  },
  {
   "cell_type": "code",
   "execution_count": null,
   "metadata": {},
   "outputs": [],
   "source": [
    "\n",
    "\n",
    "all_names = [x for x in os.listdir(save_dir) if x.endswith('png')]\n",
    "\n",
    "\n",
    "num_imgs = len(all_names)\n",
    "\n",
    "num_imgs//5\n",
    "\n",
    "\n",
    "\n",
    "# for name in all_names:\n",
    "#     a = imread(join(save_dir,name))\n",
    "\n",
    "    \n",
    "\n"
   ]
  },
  {
   "cell_type": "code",
   "execution_count": null,
   "metadata": {},
   "outputs": [],
   "source": []
  },
  {
   "cell_type": "code",
   "execution_count": null,
   "metadata": {},
   "outputs": [],
   "source": []
  }
 ],
 "metadata": {
  "kernelspec": {
   "display_name": "uav",
   "language": "python",
   "name": "python3"
  },
  "language_info": {
   "codemirror_mode": {
    "name": "ipython",
    "version": 3
   },
   "file_extension": ".py",
   "mimetype": "text/x-python",
   "name": "python",
   "nbconvert_exporter": "python",
   "pygments_lexer": "ipython3",
   "version": "3.7.13"
  },
  "orig_nbformat": 4,
  "vscode": {
   "interpreter": {
    "hash": "089b87feee1dc9e94ffa84a30284f38885f34cd4dd7b5b278d97b1d9745ef93a"
   }
  }
 },
 "nbformat": 4,
 "nbformat_minor": 2
}
